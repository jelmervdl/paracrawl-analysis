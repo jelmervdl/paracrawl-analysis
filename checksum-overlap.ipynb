{
 "cells": [
  {
   "cell_type": "code",
   "execution_count": 60,
   "metadata": {
    "tags": []
   },
   "outputs": [
    {
     "name": "stderr",
     "output_type": "stream",
     "text": [
      "/Users/jelmer/Workspace/statmt/tmxutil/tmxutil.py:38: TqdmExperimentalWarning: Using `tqdm.autonotebook.tqdm` in notebook mode. Use `tqdm.tqdm` instead to force console mode (e.g. in jupyter console)\n",
      "  from tqdm.autonotebook import tqdm\n"
     ]
    }
   ],
   "source": [
    "import site\n",
    "site.addsitedir('../tmxutil')\n",
    "from tmxutil import make_reader, TranslationUnit, TranslationUnitVariant\n",
    "import unidecode\n",
    "import string\n",
    "from xxhash import xxh64\n",
    "from notebook import table, first\n",
    "from tqdm.autonotebook import tqdm\n",
    "from logging import getLogger, ERROR\n",
    "getLogger().setLevel(ERROR) # Hide warnings while importing\n",
    "\n",
    "def checksum(unit):\n",
    "    return xxh64(\"\\t\".join(\n",
    "        unidecode.unidecode(translation.text.lower().replace(\" \", \"\").translate(str.maketrans('', '', string.punctuation + string.digits)))\n",
    "        for translation in unit.translations.values())).hexdigest()\n",
    "\n",
    "def read(filename):\n",
    "    with open(filename, 'rb') as fh:\n",
    "        for unit in make_reader(fh, progress=True):\n",
    "            yield unit"
   ]
  },
  {
   "cell_type": "code",
   "execution_count": 61,
   "metadata": {},
   "outputs": [],
   "source": [
    "files = {\n",
    "    'paracrawl-7.1': 'en-mt.tmx.gz',\n",
    "    'paracrawl-8': 'en-mt.cc-2016-30-cc-2017-30-cc-2018-30-cc-2019-18-cc-2019-35-gwb-hieu-marta-philipp-wide00006-wide00015.tmx.gz'\n",
    "}"
   ]
  },
  {
   "cell_type": "code",
   "execution_count": 62,
   "metadata": {},
   "outputs": [
    {
     "data": {
      "application/vnd.jupyter.widget-view+json": {
       "model_id": "586957ffc2f74683b62a3642615a081c",
       "version_major": 2,
       "version_minor": 0
      },
      "text/plain": [
       "en-mt.tmx.gz:   0%|          | 0.00/197M [00:00<?, ?b/s]"
      ]
     },
     "metadata": {},
     "output_type": "display_data"
    },
    {
     "data": {
      "application/vnd.jupyter.widget-view+json": {
       "model_id": "ded9c0d04b274ae68e8c2e9bab52ab93",
       "version_major": 2,
       "version_minor": 0
      },
      "text/plain": [
       "en-mt.cc-2016-30-cc-2017-30-cc-2018-30-cc-2019-18-cc-2019-35-gwb-hieu-marta-philipp-wide00006-wide00015.tmx.gz…"
      ]
     },
     "metadata": {},
     "output_type": "display_data"
    }
   ],
   "source": [
    "hashes = {\n",
    "    release: frozenset(checksum(unit) for unit in read(filename))\n",
    "    for release, filename in files.items()\n",
    "}"
   ]
  },
  {
   "cell_type": "markdown",
   "metadata": {},
   "source": [
    "# Overlap between releases\n",
    "How many sentence pairs are in one while not in the other, and how many are in both?"
   ]
  },
  {
   "cell_type": "code",
   "execution_count": 63,
   "metadata": {},
   "outputs": [
    {
     "data": {
      "text/plain": [
       "0.18467959367509593"
      ]
     },
     "execution_count": 63,
     "metadata": {},
     "output_type": "execute_result"
    }
   ],
   "source": [
    "len(hashes['paracrawl-7.1'] & hashes['paracrawl-8']) / len(hashes['paracrawl-8']) # Overlap"
   ]
  },
  {
   "cell_type": "code",
   "execution_count": 64,
   "metadata": {},
   "outputs": [
    {
     "data": {
      "text/plain": [
       "0.8153204063249041"
      ]
     },
     "execution_count": 64,
     "metadata": {},
     "output_type": "execute_result"
    }
   ],
   "source": [
    "len(hashes['paracrawl-8'] - hashes['paracrawl-7.1']) / len(hashes['paracrawl-8']) # Novel"
   ]
  },
  {
   "cell_type": "code",
   "execution_count": 65,
   "metadata": {},
   "outputs": [
    {
     "data": {
      "text/plain": [
       "0.6543089586479063"
      ]
     },
     "execution_count": 65,
     "metadata": {},
     "output_type": "execute_result"
    }
   ],
   "source": [
    "len(hashes['paracrawl-7.1'] - hashes['paracrawl-8']) / len(hashes['paracrawl-7.1']) # Lost"
   ]
  },
  {
   "cell_type": "markdown",
   "metadata": {},
   "source": [
    "Okay, so about 65% of all sentence pairs in 7.1 do not return in 8? Why? Are these from domains that we marked as likely MT? Are they low quality?"
   ]
  },
  {
   "cell_type": "code",
   "execution_count": 66,
   "metadata": {},
   "outputs": [
    {
     "data": {
      "application/vnd.jupyter.widget-view+json": {
       "model_id": "8116c6b67e504e49976473c8265207ed",
       "version_major": 2,
       "version_minor": 0
      },
      "text/plain": [
       "en-mt.tmx.gz:   0%|          | 0.00/197M [00:00<?, ?b/s]"
      ]
     },
     "metadata": {},
     "output_type": "display_data"
    }
   ],
   "source": [
    "from stats import RandomSample\n",
    "from collections import Counter\n",
    "import re\n",
    "\n",
    "def domain(url):\n",
    "    \"\"\"Take the (very broadly defined) domain part of an url, or return the\n",
    "    full url if that didn't work.\"\"\"\n",
    "    match = re.match(r'^(https?:)?(//)?(?P<domain>[^/]+)', url)\n",
    "    return match.group('domain')\n",
    "\n",
    "lost_hashes = hashes['paracrawl-7.1'] - hashes['paracrawl-8']\n",
    "\n",
    "sample = RandomSample(1000)\n",
    "\n",
    "domains = Counter()\n",
    "\n",
    "collections_overall = Counter()\n",
    "\n",
    "collections_missing = Counter()\n",
    "\n",
    "for unit in read(files['paracrawl-7.1']):\n",
    "    collections_overall.update(unit['collection'])\n",
    "    if checksum(unit) in lost_hashes:\n",
    "        collections_missing.update(unit['collection'])\n",
    "        sample.add(unit)\n",
    "        for translation in unit.translations.values():\n",
    "            domains.update(domain(url) for url in translation['source-document'])"
   ]
  },
  {
   "cell_type": "code",
   "execution_count": 8,
   "metadata": {},
   "outputs": [],
   "source": [
    "import notebook\n",
    "import importlib\n",
    "notebook = importlib.reload(notebook)\n",
    "table = notebook.table"
   ]
  },
  {
   "cell_type": "code",
   "execution_count": 67,
   "metadata": {},
   "outputs": [
    {
     "ename": "TypeError",
     "evalue": "'RandomSample' object is not subscriptable",
     "output_type": "error",
     "traceback": [
      "\u001b[0;31m---------------------------------------------------------------------------\u001b[0m",
      "\u001b[0;31mTypeError\u001b[0m                                 Traceback (most recent call last)",
      "\u001b[0;32m<ipython-input-67-e2aa61ba4fd1>\u001b[0m in \u001b[0;36m<module>\u001b[0;34m\u001b[0m\n\u001b[1;32m      3\u001b[0m     \u001b[0;34m'collection'\u001b[0m\u001b[0;34m:\u001b[0m \u001b[0munit\u001b[0m\u001b[0;34m[\u001b[0m\u001b[0;34m'collection'\u001b[0m\u001b[0;34m]\u001b[0m\u001b[0;34m,\u001b[0m\u001b[0;34m\u001b[0m\u001b[0;34m\u001b[0m\u001b[0m\n\u001b[1;32m      4\u001b[0m     \u001b[0;34m**\u001b[0m\u001b[0;34m{\u001b[0m\u001b[0mlang\u001b[0m\u001b[0;34m:\u001b[0m \u001b[0mtranslation\u001b[0m\u001b[0;34m.\u001b[0m\u001b[0mtext\u001b[0m \u001b[0;32mfor\u001b[0m \u001b[0mlang\u001b[0m\u001b[0;34m,\u001b[0m \u001b[0mtranslation\u001b[0m \u001b[0;32min\u001b[0m \u001b[0munit\u001b[0m\u001b[0;34m.\u001b[0m\u001b[0mtranslations\u001b[0m\u001b[0;34m.\u001b[0m\u001b[0mitems\u001b[0m\u001b[0;34m(\u001b[0m\u001b[0;34m)\u001b[0m\u001b[0;34m}\u001b[0m\u001b[0;34m\u001b[0m\u001b[0;34m\u001b[0m\u001b[0m\n\u001b[0;32m----> 5\u001b[0;31m } for unit in sample[:100])\n\u001b[0m",
      "\u001b[0;31mTypeError\u001b[0m: 'RandomSample' object is not subscriptable"
     ]
    }
   ],
   "source": [
    "table({\n",
    "    'score': first(unit['score-bicleaner']),\n",
    "    'collection': unit['collection'],\n",
    "    **{lang: translation.text for lang, translation in unit.translations.items()}\n",
    "} for unit in sample[:100])"
   ]
  },
  {
   "cell_type": "markdown",
   "metadata": {},
   "source": [
    "# Missing Collections\n",
    "Is it maybe a particular collection that is missing?\n"
   ]
  },
  {
   "cell_type": "code",
   "execution_count": 10,
   "metadata": {},
   "outputs": [
    {
     "data": {
      "text/html": [
       "<table><thead><tr><th>collection</th><th>count</th></tr></thead><tbody><tr><td>wide00006</td><td>59626</td></tr>\n",
       "<tr><td>hieu</td><td>181729</td></tr>\n",
       "<tr><td>philipp</td><td>613267</td></tr>\n",
       "<tr><td>wide00006-pdf</td><td>26406</td></tr>\n",
       "<tr><td>wide00015</td><td>33655</td></tr></tbody></table>"
      ],
      "text/plain": [
       "<notebook.table at 0x11de0beb0>"
      ]
     },
     "execution_count": 10,
     "metadata": {},
     "output_type": "execute_result"
    }
   ],
   "source": [
    "table(collections_overall.items(), headers=['collection', 'count'])"
   ]
  },
  {
   "cell_type": "code",
   "execution_count": 11,
   "metadata": {},
   "outputs": [
    {
     "data": {
      "text/html": [
       "<table><thead><tr><th>collection</th><th>count</th></tr></thead><tbody><tr><td>wide00006</td><td>54425</td></tr>\n",
       "<tr><td>hieu</td><td>126298</td></tr>\n",
       "<tr><td>philipp</td><td>375491</td></tr>\n",
       "<tr><td>wide00006-pdf</td><td>24841</td></tr>\n",
       "<tr><td>wide00015</td><td>14459</td></tr></tbody></table>"
      ],
      "text/plain": [
       "<notebook.table at 0x119cfaaf0>"
      ]
     },
     "execution_count": 11,
     "metadata": {},
     "output_type": "execute_result"
    }
   ],
   "source": [
    "table(collections_missing.items(), headers=['collection', 'count'])"
   ]
  },
  {
   "cell_type": "code",
   "execution_count": 12,
   "metadata": {},
   "outputs": [
    {
     "data": {
      "text/html": [
       "<table><thead><tr><th>collection</th><th>percentage</th><th>records</th><th>total</th></tr></thead><tbody><tr><td>philipp</td><td>61.2%</td><td>375491</td><td>613267</td></tr>\n",
       "<tr><td>hieu</td><td>69.5%</td><td>126298</td><td>181729</td></tr>\n",
       "<tr><td>wide00006</td><td>91.3%</td><td>54425</td><td>59626</td></tr>\n",
       "<tr><td>wide00015</td><td>43.0%</td><td>14459</td><td>33655</td></tr>\n",
       "<tr><td>wide00006-pdf</td><td>94.1%</td><td>24841</td><td>26406</td></tr></tbody></table>"
      ],
      "text/plain": [
       "<notebook.table at 0x119cfaa90>"
      ]
     },
     "execution_count": 12,
     "metadata": {},
     "output_type": "execute_result"
    }
   ],
   "source": [
    "from operator import itemgetter\n",
    "table({\n",
    "    'collection': collection,\n",
    "    'percentage': '{:0.1f}%'.format(100 * collections_missing[collection] / count),\n",
    "    'records': collections_missing[collection],\n",
    "    'total': count\n",
    "} for collection, count in sorted(collections_overall.items(), key=itemgetter(1), reverse=True))"
   ]
  },
  {
   "cell_type": "markdown",
   "metadata": {},
   "source": [
    "Hmm, correct, pdfs haven't been processed for this release. Philipp has been processed with a different pipeline. But I have no plausible explanation for Hieu or wide00006/15 in terms of processing. Maybe MT filter?"
   ]
  },
  {
   "cell_type": "markdown",
   "metadata": {},
   "source": [
    "# Missing web domains\n",
    "Is there anything particular about the missing sentence pairs? Maybe they're all from domains that got filtered because of MT?"
   ]
  },
  {
   "cell_type": "code",
   "execution_count": 13,
   "metadata": {},
   "outputs": [
    {
     "data": {
      "text/html": [
       "<table><thead><tr><th>domain</th><th>count</th></tr></thead><tbody><tr><td>http://straightpoint.com/</td><td>481378</td></tr>\n",
       "<tr><td>http://www.welcome-to-barcelona.com/</td><td>195795</td></tr>\n",
       "<tr><td>http://www.straightpoint.com/</td><td>151848</td></tr>\n",
       "<tr><td>http://transposh.org/</td><td>151056</td></tr>\n",
       "<tr><td>http://2fish.co/</td><td>113978</td></tr>\n",
       "<tr><td>http://builttobrag.com/</td><td>112523</td></tr>\n",
       "<tr><td>http://www.outlookimport.com/</td><td>102456</td></tr>\n",
       "<tr><td>http://blog.simmakers.com/</td><td>98508</td></tr>\n",
       "<tr><td>http://www.conex.net/</td><td>88135</td></tr>\n",
       "<tr><td>http://therefugeecenter.org/</td><td>85340</td></tr>\n",
       "<tr><td>http://www.sinsdementia.com/</td><td>84026</td></tr>\n",
       "<tr><td>http://skolarbete.nu/</td><td>82326</td></tr>\n",
       "<tr><td>http://satellite-tv.top3selections.com/</td><td>66400</td></tr>\n",
       "<tr><td>http://www.ecb.int/</td><td>66287</td></tr>\n",
       "<tr><td>http://www.yourwebdoc.org/</td><td>61823</td></tr></tbody></table>"
      ],
      "text/plain": [
       "<notebook.table at 0x11de0bdc0>"
      ]
     },
     "execution_count": 13,
     "metadata": {},
     "output_type": "execute_result"
    }
   ],
   "source": [
    "table({\n",
    "    'domain': f\"http://{domain_name}/\",\n",
    "    'count': count\n",
    "} for domain_name, count in domains.most_common(15))"
   ]
  },
  {
   "cell_type": "markdown",
   "metadata": {},
   "source": [
    "Okay I'm not going to do this by hand let's quickly implement something that matches the behaviour of warc2text's mt filter, import our filter list, and *make the assumption the page we processed is the same as the page that is online today*."
   ]
  },
  {
   "cell_type": "code",
   "execution_count": 14,
   "metadata": {
    "tags": []
   },
   "outputs": [],
   "source": [
    "with open('mt-filter-list.txt', 'r') as fh:\n",
    "    mt_filter_list = fh.read()"
   ]
  },
  {
   "cell_type": "code",
   "execution_count": 15,
   "metadata": {},
   "outputs": [],
   "source": [
    "from bs4 import BeautifulSoup\n",
    "from urllib.request import urlopen\n",
    "\n",
    "def check_for_mt(url, filter_list):\n",
    "    with urlopen(url, timeout=10) as fh:\n",
    "        data = fh.read(5 * 1024 * 1024) # limit to 5mb\n",
    "        soup = BeautifulSoup(data, 'html.parser')\n",
    "        \n",
    "        for line in filter_list.split('\\n'):\n",
    "            if line.startswith('#') or line.strip() == '':\n",
    "                continue\n",
    "            elment, attribute, pattern = line.split('\\t')\n",
    "            if soup.find_all(elment, attrs={attribute: re.compile(pattern)}):\n",
    "                return line, fh.url\n",
    "        return None, fh.url"
   ]
  },
  {
   "cell_type": "code",
   "execution_count": 16,
   "metadata": {},
   "outputs": [
    {
     "data": {
      "text/plain": [
       "(\"a\\tonclick\\tdoGTranslate\\\\(\\\\'.{2}\\\\|.{2}\\\\'\\\\)\",\n",
       " 'https://straightpoint.com/')"
      ]
     },
     "execution_count": 16,
     "metadata": {},
     "output_type": "execute_result"
    }
   ],
   "source": [
    "check_for_mt('http://straightpoint.com/', mt_filter_list)"
   ]
  },
  {
   "cell_type": "markdown",
   "metadata": {},
   "source": [
    "So let's first look at the top 30 missing domains"
   ]
  },
  {
   "cell_type": "code",
   "execution_count": 17,
   "metadata": {},
   "outputs": [
    {
     "data": {
      "text/html": [
       "<table><thead><tr><th>domain</th><th>count</th><th>matched filter</th></tr></thead><tbody><tr><td>https://straightpoint.com/</td><td>481378</td><td>a\tonclick\tdoGTranslate\\(\\&#x27;.{2}\\|.{2}\\&#x27;\\)</td></tr>\n",
       "<tr><td>http://www.welcome-to-barcelona.com/</td><td>195795</td><td><em>None</em></td></tr>\n",
       "<tr><td>https://www.straightpoint.com/</td><td>151848</td><td>a\tonclick\tdoGTranslate\\(\\&#x27;.{2}\\|.{2}\\&#x27;\\)</td></tr>\n",
       "<tr><td>http://transposh.org/</td><td>151056</td><td>meta\tname\ttranslation-stats</td></tr>\n",
       "<tr><td>https://2fish.co/</td><td>113978</td><td><em>None</em></td></tr>\n",
       "<tr><td>https://builttobrag.com/</td><td>112523</td><td><em>None</em></td></tr>\n",
       "<tr><td>https://www.outlookimport.com/</td><td>102456</td><td><em>None</em></td></tr>\n",
       "<tr><td>https://blog.simmakers.com/</td><td>98508</td><td><em>None</em></td></tr>\n",
       "<tr><td>https://www.conex.net/</td><td>88135</td><td><em>None</em></td></tr>\n",
       "<tr><td>http://therefugeecenter.org</td><td>85340</td><td>HTTP Error 502: Bad Gateway</td></tr>\n",
       "<tr><td>https://sinsdementia.com/</td><td>84026</td><td><em>None</em></td></tr>\n",
       "<tr><td>http://skolarbete.nu</td><td>82326</td><td>HTTP Error 500: Internal Server Error</td></tr>\n",
       "<tr><td>https://www.buydomains.com/lander/top3selections.com?domain=top3selections.com&amp;utm_source=top3selections.com&amp;utm_medium=click&amp;utm_campaign=tdfs-AprTest&amp;traffic_id=AprTest&amp;traffic_type=tdfs&amp;redirect=ono-redirect</td><td>66400</td><td><em>None</em></td></tr>\n",
       "<tr><td>https://www.ecb.europa.eu/home/html/index.en.html</td><td>66287</td><td><em>None</em></td></tr>\n",
       "<tr><td>https://www.yourwebdoc.org/</td><td>61823</td><td><em>None</em></td></tr>\n",
       "<tr><td>https://mail.straightpoint.com/</td><td>58404</td><td>a\tonclick\tdoGTranslate\\(\\&#x27;.{2}\\|.{2}\\&#x27;\\)</td></tr>\n",
       "<tr><td>http://www.federacionfotovasca.org/</td><td>52036</td><td><em>None</em></td></tr>\n",
       "<tr><td>https://educationbro.com/</td><td>50142</td><td><em>None</em></td></tr>\n",
       "<tr><td>http://www.byvisiontech.com</td><td>43041</td><td>HTTP Error 403: Forbidden</td></tr>\n",
       "<tr><td>https://www.metric-conversions.org/</td><td>40940</td><td><em>None</em></td></tr>\n",
       "<tr><td>http://mt.byvisiontech.com</td><td>40275</td><td>HTTP Error 403: Forbidden</td></tr>\n",
       "<tr><td>http://ukraine.admission.center/</td><td>38972</td><td><em>None</em></td></tr>\n",
       "<tr><td>http://www.cnimalta.org</td><td>38902</td><td>HTTP Error 404: Not Found</td></tr>\n",
       "<tr><td>http://www.blogprinvizor.ro/</td><td>37589</td><td><em>None</em></td></tr>\n",
       "<tr><td>https://eur-lex.europa.eu/</td><td>37281</td><td><em>None</em></td></tr>\n",
       "<tr><td>http://www.muhammad.com/</td><td>35786</td><td><em>None</em></td></tr>\n",
       "<tr><td>http://www.parisdakar.it/</td><td>35438</td><td><em>None</em></td></tr>\n",
       "<tr><td>https://knisja.mt/</td><td>34606</td><td><em>None</em></td></tr>\n",
       "<tr><td>http://www.infinitecosmos.info/</td><td>32996</td><td><em>None</em></td></tr>\n",
       "<tr><td>http://forexindicatorsdownload.com</td><td>32272</td><td>&lt;urlopen error [Errno 8] nodename nor servname provided, or not known&gt;</td></tr></tbody></table>"
      ],
      "text/plain": [
       "<notebook.table at 0x11e16ef40>"
      ]
     },
     "execution_count": 17,
     "metadata": {},
     "output_type": "execute_result"
    }
   ],
   "source": [
    "def check_domains(n):\n",
    "    for domain_name, count in domains.most_common(n):\n",
    "        try:\n",
    "            hit, url = check_for_mt(f\"http://{domain_name}/\", mt_filter_list)\n",
    "        except Exception as e:\n",
    "            hit, url = str(e), f'http://{domain_name}'\n",
    "        yield url, count, hit\n",
    "\n",
    "table(check_domains(30), headers=['domain', 'count', 'matched filter'])"
   ]
  },
  {
   "cell_type": "markdown",
   "metadata": {},
   "source": [
    "Of course, we're not targeting home pages in our sentence pairs, but lower level pages. I'm going to use the sampled sentence pairs and look at their urls."
   ]
  },
  {
   "cell_type": "code",
   "execution_count": 18,
   "metadata": {},
   "outputs": [
    {
     "data": {
      "application/vnd.jupyter.widget-view+json": {
       "model_id": "9e2f210742ec4e60bef5159a8109de8b",
       "version_major": 2,
       "version_minor": 0
      },
      "text/plain": [
       "  0%|          | 0/100 [00:00<?, ?it/s]"
      ]
     },
     "metadata": {},
     "output_type": "display_data"
    }
   ],
   "source": [
    "def check_unit_for_mt(unit):\n",
    "    error = None\n",
    "    \n",
    "    for url in set().union(*(translation['source-document'] for translation in unit.translations.values())):\n",
    "        # Fix for data from philipp and hieu collections: urls have no prefix.\n",
    "        if not url.startswith('http'):\n",
    "            url = f'http://{url}'\n",
    "        \n",
    "        try:\n",
    "            hit, url = check_for_mt(url, mt_filter_list)\n",
    "            if hit:\n",
    "                return hit, url\n",
    "        except Exception as e:\n",
    "            error = str(e)\n",
    "        \n",
    "    return error, None\n",
    "\n",
    "\n",
    "checked_units = [\n",
    "    (unit, *check_unit_for_mt(unit))\n",
    "    for unit in tqdm(list(sample))\n",
    "]\n"
   ]
  },
  {
   "cell_type": "code",
   "execution_count": 19,
   "metadata": {
    "tags": []
   },
   "outputs": [
    {
     "data": {
      "text/html": [
       "<table><thead><tr><th>url</th><th>filter</th><th>collections</th></tr></thead><tbody><tr><td>myhealthbox.eu/cs/lék/potactasol/3544604</td><td>&#x27;ascii&#x27; codec can&#x27;t encode character &#x27;\\xe9&#x27; in position 9: ordinal not in range(128)</td><td><table><thead></thead><tbody><tr><td>hieu</td></tr></tbody></table></td></tr>\n",
       "<tr><td>http://skolarbete.nu/mt/skolarbeten/2008/02/page/2/</td><td>HTTP Error 500: Internal Server Error</td><td><table><thead></thead><tbody><tr><td>philipp</td></tr></tbody></table></td></tr>\n",
       "<tr><td>http://www.oil-painting-online.com/mt/symbolism-oil-painting/cao-li-oil-painting-art.html</td><td>link\trel\talternate machine-translated-from</td><td><table><thead></thead><tbody><tr><td>philipp</td></tr></tbody></table></td></tr>\n",
       "<tr><td>http://kaizenlog.com/80657ae-finance-advanced-microsoft-dynamics-nav-2015/2/</td><td>HTTP Error 403: Forbidden</td><td><table><thead></thead><tbody><tr><td>philipp</td></tr></tbody></table></td></tr>\n",
       "<tr><td>http://skolarbete.nu/mt/skolarbeten/the-dragon-reborn/</td><td>HTTP Error 500: Internal Server Error</td><td><table><thead></thead><tbody><tr><td>philipp</td></tr></tbody></table></td></tr>\n",
       "<tr><td>thechurchinmalta.org/mt/posts/47912/il-papa-jsejjah-lill-insara-sabiex-jesprimu-l-fidi-taghhom-fazzjoni</td><td><em>None</em></td><td><table><thead></thead><tbody><tr><td>hieu</td></tr></tbody></table></td></tr>\n",
       "<tr><td>http://www.internetphilippines.com/finance/ofw-loan/comment-page-1/</td><td>HTTP Error 500: Internal Server Error</td><td><table><thead></thead><tbody><tr><td>wide00006</td></tr></tbody></table></td></tr>\n",
       "<tr><td>http://www.muhammad.com/88languages/41final-koran/English/KoranEnglish.html</td><td><em>None</em></td><td><table><thead></thead><tbody><tr><td>philipp</td></tr></tbody></table></td></tr>\n",
       "<tr><td>http://beththompsonmarketing.com/custom-web-design</td><td>HTTP Error 404: Not Found</td><td><table><thead></thead><tbody><tr><td>wide00015</td></tr></tbody></table></td></tr>\n",
       "<tr><td>http://www.gfesport.com/mt/category/feature-top/</td><td>meta\tname\ttranslation-stats</td><td><table><thead></thead><tbody><tr><td>hieu</td></tr></tbody></table></td></tr>\n",
       "<tr><td>https://builttobrag.com/page/4/?lang=mt</td><td>meta\tname\ttranslation-stats</td><td><table><thead></thead><tbody><tr><td>philipp</td></tr></tbody></table></td></tr>\n",
       "<tr><td>https://mamaclub.info/mt/category/astrologiya/sonnik/</td><td>HTTP Error 403: Forbidden</td><td><table><thead></thead><tbody><tr><td>philipp</td></tr></tbody></table></td></tr>\n",
       "<tr><td>http://en.tanki.ua/race/</td><td>&lt;urlopen error [Errno 8] nodename nor servname provided, or not known&gt;</td><td><table><thead></thead><tbody><tr><td>philipp</td></tr></tbody></table></td></tr>\n",
       "<tr><td>http://www.blogprinvizor.ro/about/?lang=mt</td><td>meta\tname\ttranslation-stats</td><td><table><thead></thead><tbody><tr><td>philipp</td></tr></tbody></table></td></tr>\n",
       "<tr><td>https://builttobrag.com/the-temptation-of-jesus-teaching/?lang=mt</td><td>meta\tname\ttranslation-stats</td><td><table><thead></thead><tbody><tr><td>philipp</td></tr></tbody></table></td></tr>\n",
       "<tr><td>http://mt.summerlyquartzstone.com/quartz-colors/fine-grain-serie-quartz-stone/</td><td>HTTP Error 403: Forbidden</td><td><table><thead></thead><tbody><tr><td>philipp</td></tr></tbody></table></td></tr>\n",
       "<tr><td>http://mt.zxgame24.com/tags/lperiod/</td><td>HTTP Error 403: Forbidden</td><td><table><thead></thead><tbody><tr><td>philipp</td></tr></tbody></table></td></tr>\n",
       "<tr><td>http://www.federacionfotovasca.org/2010/06/?lang=en</td><td>HTTP Error 404: Not Found</td><td><table><thead></thead><tbody><tr><td>hieu</td></tr>\n",
       "<tr><td>philipp</td></tr></tbody></table></td></tr>\n",
       "<tr><td>https://mail.straightpoint.com/media-articles.html?;amp;amp;start=30&amp;;start=30&amp;type=114&amp;start=35</td><td>a\tonclick\tdoGTranslate\\(\\&#x27;.{2}\\|.{2}\\&#x27;\\)</td><td><table><thead></thead><tbody><tr><td>philipp</td></tr></tbody></table></td></tr>\n",
       "<tr><td>http://www.blogprinvizor.ro/tag/biserica-razboieni/?lang=mt</td><td>meta\tname\ttranslation-stats</td><td><table><thead></thead><tbody><tr><td>philipp</td></tr></tbody></table></td></tr>\n",
       "<tr><td>http://www.cnimalta.org/120407E.html</td><td>HTTP Error 404: Not Found</td><td><table><thead></thead><tbody><tr><td>hieu</td></tr>\n",
       "<tr><td>philipp</td></tr></tbody></table></td></tr>\n",
       "<tr><td>http://green-car.bafree.net/tag/water-hybrid/</td><td>HTTP Error 404: Not Found</td><td><table><thead></thead><tbody><tr><td>wide00006</td></tr></tbody></table></td></tr>\n",
       "<tr><td>thechurchinmalta.org/mt/posts/4706/january-11-1711-17-ta-jannar</td><td><em>None</em></td><td><table><thead></thead><tbody><tr><td>hieu</td></tr></tbody></table></td></tr>\n",
       "<tr><td>http://mt.glosbe.com/mk/all-dictionaries</td><td><em>None</em></td><td><table><thead></thead><tbody><tr><td>wide00006</td></tr></tbody></table></td></tr>\n",
       "<tr><td>www.conex.net/nc8/2019/mt/27.html</td><td><em>None</em></td><td><table><thead></thead><tbody><tr><td>hieu</td></tr></tbody></table></td></tr>\n",
       "<tr><td>http://forexindicatorsdownload.com/fxi-pivot-point-forex-indicator/?lang=mt</td><td>&lt;urlopen error [Errno 8] nodename nor servname provided, or not known&gt;</td><td><table><thead></thead><tbody><tr><td>philipp</td></tr></tbody></table></td></tr>\n",
       "<tr><td>http://ceowatermandate.org/resources/mandate-research-and-guidance/?lang=mt</td><td>HTTP Error 404: Not Found</td><td><table><thead></thead><tbody><tr><td>wide00006</td></tr></tbody></table></td></tr>\n",
       "<tr><td>http://zdteam.net/mt/2012/08/</td><td><em>None</em></td><td><table><thead></thead><tbody><tr><td>wide00006</td></tr></tbody></table></td></tr>\n",
       "<tr><td>http://m.byvisiontech.com/digital-hearing-aid/digital-hearing-aids-for-seniors.html</td><td>HTTP Error 403: Forbidden</td><td><table><thead></thead><tbody><tr><td>philipp</td></tr></tbody></table></td></tr>\n",
       "<tr><td>http://eur-lex.europa.eu/legal-content/EN/TXT/?uri=celex:32006L0112</td><td><em>None</em></td><td><table><thead></thead><tbody><tr><td>wide00015</td></tr></tbody></table></td></tr>\n",
       "<tr><td>https://builttobrag.com/should-we-move-on/?lang=mt</td><td>meta\tname\ttranslation-stats</td><td><table><thead></thead><tbody><tr><td>philipp</td></tr></tbody></table></td></tr>\n",
       "<tr><td>http://yatraveller.com/mt/2009/07/05/yalta-brilliant/?nggpage=2</td><td>&lt;urlopen error [Errno 8] nodename nor servname provided, or not known&gt;</td><td><table><thead></thead><tbody><tr><td>philipp</td></tr></tbody></table></td></tr>\n",
       "<tr><td>https://theforexclub.eu/mt/cfds-trading/</td><td><em>None</em></td><td><table><thead></thead><tbody><tr><td>hieu</td></tr>\n",
       "<tr><td>philipp</td></tr></tbody></table></td></tr>\n",
       "<tr><td>http://skolarbete.nu/mt/skolarbeten/nytt-24/</td><td>HTTP Error 500: Internal Server Error</td><td><table><thead></thead><tbody><tr><td>philipp</td></tr></tbody></table></td></tr>\n",
       "<tr><td>http://droidscrap.com/mt/2012/09/how-to-root-samsung-galaxy-s3-i535-and-flash-clockworkmod-recovery/</td><td><em>None</em></td><td><table><thead></thead><tbody><tr><td>wide00006</td></tr></tbody></table></td></tr>\n",
       "<tr><td>http://mt.lsherb.com/info/page/30/</td><td>HTTP Error 403: Forbidden</td><td><table><thead></thead><tbody><tr><td>philipp</td></tr></tbody></table></td></tr>\n",
       "<tr><td>http://www.bia2fa.ir/game-repair-gears/?lang=en</td><td>&lt;urlopen error [Errno 8] nodename nor servname provided, or not known&gt;</td><td><table><thead></thead><tbody><tr><td>philipp</td></tr></tbody></table></td></tr>\n",
       "<tr><td>https://theforexclub.eu/libertex-trading-f-a-q/</td><td><em>None</em></td><td><table><thead></thead><tbody><tr><td>hieu</td></tr>\n",
       "<tr><td>philipp</td></tr></tbody></table></td></tr>\n",
       "<tr><td>http://logoblink.com/euro-2012-brand-design/?replytocom=32184</td><td>HTTP Error 404: Not Found</td><td><table><thead></thead><tbody><tr><td>wide00006</td></tr></tbody></table></td></tr>\n",
       "<tr><td>http://www.ema.europa.eu/docs/mt_mt/document_library/epar_-_product_information/veterinary/000140/wc500063878.pdf</td><td><em>None</em></td><td><table><thead></thead><tbody><tr><td>wide00006-pdf</td></tr></tbody></table></td></tr>\n",
       "<tr><td>http://eur-lex.europa.eu/lexuriserv/lexuriserv.do?uri=consleg:1976l0768:20100301:en:pdf</td><td>HTTP Error 404: Not Found</td><td><table><thead></thead><tbody><tr><td>wide00006-pdf</td></tr></tbody></table></td></tr>\n",
       "<tr><td>http://mt.rejeedrilling.com/info/ways-to-extend-the-life-of-your-diamond-core-b-2621429.html</td><td>HTTP Error 500: Internal Server Error</td><td><table><thead></thead><tbody><tr><td>philipp</td></tr></tbody></table></td></tr>\n",
       "<tr><td>https://www.straightpoint.com/what-is-a-proof-test.html</td><td>a\tonclick\tdoGTranslate\\(\\&#x27;.{2}\\|.{2}\\&#x27;\\)</td><td><table><thead></thead><tbody><tr><td>philipp</td></tr></tbody></table></td></tr>\n",
       "<tr><td>https://educationbro.com/mw/universities/ukraine/zhytomyr-state-university/</td><td>meta\tname\ttranslation-stats</td><td><table><thead></thead><tbody><tr><td>philipp</td></tr></tbody></table></td></tr>\n",
       "<tr><td>www.dnsinspector.com/site-map/?toc_order=0</td><td>&lt;urlopen error timed out&gt;</td><td><table><thead></thead><tbody><tr><td>hieu</td></tr></tbody></table></td></tr>\n",
       "<tr><td>http://mt.woodenboxsupplier.com/wooden-watch-box/desktop-wooden-watch-box/page-2/</td><td>HTTP Error 403: Forbidden</td><td><table><thead></thead><tbody><tr><td>philipp</td></tr></tbody></table></td></tr>\n",
       "<tr><td>http://m.mt.eugeniaeyewear.com/lens-spray-cleaner/</td><td>&lt;urlopen error [Errno 8] nodename nor servname provided, or not known&gt;</td><td><table><thead></thead><tbody><tr><td>philipp</td></tr></tbody></table></td></tr>\n",
       "<tr><td>http://www.byvisiontech.com/hearing-aids/mini-rechargeable-digital-hearing-aids.html</td><td>HTTP Error 403: Forbidden</td><td><table><thead></thead><tbody><tr><td>philipp</td></tr></tbody></table></td></tr>\n",
       "<tr><td>http://www.welcome-to-barcelona.com/2014/03/06/5-tips-souvenir-barcelona/?gltr_lang=zh-TW</td><td>HTTP Error 404: Not Found</td><td><table><thead></thead><tbody><tr><td>philipp</td></tr></tbody></table></td></tr>\n",
       "<tr><td>http://m.mt.byvisiontech.com/wifi-doorbell/unlock-wireless-doorbell.html</td><td>HTTP Error 403: Forbidden</td><td><table><thead></thead><tbody><tr><td>philipp</td></tr></tbody></table></td></tr>\n",
       "<tr><td>http://www.cnimalta.org/080109E.html</td><td>HTTP Error 404: Not Found</td><td><table><thead></thead><tbody><tr><td>philipp</td></tr></tbody></table></td></tr>\n",
       "<tr><td>https://builttobrag.com/what-is-the-good-life/?lang=mt</td><td>meta\tname\ttranslation-stats</td><td><table><thead></thead><tbody><tr><td>hieu</td></tr>\n",
       "<tr><td>philipp</td></tr></tbody></table></td></tr>\n",
       "<tr><td>http://mt.tanki.ua/tags/transformers/</td><td>&lt;urlopen error [Errno 8] nodename nor servname provided, or not known&gt;</td><td><table><thead></thead><tbody><tr><td>philipp</td></tr></tbody></table></td></tr>\n",
       "<tr><td>https://mamaclub.info/mt/kak-sdelat-morozhenoe-doma-recept/</td><td>HTTP Error 403: Forbidden</td><td><table><thead></thead><tbody><tr><td>philipp</td></tr></tbody></table></td></tr>\n",
       "<tr><td>http://skolarbete.nu/en/skolarbeten/charles-dickens-a-christmas-carol-2/</td><td>HTTP Error 500: Internal Server Error</td><td><table><thead></thead><tbody><tr><td>philipp</td></tr></tbody></table></td></tr>\n",
       "<tr><td>www.datemypet.com/mt/10-commandments-of-dating-for-women</td><td>HTTP Error 403: Forbidden</td><td><table><thead></thead><tbody><tr><td>hieu</td></tr></tbody></table></td></tr>\n",
       "<tr><td>http://www.zoolabo.com/eng/sitemap.html</td><td>HTTP Error 403: Forbidden</td><td><table><thead></thead><tbody><tr><td>philipp</td></tr></tbody></table></td></tr>\n",
       "<tr><td>http://1adt.com/from-the-net/creative-red-bull-print-ads/</td><td>HTTP Error 404: Not Found</td><td><table><thead></thead><tbody><tr><td>wide00006</td></tr></tbody></table></td></tr>\n",
       "<tr><td>http://transposh.org/tag/eaccelarator/?tpedit=1</td><td>meta\tname\ttranslation-stats</td><td><table><thead></thead><tbody><tr><td>philipp</td></tr></tbody></table></td></tr>\n",
       "<tr><td>http://eur-lex.europa.eu/budget/data/db2012/mt/sec03.pdf</td><td>HTTP Error 404: Not Found</td><td><table><thead></thead><tbody><tr><td>wide00006-pdf</td></tr></tbody></table></td></tr>\n",
       "<tr><td>http://la.wondershare.com/23/mobile-phone/organize-photos-on-iphone.html.tmp</td><td>HTTP Error 404: Not Found</td><td><table><thead></thead><tbody><tr><td>philipp</td></tr></tbody></table></td></tr>\n",
       "<tr><td>www.eppgroup.eu/mt/dwarna/membri /milan-zver</td><td>&#x27;ascii&#x27; codec can&#x27;t encode character &#x27;\\xa0&#x27; in position 21: ordinal not in range(128)</td><td><table><thead></thead><tbody><tr><td>hieu</td></tr></tbody></table></td></tr>\n",
       "<tr><td>www.gamegape.com/en-256-page-1.html</td><td>HTTP Error 404: Not Found</td><td><table><thead></thead><tbody><tr><td>hieu</td></tr></tbody></table></td></tr>\n",
       "<tr><td>https://www.outlookimport.com/mt/repair-2gb-pst-files-old-outlook-format/</td><td>meta\tname\ttranslation-stats</td><td><table><thead></thead><tbody><tr><td>wide00006</td></tr></tbody></table></td></tr>\n",
       "<tr><td>http://www.ema.europa.eu/docs/mt_mt/document_library/epar_-_product_information/human/001073/wc500042505.pdf</td><td><em>None</em></td><td><table><thead></thead><tbody><tr><td>wide00006-pdf</td></tr></tbody></table></td></tr>\n",
       "<tr><td>https://educationbro.com/mt/universities/uae/masdar-institute-science-technology/</td><td>meta\tname\ttranslation-stats</td><td><table><thead></thead><tbody><tr><td>philipp</td></tr></tbody></table></td></tr>\n",
       "<tr><td>http://ukraine.admission.center/universities/aviation/kharkiv-national-aerospace-university/</td><td><em>None</em></td><td><table><thead></thead><tbody><tr><td>philipp</td></tr></tbody></table></td></tr>\n",
       "<tr><td>http://www.healthworksnewcastle.org.uk/our-services/breastfeeding-peer-support/your-questions-answered/</td><td>HTTP Error 404: Not Found</td><td><table><thead></thead><tbody><tr><td>hieu</td></tr>\n",
       "<tr><td>philipp</td></tr></tbody></table></td></tr>\n",
       "<tr><td>https://morzuch.pl/2010/05/16/witaj-swiecie/?lang=en</td><td>meta\tname\ttranslation-stats</td><td><table><thead></thead><tbody><tr><td>wide00015</td></tr></tbody></table></td></tr>\n",
       "<tr><td>http://thegreatestnetworker.org/mt/</td><td>HTTP Error 404: Not Found</td><td><table><thead></thead><tbody><tr><td>wide00006</td></tr></tbody></table></td></tr>\n",
       "<tr><td>http://m.mt.electric-test.com/info/page/4/</td><td><em>None</em></td><td><table><thead></thead><tbody><tr><td>philipp</td></tr></tbody></table></td></tr>\n",
       "<tr><td>http://skolarbete.nu/mt/skolarbeten/united-kingdom/</td><td>HTTP Error 500: Internal Server Error</td><td><table><thead></thead><tbody><tr><td>philipp</td></tr></tbody></table></td></tr>\n",
       "<tr><td>http://www.clearingexchange.com/en/hedge-your-money-with-forward-exchange-rates/</td><td><em>None</em></td><td><table><thead></thead><tbody><tr><td>wide00006</td></tr></tbody></table></td></tr>\n",
       "<tr><td>usa-casino-online.com/category/free-online-slots/table-games/</td><td>HTTP Error 403: Forbidden</td><td><table><thead></thead><tbody><tr><td>hieu</td></tr></tbody></table></td></tr>\n",
       "<tr><td>http://saveigoogle.org/mt/going-home-ighome/</td><td>HTTP Error 403: Forbidden</td><td><table><thead></thead><tbody><tr><td>philipp</td></tr></tbody></table></td></tr>\n",
       "<tr><td>https://transposh.org/version-0-6-1-buddypress-deeper-integration/</td><td>meta\tname\ttranslation-stats</td><td><table><thead></thead><tbody><tr><td>philipp</td></tr></tbody></table></td></tr>\n",
       "<tr><td>www.gamegape.com/en-253-page-1.html</td><td>HTTP Error 404: Not Found</td><td><table><thead></thead><tbody><tr><td>hieu</td></tr></tbody></table></td></tr>\n",
       "<tr><td>http://en.zxplay.net/tags/poisk_pred/</td><td>HTTP Error 403: Forbidden</td><td><table><thead></thead><tbody><tr><td>philipp</td></tr></tbody></table></td></tr>\n",
       "<tr><td>www.bridgat.com/shop/rings/</td><td>HTTP Error 403: Forbidden</td><td><table><thead></thead><tbody><tr><td>hieu</td></tr></tbody></table></td></tr>\n",
       "<tr><td>https://www.wysluxury.com/tag/gulfstream-g550/?lang=mt</td><td>HTTP Error 429: Too Many Requests</td><td><table><thead></thead><tbody><tr><td>philipp</td></tr></tbody></table></td></tr>\n",
       "<tr><td>http://www.cropcirclesonline.com/crop-circles-hit-of-the-year.htm</td><td><em>None</em></td><td><table><thead></thead><tbody><tr><td>philipp</td></tr></tbody></table></td></tr>\n",
       "<tr><td>http://la.itsmygame.org/strategies.html</td><td>HTTP Error 403: Forbidden</td><td><table><thead></thead><tbody><tr><td>philipp</td></tr></tbody></table></td></tr>\n",
       "<tr><td>http://zxzgames.com/tags/supermarketmania/</td><td>HTTP Error 403: Forbidden</td><td><table><thead></thead><tbody><tr><td>philipp</td></tr></tbody></table></td></tr>\n",
       "<tr><td>http://kaizenlog.com/software-cost-estimation-metrics-models/</td><td>HTTP Error 403: Forbidden</td><td><table><thead></thead><tbody><tr><td>philipp</td></tr></tbody></table></td></tr>\n",
       "<tr><td>www.bridgat.com/shop/replacement-shaver-foils-and-blades/</td><td>HTTP Error 403: Forbidden</td><td><table><thead></thead><tbody><tr><td>hieu</td></tr></tbody></table></td></tr>\n",
       "<tr><td>http://skolarbete.nu/en/skolarbeten/solen-och-planeterna/</td><td>HTTP Error 500: Internal Server Error</td><td><table><thead></thead><tbody><tr><td>philipp</td></tr></tbody></table></td></tr>\n",
       "<tr><td>https://builttobrag.com/3-ways-to-deny-god/?lang=mt</td><td>meta\tname\ttranslation-stats</td><td><table><thead></thead><tbody><tr><td>hieu</td></tr>\n",
       "<tr><td>philipp</td></tr></tbody></table></td></tr>\n",
       "<tr><td>http://www.yyjfwj.com/mt/plug-anchor.html</td><td><em>None</em></td><td><table><thead></thead><tbody><tr><td>philipp</td></tr></tbody></table></td></tr>\n",
       "<tr><td>www.conex.net/nc8/2013/mt/44.html</td><td><em>None</em></td><td><table><thead></thead><tbody><tr><td>hieu</td></tr></tbody></table></td></tr>\n",
       "<tr><td>http://www.cn-sanitary.com/high-quality-cnc-machining-stainless-steel-316l.html</td><td>HTTP Error 404: Not Found</td><td><table><thead></thead><tbody><tr><td>philipp</td></tr></tbody></table></td></tr>\n",
       "<tr><td>http://www.dandelionoutdoor.com/poly-tarps/white-grey-poly-tarps.html</td><td>HTTP Error 403: Forbidden</td><td><table><thead></thead><tbody><tr><td>philipp</td></tr></tbody></table></td></tr>\n",
       "<tr><td>https://traynews.com/news/veteran-crypto-traders-top-tips-for-you/</td><td><em>None</em></td><td><table><thead></thead><tbody><tr><td>philipp</td></tr></tbody></table></td></tr>\n",
       "<tr><td>http://www.ecb.int/pub/pdf/other/gendoc201109mt.pdf?e11ebec360f230498fbba555e979a4b8</td><td><em>None</em></td><td><table><thead></thead><tbody><tr><td>wide00006-pdf</td></tr></tbody></table></td></tr>\n",
       "<tr><td>ktieb.org.mt/category/news-en/page/3/</td><td>HTTP Error 503: Service Temporarily Unavailable</td><td><table><thead></thead><tbody><tr><td>hieu</td></tr></tbody></table></td></tr>\n",
       "<tr><td>http://europa.eu/youth/eu/article/41/47_en</td><td>HTTP Error 403: Forbidden</td><td><table><thead></thead><tbody><tr><td>philipp</td></tr></tbody></table></td></tr>\n",
       "<tr><td>http://m.mt.byvisiontech.com/hearing-aids/mini-hearing-aid-made-in-china.html</td><td>HTTP Error 403: Forbidden</td><td><table><thead></thead><tbody><tr><td>philipp</td></tr></tbody></table></td></tr>\n",
       "<tr><td>www.conex.net/nc8/2013/mt/44.html</td><td><em>None</em></td><td><table><thead></thead><tbody><tr><td>hieu</td></tr></tbody></table></td></tr>\n",
       "<tr><td>https://crushtheinfosecexams.com/best-itil-foundation-certification-training-courses/</td><td>HTTP Error 403: Forbidden</td><td><table><thead></thead><tbody><tr><td>philipp</td></tr></tbody></table></td></tr>\n",
       "<tr><td>www.datemypet.com/phototips</td><td>HTTP Error 403: Forbidden</td><td><table><thead></thead><tbody><tr><td>hieu</td></tr></tbody></table></td></tr>\n",
       "<tr><td>thechurchinmalta.org/mt/posts/5958/fund-raising-for-haitigbir-ta-fondi-ghal-haiti</td><td><em>None</em></td><td><table><thead></thead><tbody><tr><td>hieu</td></tr></tbody></table></td></tr></tbody></table>"
      ],
      "text/plain": [
       "<notebook.table at 0x11e0d6d00>"
      ]
     },
     "execution_count": 19,
     "metadata": {},
     "output_type": "execute_result"
    }
   ],
   "source": [
    "table({\n",
    "    'url': url or first(set.union(*(t['source-document'] for t in unit.translations.values()))),\n",
    "    'filter': hit,\n",
    "    'collections': unit['collection']\n",
    "} for unit, hit, url in checked_units)"
   ]
  },
  {
   "cell_type": "code",
   "execution_count": 20,
   "metadata": {},
   "outputs": [],
   "source": [
    "def count(iterable):\n",
    "    return sum(1 for _ in iterable)"
   ]
  },
  {
   "cell_type": "markdown",
   "metadata": {},
   "source": [
    "Number of units that were accessible but did trigger an MT detection rule"
   ]
  },
  {
   "cell_type": "code",
   "execution_count": 21,
   "metadata": {},
   "outputs": [
    {
     "data": {
      "text/plain": [
       "17"
      ]
     },
     "execution_count": 21,
     "metadata": {},
     "output_type": "execute_result"
    }
   ],
   "source": [
    "count(unit for unit, hit, url in checked_units if url is not None)"
   ]
  },
  {
   "cell_type": "markdown",
   "metadata": {},
   "source": [
    "Number of units that were accessible and did not trigger the MT system"
   ]
  },
  {
   "cell_type": "code",
   "execution_count": 22,
   "metadata": {},
   "outputs": [
    {
     "data": {
      "text/plain": [
       "22"
      ]
     },
     "execution_count": 22,
     "metadata": {},
     "output_type": "execute_result"
    }
   ],
   "source": [
    "count(unit for unit, hit, url in checked_units if url is None and hit is None)"
   ]
  },
  {
   "cell_type": "markdown",
   "metadata": {},
   "source": [
    "Number of units that were no longer accessible on any of its associated source documents"
   ]
  },
  {
   "cell_type": "code",
   "execution_count": 23,
   "metadata": {},
   "outputs": [
    {
     "data": {
      "text/plain": [
       "61"
      ]
     },
     "execution_count": 23,
     "metadata": {},
     "output_type": "execute_result"
    }
   ],
   "source": [
    "count(unit for unit, hit, url in checked_units if url is None and hit is not None)"
   ]
  },
  {
   "cell_type": "code",
   "execution_count": 27,
   "metadata": {},
   "outputs": [
    {
     "data": {
      "text/html": [
       "<table><thead></thead><tbody><tr><td>HTTP Error 403: Forbidden</td><td>25</td></tr>\n",
       "<tr><td>HTTP Error 404: Not Found</td><td>17</td></tr>\n",
       "<tr><td>HTTP Error 500: Internal Server Error</td><td>8</td></tr>\n",
       "<tr><td>&lt;urlopen error [Errno 8] nodename nor servname provided, or not known&gt;</td><td>6</td></tr>\n",
       "<tr><td>&#x27;ascii&#x27; codec can&#x27;t encode character &#x27;\\xe9&#x27; in position 9: ordinal not in range(128)</td><td>1</td></tr>\n",
       "<tr><td>&lt;urlopen error timed out&gt;</td><td>1</td></tr>\n",
       "<tr><td>&#x27;ascii&#x27; codec can&#x27;t encode character &#x27;\\xa0&#x27; in position 21: ordinal not in range(128)</td><td>1</td></tr>\n",
       "<tr><td>HTTP Error 429: Too Many Requests</td><td>1</td></tr>\n",
       "<tr><td>HTTP Error 503: Service Temporarily Unavailable</td><td>1</td></tr></tbody></table>"
      ],
      "text/plain": [
       "<notebook.table at 0x11ddf3fa0>"
      ]
     },
     "execution_count": 27,
     "metadata": {},
     "output_type": "execute_result"
    }
   ],
   "source": [
    "notebook.table(Counter(hit for _, hit, url in checked_units if url is None and hit is not None).most_common())"
   ]
  },
  {
   "cell_type": "markdown",
   "metadata": {},
   "source": [
    "Just to make sure, we're not seeing anything odd in terms of units that matched across shards, right?"
   ]
  },
  {
   "cell_type": "code",
   "execution_count": 101,
   "metadata": {},
   "outputs": [],
   "source": [
    "from publicsuffixlist import PublicSuffixList\n",
    "from urllib.parse import urlparse\n",
    "import fnv\n",
    "import re\n",
    "\n",
    "psl = PublicSuffixList()\n",
    "\n",
    "def urls(unit):\n",
    "    return [url for tu in unit.translations.values() for url in tu['source-document']]\n",
    "\n",
    "def slug(key):\n",
    "    \"\"\"https://github.com/paracrawl/giashard/blob/master/shard.go#L88\"\"\"\n",
    "    url = urlparse(key)\n",
    "    if url.netloc:\n",
    "        host = re.sub(r':\\d+$', '', url.netloc)\n",
    "    else:\n",
    "        match = re.match(r'^([a-zA-Z0-9][a-zA-Z0-9\\-.]*[a-zA-Z0-9]).*', key)\n",
    "        if not match:\n",
    "            raise ValueError(f'Unable to determine host using regexp from {key}')\n",
    "        host = match.group(1)\n",
    "    \n",
    "    public = psl.publicsuffix(host)\n",
    "    private = psl.privatesuffix(host)\n",
    "    \n",
    "    \n",
    "    if not public or not private:\n",
    "        match = re.match('^([^/]+).*', host)\n",
    "        if not match or len(match.group(1)) == 0:\n",
    "            raise ValueError(f'Unable to determine slug by parsing {host} from {key}')\n",
    "        slug = match.group(1)\n",
    "    else:\n",
    "        slug = re.sub('\\.?' + re.escape(public) + '$', '', private)\n",
    "    \n",
    "    if not slug:\n",
    "        raise ValueError(f'Unable to determine slug from {key}')\n",
    "    \n",
    "    return slug\n",
    "\n",
    "def shard_id(key, n=8):\n",
    "    \"\"\"https://github.com/paracrawl/giashard/blob/master/shard.go#L120\"\"\"\n",
    "    return fnv.hash(slug(key).encode(), algorithm=fnv.fnv, bits=64) % (1 << n)"
   ]
  },
  {
   "cell_type": "code",
   "execution_count": 109,
   "metadata": {},
   "outputs": [
    {
     "data": {
      "text/plain": [
       "[]"
      ]
     },
     "execution_count": 109,
     "metadata": {},
     "output_type": "execute_result"
    }
   ],
   "source": [
    "weird = [\n",
    "    unit\n",
    "    for unit in philipp #read(files['paracrawl-7.1'])\n",
    "    if len(\n",
    "        frozenset(shard_id(url, 8) for url in unit.translations['en']['source-document']) ^\n",
    "        frozenset(shard_id(url, 8) for url in unit.translations['en']['source-document'])\n",
    "    ) != 0\n",
    "]\n",
    "\n",
    "weird"
   ]
  },
  {
   "cell_type": "code",
   "execution_count": 107,
   "metadata": {},
   "outputs": [
    {
     "data": {
      "application/vnd.jupyter.widget-view+json": {
       "model_id": "5d01fe230d79444eb94626c8eae63b47",
       "version_major": 2,
       "version_minor": 0
      },
      "text/plain": [
       "en-mt.tmx.gz:   0%|          | 0.00/197M [00:00<?, ?b/s]"
      ]
     },
     "metadata": {},
     "output_type": "display_data"
    }
   ],
   "source": [
    "philipp = [unit for unit in read(files['paracrawl-7.1']) if unit['collection'] == set(['philipp'])]"
   ]
  },
  {
   "cell_type": "code",
   "execution_count": 108,
   "metadata": {},
   "outputs": [
    {
     "data": {
      "text/plain": [
       "557395"
      ]
     },
     "execution_count": 108,
     "metadata": {},
     "output_type": "execute_result"
    }
   ],
   "source": [
    "len(philipp)"
   ]
  },
  {
   "cell_type": "code",
   "execution_count": 111,
   "metadata": {},
   "outputs": [],
   "source": [
    "inside = RandomSample(100)\n",
    "outside = RandomSample(100)\n",
    "\n",
    "for unit in philipp:\n",
    "    if checksum(unit) in hashes['paracrawl-8']:\n",
    "        inside.add(unit)\n",
    "    else:\n",
    "        outside.add(unit)"
   ]
  },
  {
   "cell_type": "code",
   "execution_count": 112,
   "metadata": {},
   "outputs": [
    {
     "data": {
      "text/plain": [
       "(216111, 341284)"
      ]
     },
     "execution_count": 112,
     "metadata": {},
     "output_type": "execute_result"
    }
   ],
   "source": [
    "inside.n, outside.n"
   ]
  },
  {
   "cell_type": "code",
   "execution_count": 115,
   "metadata": {
    "collapsed": true,
    "jupyter": {
     "outputs_hidden": true
    },
    "tags": []
   },
   "outputs": [
    {
     "data": {
      "text/html": [
       "<table><thead><tr><th>en</th><th>mt</th></tr></thead><tbody><tr><td>Later on, he turned to watches which were much smaller and required more attention.</td><td>Minn hemm ma damx ma dar għall-arloġġi tal-idejn, li għalkemm kienu iżgħar u b’hekk kien jeħtiġielhom iktar attenzjoni, xorta waħda sab irkaptu tagħhom.</td></tr>\n",
       "<tr><td>George took a black girl to prom, and mentored young black children.</td><td>George ħa tifla sewda promettenti, u mentored tfal iswed żgħażagħ.</td></tr>\n",
       "<tr><td>To develop a new variety can take up to 15 years.</td><td>Biex tiżviluppa varjetà ġdida tista &#x27;tieħu sa 15-il sena.</td></tr>\n",
       "<tr><td>China New Wireless Hearing Aid Amplifier Walmart With Noise Cancellation And Receiver In Canal Ric Hearing Aids Online Manufacturers,Suppliers and Factory - Wholesale Products - EarsMATE</td><td>Iċ-Ċina Ġdida Wireless Smigħ Amplifikatur Walmart Bil-Kanċellazzjoni tal-Istorbju u Riċevitur Fil-Canal Ric Għajnuniet tas-Smigħ Online Manifatturi, Fornituri u Fabbrika - Prodotti bl-ingrossa - EarsMATE</td></tr>\n",
       "<tr><td>Last week the President of the Central Bank of the European Union, Jean-Claude Trichet, took the trouble to come to Malta to take part in the opening of the propaganda campaign spread over three months, in favour of the Euro currency, and to speak about it at a conference organized by the National Committee about the Ewro (the NECC) and the Central Bank of Malta, with the help of the European Union.</td><td>Se nħallsu prezz għoli għall-Ewro Il-Ġimgħa l-oħra l-President tal-Bank Ċentrali ta’ l-Unjoni Ewropea, Jean-Claude Trichet, qagħad jiskomoda ruħu u jiġi f’Malta ħalli jieħu sehem fil-ftuħ ta’ kampanja ta’ propaganda mifruxa fuq tliet xhur, favur il-munita Ewro, u biex jitkellem f’konferenza dwarha, organizzata mill-Kumitat Nazzjonali dwar l-Ewro (il-NECC) u l-Bank Ċentrali ta’ Malta, bl-għajnuna ta’ l-Unjoni Ewropea.</td></tr>\n",
       "<tr><td>* The main application window.That Implements interfaces support events</td><td>* It-tieqa prinċipali applikazzjoni . Dan implimenti avvenimenti interfaces ta &#x27;appoġġ</td></tr>\n",
       "<tr><td>We are developing further and offer our future students even a wider choice: nyob rau hauv 2015 8 specialities within the Faculty of Biology, Geology, Economics and Applied Mathematics and Informatics were submitted to be licensed and accredited .</td><td>Aħna qegħdin jiżviluppaw ulterjorment u joffru lill-istudenti futuri tagħna anke għażla aktar wiesgħa: fl 2015 8 speċjalitajiet fi ħdan il-Fakultà tal-Bijoloġija, ġeoloġija, Ekonomija u l-Matematika Applikata u Informatika kienu sottomessi biex tiġi liċenzjata u akkreditata.</td></tr>\n",
       "<tr><td>Criminology and Sociology</td><td>Kriminoloġija u s-Soċjoloġija</td></tr>\n",
       "<tr><td>If you decide to go look at an apartment, ask an American friend to go with you to make sure the apartment is not a scam.</td><td>Jekk inti tiddeċiedi li tmur tħares lejn f&#x27;appartament, titlob lill-Ħabib Amerikan li jmorru miegħek biex tiżgura l-appartament mhuwiex a scam.</td></tr>\n",
       "<tr><td>How Does The Tea Packaging Box Reflect Environmental Awareness Oct 05, 2018</td><td>Kif il-kaxxa ta &#x27; l-ippakkjar tat-tè jirriflettu kuxjenza ambjentali Oct 05, 2018</td></tr>\n",
       "<tr><td>And everyone understands that, just silent, or does not have time to say.</td><td>U xi ħadd li jifhem, biss siekta, jew ma kellhomx żmien biex jgħidu. memorja phone – mhuwiex l-spirali DNA.</td></tr>\n",
       "<tr><td>Start button, All Programs, Accessories, tools, and then click on the screen keyboard.</td><td>Buttuna tibda, All Programs, Accessories, għodod, u mbagħad ikklikkja fuq il-keyboard iskrin.</td></tr>\n",
       "<tr><td>8:9 Then Nehemiah (the same is the cupbearer) and Ezra, the priest and scribe, and the Levites, who were interpreting for all the people, said: “This day has been sanctified to the Lord our God . Do not mourn, and do not weep.” For all of the people were weeping, as they were listening to the words of the law .</td><td>U meta kien jaqra, dawn ma jifhmu. 8:9 Imbagħad Nehemiah (l-istess huwa l-cupbearer) u Ezra, il-qassis u scribe, u l-Leviti, li kienu interpretazzjoni għall-persuni kollha, qal: &quot;Din il-ġurnata ġie sanctified lill-Mulej Alla tagħna. Ma mourn, u ma weep. &quot;Għall kollha tal-poplu kienu weeping, kif kienu jisimgħu l-kliem tal-liġi.</td></tr>\n",
       "<tr><td>9 May 2008 Travel, location by county, Monasteries,Churches,Cathedral, suceava Gregory the Theologian, monastery, relics, Gregory, Slatina Admin</td><td>9 Mejju 2008 Travel, post mill-kontea, Monasteri,Knejjes,Katidral, suceava Gregory teologu, monasteru, fdalijiet, Saint Gregory, Slatina admin</td></tr>\n",
       "<tr><td>In August close for holidays, but first find out about a very interesting activity that will take place during the days 11 and 12 October, a workshop for advanced photo retouching techniques with Alberto Yague .</td><td>Fil qrib Awissu għall-vaganzi, imma l-ewwel issir taf dwar attività interessanti ħafna li se sseħħ matul il-jiem 11 u 12 Ottubru, workshop għall photo tekniki avvanzati retouching ma Alberto Yagüe .</td></tr>\n",
       "<tr><td>• The Contracting Parties shall apply the following rules, in addition and without prejudice to the obligations derived from European Union law:</td><td>Il-pajjiżi firmatarji għandhom japplikaw ir-regoli li ġejjin b żieda, u minghajr ħsara għall-obbligi li għandhom skont il-Liġi tal-Unjoni Ewropea.</td></tr>\n",
       "<tr><td>Free Games: Archery online archery.</td><td>Free Games: Archery qwas online.</td></tr>\n",
       "<tr><td>Many think that the word &quot;private school / private school&quot; has a hint of snobbighet and is an attempt to seem finer and better than other &quot;regular&quot; schools.</td><td>Ħafna jaħsbu li l-kelma &quot;skola privata / skola privata&quot; għandha ħjiel ta &#x27;snobbighet u huwa tentattiv biex jidhru ifjen u aħjar minn oħrajn iskejjel &quot;regolari&quot;.</td></tr>\n",
       "<tr><td>Whitening Teeth Tips | Best Way to Whiten Teeth Guide</td><td>Whitening Snien Tips | Aħjar mod biex whiten snien Gwida</td></tr>\n",
       "<tr><td>Then click on the “Generate Key” button and leave your mouse for a minute to complete the progress.</td><td>Imbagħad ikklikkja fuq il- “Iġġenera Ewlenin” buttuna u leave maws għal minuta biex jitlesta l-progress.</td></tr>\n",
       "<tr><td>Vinnitsa National Medical University Vinnitsa</td><td>Università Nazzjonali ta &#x27;Kiev-Mohyla Akkademja Kyiv</td></tr>\n",
       "<tr><td>Josep Pla, a famous Catalan writer, once stated “the cuisine of a land is its landscape inside a casserole,” and Catalonia offers a rich and original landscape indeed.</td><td>Josep Pla, kittieb Katalan famuż, ladarba iddikjarat li &quot;l-kċina ta &#x27;art pajsaġġ tagħha ġewwa casserole,&quot; u Catalonia joffri pajsaġġ għani u oriġinali tabilħaqq.</td></tr>\n",
       "<tr><td>Interference Voltage</td><td>Vultaġġ ta &#x27;Interferenza</td></tr>\n",
       "<tr><td>The vegetation consists mostly of grasses, but also trees, it is unusual to larger clusters trees, but they tend to stand alone.</td><td>Il-veġetazzjoni tikkonsisti l-iktar ta &#x27;ħaxix, iżda wkoll siġar, huwa normali li siġra clusters akbar iżda dawn normalment joqgħod waħdu.</td></tr>\n",
       "<tr><td>Hot Tags: 100% uv protection sunglasses, China, manufacturers, suppliers, factory, wholesale, customized, cheap, low price, made in China</td><td>Hot Tags: 100% nuċċalijiet tax-xemx għall-protezzjoni uv, iċ-Ċina, il-manifatturi, bl-ingrossa, personalizzata, irħisa, prezz baxx, magħmula fiċ-Ċina</td></tr>\n",
       "<tr><td>He who disbelieves the verses of Allah indeed Allah is Swift in reckoning.</td><td>Hu li disbelieves-versi ta &#x27;Allah tabilħaqq Alla huwa Swift fl stimar .</td></tr>\n",
       "<tr><td>If you had to guess, how many email newsletters do you think you’re subscribed to?</td><td>Kieku kellek x’nifhem, f&#x27;kemm newsletters tal-email taħseb li int sottoskritt?</td></tr>\n",
       "<tr><td>UK Gallons to US Gallons (Liquid) conversion</td><td>Konverżjoni Galluni RU għal Galluni (Likwidu) SU</td></tr>\n",
       "<tr><td>He answered “You know who is that horse?</td><td>Huwa qalli “Dak taf liema hu?</td></tr>\n",
       "<tr><td>Even out with a spatula, then carefully place the cake tin in the oven at 180`c, and bake the cheesecake for about 40-45 minutes.</td><td>Ferrxu b’paletta, imbagħad daħħal il-kejk fil-forn, f’temperatura ta’ 180oC għal 40-45 minuta.</td></tr>\n",
       "<tr><td>Min. balance.</td><td>Agħfas Tab / Ikteb.</td></tr>\n",
       "<tr><td>Our work focuses on Enterprise Resource Planning (ERP), Customer Relationship Management (CRM), eCommerce and IT integration.</td><td>Ix-xogħol tagħna tiffoka fuq Enterprise Resource Planning (ERP), Customer Relationship Management (CRM), eCommerce u l-IT integrazzjoni.</td></tr>\n",
       "<tr><td>• Sovenhal or Fenistil - gel (removes itching and irritation);</td><td>• Sovenhal jew Fenistil - ġel (tneħħi ħakk u irritazzjoni);</td></tr>\n",
       "<tr><td>The Nokia 8800 Sirocco Edition truly is unique, created out of the inherent beauty and chaos of nature and distilled into a modern form that is graceful, sympathetic and spare. Specification:</td><td>Il-Nokia 8800 Sirocco Edition tassew hija unika, maħluqa mill-sbuħija inerenti u l-kaos ta &#x27;natura u ddistillat forma moderna li huwa graceful, simpatetika u spare.</td></tr>\n",
       "<tr><td>Der Beitrag Coffee gets the world going. Trade Coffee erschien zuerst auf Trading Education.</td><td>Der Beitrag Kafè gets-dinja jmorru. kummerċ Kafè erschien zuerst auf Edukazzjoni kummerċ.</td></tr>\n",
       "<tr><td>University of Edinburgh - Study in United Kingdom, Scotland</td><td>Università ta &#x27;Edinburgh - Studju fir-Renju Unit, Iskozja</td></tr>\n",
       "<tr><td>This jewel at the heart of the Stellenbosch region, called the &quot;Golden Triangle&quot;.</td><td>Dan ġojjell fil-qalba tar-reġjun Stellenbosch, imsejjaħ &quot;Trijanglu tad-Deheb&quot;.</td></tr>\n",
       "<tr><td>Starting voltage, high voltage electrode is formed by metal sphere, should not be placed within the space of 1 m other objects, the electroscope electrode contact with a grounded ac voltage of high voltage electrode contact, rising high voltage electrode voltage, when the electroscope signal &quot;voltage existence&quot;, such as &quot;light&quot; instruction, record the starting voltage, such as the voltage between (0.15 ~ 0.4) times the rated voltage, thought through.</td><td>Bidu vultaġġ, elettrodu ta &#x27; vultaġġ għoli huwa iffurmat bi sfera tal-metall, ma għandux jitpoġġa fi spazju ta &#x27; 1 m oġġetti l-oħra, il-kuntatt elettrodu electroscope b &#x27; vultaġġ grounded ac ta &#x27; vultaġġ għoli elettrodu kuntatt, li jiżdied b &#x27; vultaġġ għoli elettrodu vultaġġ, Meta l-electroscope tas-sinjal &quot;vultaġġ eżistenza&quot;, bħal &quot;dawl&quot; istruzzjoni, tirreġistra l-voltaġġ tal-bidu, bħalma huma l-vultaġġ bejn (0.15 ~ 0.4) darbiet il-vultaġġ ratat, maħsub.</td></tr>\n",
       "<tr><td>The launch of Proof Test plus is another example of Straightpoint processing market intelligence from both sides of the Atlantic and delivering a state-of-the-art solution.</td><td>It-tnedija ta &#x27;Proof Test plus hija eżempju ieħor ta&#x27; intelliÄ¡enza tas-suq ta &#x27;l-ipproÄ‹essar Straightpoint miż-żewġ naħat ta&#x27; l-Atlantiku u li twassal soluzzjoni ta &#x27;l-aktar avvanzata.</td></tr>\n",
       "<tr><td>How important is the timely repair of apartments?</td><td>Kemm hija importanti l tiswija f&#x27;waqtha ta &#x27;appartamenti?</td></tr>\n",
       "<tr><td>Nate Tapio, operations manager at Trail-Eze, said: “Opening the new facility marks the culmination of years of research and development into the latest painting and finishing technology. The site allows us to consolidate the final stages of our production under one roof. The dynamometers are integral to a technologically-advanced operating environment; the software is easily customized to our needs, the products are user-friendly, and they save us time on every trailer.”</td><td>Nate Tapio, maniġer tal-operazzjonijiet fi Trail-Eze, qal: “Il-ftuħ tal-faċilità l-ġdida jimmarka l-qofol tas-snin ta &#x27;riċerka u żvilupp fl-aħħar teknoloġija tal-pittura u l-irfinar. Is-sit jippermettilna nikkonsolidaw l-istadji finali tal-produzzjoni tagħna taħt saqaf wieħed. Id-dinamometri huma integrali għal ambjent operattiv avvanzat teknoloġikament; is-software huwa faċilment personalizzat għall-bżonnijiet tagħna, il-prodotti huma faċli għall-utent, u jiffrankaw il-ħin fuq kull karru. ”</td></tr>\n",
       "<tr><td>Exercising regularly helps enhance nitric oxide generation.</td><td>Eżerċizzju b&#x27;mod regolari tgħin ittejjeb il-ġenerazzjoni ta &#x27; l-ossidu nitriku.</td></tr>\n",
       "<tr><td>Import the number of .msg, .emlx and .eml files from different locations to one .pst file.</td><td>Importazzjoni l-għadd ta &#x27; .MSG, .emlx u .eml fajls minn postijiet differenti wieħed .PST fajl.</td></tr>\n",
       "<tr><td>Remove All First Line Indents: One click to remove all the indents at the beginning of the first line which are indented by the First Line Indent Marker on the horizontal ruler.</td><td>Neħħi l-Indent tal-Ewwel Linja: Ikklikkja waħda biex tneħħi l-inċiżi kollha fil-bidu tal-ewwel linja li huma inċiżi mill-Marka tal-Indent tal-Ewwel Linja fuq ir-riga orizzontali.</td></tr>\n",
       "<tr><td>how can i remove the Translation By withyour logo?</td><td>kif tista i tneħħi l-Traduzzjoni Permezz logo withyour?</td></tr>\n",
       "<tr><td>Max.processing length</td><td>Tul massimu ta &#x27;proċessar</td></tr>\n",
       "<tr><td>It can’t be easily acquired over the counter.</td><td>Ma jistax jiġi faċilment miksuba fuq il-bank.</td></tr>\n",
       "<tr><td>Construction field and ships building industry</td><td>Industrija tal-kostruzzjoni u tal-bini tal-vapuri</td></tr>\n",
       "<tr><td>54.07 Woven fabrics of synthetic filament yarn, including woven fabrics obtained from materials of heading 5404</td><td>54.07 Drappijiet minsuÄ¡in taâ ħjut taâ filament sintetiku, inklużi drappijiet minsuÄ¡in magħmulin minn materjali taâ titlu 5404</td></tr>\n",
       "<tr><td>Handle the wheel spun:-) we gradually began to approach the new tourists, and we realized that our tour should end.</td><td>Immaniġġja-rota mibrumin:-) Gradwalment bdejna approċċ-turisti ġodda, u aħna induna li tour tagħna għandha tintemm.</td></tr>\n",
       "<tr><td>You’ll avoid queuing and have access from an exclusive entrance.</td><td>Int taf tevita jitilgħu u jkollhom aċċess minn entratura esklussiva.</td></tr>\n",
       "<tr><td>Then Anupriya started to save her own bicycle.</td><td>Imbagħad Anupriya bdiet issalva r-rota tagħha stess.</td></tr>\n",
       "<tr><td>“In a very short time we have in hand a new Olympus DSLR”, apuntó.</td><td>“Fi żmien qasir ħafna għandna fl-idejn Olympus DSLR ġdid”, apuntó.</td></tr>\n",
       "<tr><td>In 2004, the ISN started a collaboration with the ILIAS open source project based in Cologne, Germany, to work on the development of the ILIAS learning management system. Today the ISN PfP Learning Management System is based on ILIAS and used mostly by defense academies and universities such as the NATO Defense College in Rome and the Baltic Defence College in Estonia. As a result of this collaboration, ILIAS was certified for SCORM in autumn 2004.</td><td>Fl-2004, l-ISN daħal f’kollaborazzjoni mal-proġett b&#x27;sors miftuħ ta’ l-ILIAS, ibbażat f’Cologne, il-Ġermanja, għalbiex jaħdem fuq l-iżvilupp tas-sistema ta’ amministrazzjoni tat-tagħlim (LMS) ta’ l-ILIAS. Illum, is-Sistema ta’ Amministrazzjoni għat-Tagħlim ta’ l-ISN PfP hi msejsa fuq l-ILIAS u tintuża l-aktar minn akkademji tad-difiża u universitajiet bħall-Kulleġġ għad-Difiża tan-NATO f’Ruma u l-Kulleġġ għad-Difiża Baltiku fl-Estonja. Bħala riżultat ta’ din il-kollaborazzjoni, l-ILIAS ġiet iċċertifikata għal SCORM fil-Ħarifa ta’ l-2004. Bħalissa tipprovdi l-ewwel LMS b&#x27;sors miftuħ iċċertifikat għal SCORM tad-dinja.</td></tr>\n",
       "<tr><td>Very useful in the battle with Master Shifu, which shows many of the techniques and learn to use inner strength.</td><td>Utli ħafna fil-battalja mal Master Shifu, li turi ħafna mill-tekniki u jitgħallmu jużaw qawwa ta &#x27;ġewwa.</td></tr>\n",
       "<tr><td>The tip of the tail and ear tufts reinforce the ears and tail posture, and making the lynx&#x27;s body language clearly.</td><td>Tip tad-denb u widna trofof jsaħħu l-widnejn u denb qagħda, u jagħmlu lingwaġġ tal-ġisem tal-linċi tal b&#x27;mod ċar.</td></tr>\n",
       "<tr><td>AdrenoBoost contains a selection of herbs known for their supportive function in maintaining hormonal balance and providing adrenal support.</td><td>AdrenoBoost jikkontjeni għażla ta &#x27; ħxejjex aromatiċi magħrufa għall-funzjoni ta &#x27; appoġġ tagħhom f &#x27; żamma ta &#x27; bilanċ ormonali u jipprovdi appoġġ adrenal.</td></tr>\n",
       "<tr><td>Table de Litres en Gallons</td><td>Tabella Litri għal Galluni</td></tr>\n",
       "<tr><td>Hot Tags: less framed diamond simple design stainless steel pivot shower enclosure for sale China, manufacturers, suppliers, wholesale, buy, cheap, price</td><td>Prodotti relattivi li tista &#x27;tixtieq Hot Tags: inqas b&#x27;dijametru tad-djamant sempliċi tad-disinn l-istainless steel pivot shower enclosure għall-bejgħ Ċina, manifatturi, fornituri, bl-ingrossa, jixtru, irħas, prezz</td></tr>\n",
       "<tr><td>Encyclopedia of Toxicology, Wexler et al ., p. 142</td><td>Enċiklopedija tal Tossikoloġija, WEXLER et al ., p 142</td></tr>\n",
       "<tr><td>Black Pepper Benefits for Fighting Cancer, Liver Problems and More - Knowledge - Xi&#x27;an Le Sen Bio-technology Co., Ltd.</td><td>Benefiċċji tal-Bżar Iswed għall-Ġlieda kontra l-Kanċer, Problemi tal-Fwied u Aktar - Għarfien - Xi&#x27;an Le Sen Bio-technology Co., Ltd.</td></tr>\n",
       "<tr><td>2:22 And her mother-in-law said to her, “It is better, my daughter, to go out reaping with his young women, lest in a stranger’s field someone may confront you.”</td><td>2:22 U omm fil-liġi tagħha qalilha, &quot;Huwa aħjar, it-tifla tiegħi, li jmorru jitgawdew ma &#x27;nisa żgħażagħ tiegħu, lest fi barrani xi ħadd qasam tista jikkonfrontaw inti. &quot;</td></tr>\n",
       "<tr><td>This happens with kids</td><td>Dan jiġri bi tfal</td></tr>\n",
       "<tr><td>If you are heading to Barcelona this summer, you absolutely cannot miss a visit to one or more of the city’s gorgeous Mediterranean beaches.</td><td>Jekk inti intestatura lejn Barċellona dan is-sajf, inti assolutament ma tistax taqbeż żjara waħda jew aktar ta &#x27;bajjiet Mediterran sabiħ ħafna tal-belt.</td></tr>\n",
       "<tr><td>This zone consists of grasses, mosses, lichens and shrubs.</td><td>Din iż-żona tikkonsisti ħażiż, likeni u arbuxelli.</td></tr>\n",
       "<tr><td>Kutools for Excel is a powerful Excel toolbox that frees you from performing time-consuming operations in Excel.</td><td>Kutools għal Excel hija għodda b&#x27;saħħitha ta &#x27;l-Excel li ma tħallikx twettaq operazzjonijiet li jikkunsmaw il-ħin f&#x27;Excel.</td></tr>\n",
       "<tr><td>Membership is possible to solve in the evening.</td><td>Kompożizzjoni huwa possibbli li ssolvi matul il-lejla.</td></tr>\n",
       "<tr><td>9:13 So then, go out and learn what this means: ‘I desire mercy and not sacrifice.’ For I have not come to call the just, but sinners.”</td><td>9:13 Mela allura, go out u jitgħallmu dak li dan ifisser: &quot;I xewqa ħniena u mhux sagrifiċċju.&quot;</td></tr>\n",
       "<tr><td>Next Click prohiberentur permanere.</td><td>Ikklikkja li jmiss biex tkompli.</td></tr>\n",
       "<tr><td>Long Tons (UK) to Kilograms table</td><td>Tabella Tunellati Twal (RU) għal Kilogrammi</td></tr>\n",
       "<tr><td>Makes me nod to continue and they say sure I can finish the Special. Well.</td><td>Hija beckons me imorru u jgħidu ċert I tista &#x27;finitura l speċjali. ukoll.</td></tr>\n",
       "<tr><td>Zurich to Frankfurt</td><td>Zurich lejn Frankfurt</td></tr>\n",
       "<tr><td>The harm doers shall not be triumphant.</td><td>Il-malfatturi ħsara m&#x27;għandhomx ikunu trijonfanti .</td></tr>\n",
       "<tr><td>Posts Luciano Carcheri, I&#x27;ll tell you my last Dakar 2002</td><td>Luciano Carcheri, I ser jgħidlek Dakar aħħar tiegħi 2002</td></tr>\n",
       "<tr><td>The ECB: A toothless tiger? – Mizzi Marlene</td><td>Sea Malta: Destin premeditat – Mizzi Marlene</td></tr>\n",
       "<tr><td>We emphasize those things that Catholics are doing right and well as a means of inspiring and encouraging others to do the same.</td><td>Aħna nenfasizzaw dawk l-affarijiet li Kattoliċi qed jagħmlu dritt u sew bħala mezz ta ‘spirazzjoni u jħeġġu lil oħrajn biex jagħmlu l-istess.</td></tr>\n",
       "<tr><td>One nucleotide contains an adenine base and the other nicotinamide.</td><td>Nucleotide wieħed fih xi bażi adenina u -nicotinamide oħra.</td></tr>\n",
       "<tr><td>Six months have passed since the carousel re-started in Johan Stendahl old “skandalhus” i Holm.</td><td>Sitt xhur għaddew peress li l-karużell-beda mill-ġdid Johan Stendahls qodma “skandalhus” i Holm.</td></tr>\n",
       "<tr><td>After the Battle of the Coral Sea, he made up because a reckless plan to complete the job.</td><td>Wara l-Battalja tal-Baħar Korall, huwa ma għaliex pjan bl-addoċċ biex jitlesta l-impjieg.</td></tr>\n",
       "<tr><td>It has a current fleet of testing machines but recently overhauled its Bromsgrove, Worcestershire, UK facility to better utilise its centrepiece, 500t capacity unit, which tests both the company’s own equipment from the hire fleet plus customers’ jacks and cylinders.</td><td>Għandha flotta kurrenti ta &#x27;magni tal-ittestjar imma reÄ‹entement biddlet mill-Ä¡did il-faÄ‹ilitÃ tagħha ta&#x27; Bromsgrove, Worcestershire, tar-Renju Unit biex tuża aħjar iÄ‹-Ä‹entru tagħha, l-unitÃ tal-kapaÄ‹itÃ 500t, li tittestja kemm it-tagħmir tal-kumpanija stess mill-flotta tal-kiri flimkien mal-Ä¡akkijiet u Ä‹-Ä‹ilindri tal-klijenti.</td></tr>\n",
       "<tr><td>Also to the right of Las Ramblas is the vibrant and multicultural Raval district.</td><td>Ukoll għad-dritt ta &#x27;Las Ramblas huwa l-distrett Raval vibranti u multikulturali.</td></tr>\n",
       "<tr><td>It don’t matter if my name get deleted, what remains</td><td>Hija ma jimpurtax jekk l-isem tiegħi tikseb mħassra, dak li fadal</td></tr>\n",
       "<tr><td>” But he said: “From infancy .</td><td>&quot;Imma hu qal: &quot;Mill-bidu.</td></tr>\n",
       "<tr><td>With what to wear women&#x27;s overalls</td><td>Ma &#x27;dak li jilbes overalls tan-nisa</td></tr>\n",
       "<tr><td>Once upon a time there was the small kingdom of Dave Scottsdale.</td><td>Darba waħda kien hemm il-żgħar renju tal Dave Dale.</td></tr>\n",
       "<tr><td>A Holiday to remember</td><td>A btala li tiftakar</td></tr>\n",
       "<tr><td>These faculties are sub-divided into departments with internal structures which are designed to strengthen existing collaborations and create possibilities for new ones.</td><td>Dawn fakultajiet huma sub-diviż dipartimenti bi strutturi interni li huma maħsuba biex isaħħu kollaborazzjonijiet eżistenti u joħolqu possibilitajiet għal oħrajn ġodda.</td></tr>\n",
       "<tr><td>The Tutsis consolidated its power with a religious view of the world where they gave themselves an almost divine status.</td><td>Il Tutsis ikkonsolida l-poter tagħha ma &#x27;ħsieb reliġjużi fejn huma taw lilhom infushom bi status kważi divina.</td></tr>\n",
       "<tr><td>Acrylic and Safety Tempered Glass</td><td>Ħġieġ ittemprat akriliku u ta &#x27;sigurtà</td></tr>\n",
       "<tr><td>Air separation equipment flow</td><td>dak li huwa tagħmir separazzjoni Ajru</td></tr>\n",
       "<tr><td>China KAD Series Freezing Refrigerant Air Dryer Manufacturers, Suppliers, Factory, Exporters, Seller - Zhejiang Yuanda Air Separation Equipment Co.,Ltd info@ydget.com +86-571-61712588</td><td>Ċina KAD serje iffriżar manifatturi Dryer ta &#x27; arja bħala refriġerant, fornituri, fabbrika, esportaturi, bejjiegħ - Zhejiang Yuanda bl-ajru tagħmir ta &#x27; separazzjoni Co., Ltd</td></tr>\n",
       "<tr><td>Though they are strong, they are mine.</td><td>Għalkemm dawn huma b&#x27;saħħithom, huma minjiera.</td></tr>\n",
       "<tr><td>The oil casing pipe is a large-diameter pipe that acts as a fixed oil and gas well wall or wellbore.</td><td>Il-pajp tal-qoxra taż-żejt huwa pajp ta &#x27;dijametru kbir li jaġixxi bħala ħajt tal-bir sewwa taż-żejt kif ukoll tal-bir.</td></tr>\n",
       "<tr><td>You need to work to try to get back nature to its normal state, but it is difficult when the soil has such a large population.</td><td>Hawnhekk wieħed jeħtieġ li jaħdmu biex nipprova nikseb lura barra għal stat normali tagħha, iżda huwa diffiċli meta l-earth tkun tali popolazzjoni kbira.</td></tr>\n",
       "<tr><td>Legend Gold - Ismoon Bajuri</td><td>Gold Legend - serje Ismoon</td></tr>\n",
       "<tr><td>on becoming Slavonic … Slavonic.</td><td>meta sirt Slavonik … Slavonik.</td></tr>\n",
       "<tr><td>The people in charge of the initiative have established a detailed list of actions for which invite the Commission to submit legislative proposals.</td><td>Il-poplu responsabbli mill-inizjattiva stabbilixxew lista dettaljata ta &#x27;azzjonijiet li għalihom jistiednu lill-Kummissjoni biex tressaq proposti leġiżlattivi.</td></tr>\n",
       "<tr><td>The climate is extremely dry and the summers are long, with daytime temperatures of 25-30 ° C, falling to 8-12 ° C at night.</td><td>Produzzjoni Inbid fir-reġjun inbid fuq ta &#x27;Salta għal żona ta&#x27; 1,700 ettari. Il-klima hija estremament xotti u l-sjuf huma twal, b&#x27;temperaturi matul il-jum ta &#x27;25-30 ° C, jaqa&#x27; għal 8-12 ° C bil-lejl.</td></tr>\n",
       "<tr><td>Melbourne’s spectacular Albert Park street circuit is the perfect setting for the opening round of the 2017 FIA Formula One World Championship™ season.</td><td>Spettakolari ċirkwit Melbourne Albert Park triq huwa t-twaqqif perfetta għall-rawnd ftuħ tal- 2017 FIA Formula One World Championship ™ istaġun.</td></tr>\n",
       "<tr><td>however, there is a problem with that approach and it is that when you are in a different than default language and will try to switch back to default, you won’t be able to do so… and I don’t have any ideas on how to fix that.</td><td>madankollu, hemm problema dan l-approċċ u huwa li meta inti fil differenti minn lingwa default u se tipprova li jaqilbu lura għall-inadempjenza, inti mhux ser ikunu jistgħu jagħmlu dan… u jien ma jkollhom xi ideat dwar kif jiġu ffissati li.</td></tr></tbody></table>"
      ],
      "text/plain": [
       "<notebook.table at 0x1b2693910>"
      ]
     },
     "execution_count": 115,
     "metadata": {},
     "output_type": "execute_result"
    }
   ],
   "source": [
    "table({lang: tuv.text for lang, tuv in unit.translations.items()} for unit in outside)"
   ]
  },
  {
   "cell_type": "code",
   "execution_count": 119,
   "metadata": {
    "collapsed": true,
    "jupyter": {
     "outputs_hidden": true
    },
    "tags": []
   },
   "outputs": [
    {
     "data": {
      "text/plain": [
       "[('www.lsherb.com', 22),\n",
       " ('mt.lsherb.com', 22),\n",
       " ('kaizenlog.com', 20),\n",
       " ('www.muhammad.com', 18),\n",
       " ('europa.eu', 18),\n",
       " ('www.meto-wiper.com', 17),\n",
       " ('m.meto-wiper.com', 17),\n",
       " ('mt.meto-wiper.com', 17),\n",
       " ('m.mt.meto-wiper.com', 17),\n",
       " ('en.zazagame.com', 13),\n",
       " ('mt.zazagame.com', 13),\n",
       " ('www.conex.net', 12),\n",
       " ('www.byvisiontech.com', 10),\n",
       " ('m.byvisiontech.com', 10),\n",
       " ('mt.byvisiontech.com', 10),\n",
       " ('m.mt.byvisiontech.com', 10),\n",
       " ('www.cnimalta.org', 8),\n",
       " ('www.yourwebdoc.org', 8),\n",
       " ('www.summerlyquartzstone.com', 7),\n",
       " ('mt.summerlyquartzstone.com', 7),\n",
       " ('www.yourwebdoc.com', 6),\n",
       " ('mt.yourwebdoc.com', 6),\n",
       " ('maltaracingclub.com', 6),\n",
       " ('www.electric-test.com', 5),\n",
       " ('mt.electric-test.com', 5),\n",
       " ('www.lexilogos.com', 4),\n",
       " ('m.summerlyquartzstone.com', 4),\n",
       " ('m.mt.summerlyquartzstone.com', 4),\n",
       " ('m.electric-test.com', 4),\n",
       " ('m.mt.electric-test.com', 4),\n",
       " ('www.medjugorje.ws', 4),\n",
       " ('www.kreattivita.org', 4),\n",
       " ('www.zhitov.ru', 4),\n",
       " ('m.htongsteel.com', 3),\n",
       " ('www.htongsteel.com', 3),\n",
       " ('mt.htongsteel.com', 3),\n",
       " ('m.mt.htongsteel.com', 3),\n",
       " ('m.lsherb.com', 3),\n",
       " ('m.mt.lsherb.com', 3),\n",
       " ('m.baojicuclad.com', 2),\n",
       " ('m.mt.baojicuclad.com', 2),\n",
       " ('www.evergrowingcage.com', 2),\n",
       " ('m.woodenboxsupplier.com', 2),\n",
       " ('www.woodenboxsupplier.com', 2),\n",
       " ('mt.woodenboxsupplier.com', 2),\n",
       " ('m.mt.woodenboxsupplier.com', 2),\n",
       " ('www.cropcirclesonline.com', 2),\n",
       " ('patrickjsammut.blogspot.hk', 2),\n",
       " ('www.jpslurrypump.com', 2),\n",
       " ('www.joyelectric-china.com', 2)]"
      ]
     },
     "execution_count": 119,
     "metadata": {},
     "output_type": "execute_result"
    }
   ],
   "source": [
    "Counter(domain(url) for unit in inside for url in urls(unit)).most_common(50)"
   ]
  },
  {
   "cell_type": "code",
   "execution_count": 120,
   "metadata": {
    "collapsed": true,
    "jupyter": {
     "outputs_hidden": true
    },
    "tags": []
   },
   "outputs": [
    {
     "data": {
      "text/plain": [
       "[('straightpoint.com', 180),\n",
       " ('www.welcome-to-barcelona.com', 106),\n",
       " ('www.straightpoint.com', 46),\n",
       " ('skolarbete.nu', 24),\n",
       " ('www.tulipstores.com', 20),\n",
       " ('fionavella.com', 18),\n",
       " ('mail.straightpoint.com', 18),\n",
       " ('www.emltopst.com', 18),\n",
       " ('builttobrag.com', 14),\n",
       " ('educationbro.com', 14),\n",
       " ('www.gfesport.com', 12),\n",
       " ('2fish.co', 11),\n",
       " ('transposh.org', 10),\n",
       " ('mamaclub.info', 8),\n",
       " ('www.exacthacks.com', 7),\n",
       " ('www.metric-conversions.org', 6),\n",
       " ('kaizenlog.com', 6),\n",
       " ('theforexclub.eu', 6),\n",
       " ('trenboloneresults.com', 6),\n",
       " ('www.conex.net', 6),\n",
       " ('www.holmbygden.se', 6),\n",
       " ('www.cnimalta.org', 4),\n",
       " ('www.blogprinvizor.ro', 4),\n",
       " ('www.federacionfotovasca.org', 4),\n",
       " ('www.muhammad.com', 4),\n",
       " ('www.belvini-weinversand.de', 4),\n",
       " ('www.extendoffice.com', 4),\n",
       " ('m.cncmachinecenters.com', 4),\n",
       " ('www.cncmachinecenters.com', 4),\n",
       " ('m.mt.cncmachinecenters.com', 4),\n",
       " ('mt.cncmachinecenters.com', 4),\n",
       " ('yatraveller.com', 4),\n",
       " ('www.parisdakar.it', 4),\n",
       " ('infotakraw.com', 4),\n",
       " ('www.infinitecosmos.info', 3),\n",
       " ('8cosmos.com', 3),\n",
       " ('home-automation.ehouse.pro', 2),\n",
       " ('therefugeecenter.org', 2),\n",
       " ('infinitecosmos.info', 2),\n",
       " ('www.bestwaytowhitenteethguide.org', 2),\n",
       " ('www.electric-test.com', 2),\n",
       " ('m.electric-test.com', 2),\n",
       " ('mt.electric-test.com', 2),\n",
       " ('m.mt.electric-test.com', 2),\n",
       " ('websetnet.net', 2),\n",
       " ('maltaracingclub.com', 2),\n",
       " ('acelineentertainment.com', 2),\n",
       " ('www.realt5000.com.ua', 2),\n",
       " ('www.yourwebdoc.com', 2),\n",
       " ('mt.yourwebdoc.com', 2)]"
      ]
     },
     "execution_count": 120,
     "metadata": {},
     "output_type": "execute_result"
    }
   ],
   "source": [
    "Counter(domain(url) for unit in outside for url in urls(unit)).most_common(50)"
   ]
  },
  {
   "cell_type": "code",
   "execution_count": 157,
   "metadata": {},
   "outputs": [],
   "source": [
    "inside_domains, outside_domains = Counter(), Counter()\n",
    "\n",
    "for unit in philipp:\n",
    "    if checksum(unit) in hashes['paracrawl-8']:\n",
    "        inside_urls.update(domain(url) for url in urls(unit))\n",
    "    else:\n",
    "        outside_urls.update(domain(url) for url in urls(unit))    \n",
    "        "
   ]
  },
  {
   "cell_type": "code",
   "execution_count": 123,
   "metadata": {},
   "outputs": [
    {
     "data": {
      "text/plain": [
       "(604, 927)"
      ]
     },
     "execution_count": 123,
     "metadata": {},
     "output_type": "execute_result"
    }
   ],
   "source": [
    "len(inside_urls), len(outside_urls)"
   ]
  },
  {
   "cell_type": "code",
   "execution_count": 124,
   "metadata": {},
   "outputs": [
    {
     "data": {
      "text/plain": [
       "596"
      ]
     },
     "execution_count": 124,
     "metadata": {},
     "output_type": "execute_result"
    }
   ],
   "source": [
    "len(inside_urls & outside_urls)"
   ]
  },
  {
   "cell_type": "code",
   "execution_count": 125,
   "metadata": {},
   "outputs": [
    {
     "data": {
      "text/plain": [
       "339"
      ]
     },
     "execution_count": 125,
     "metadata": {},
     "output_type": "execute_result"
    }
   ],
   "source": [
    "len(inside_urls ^ outside_urls)"
   ]
  },
  {
   "cell_type": "markdown",
   "metadata": {},
   "source": [
    "# Filtered domains from logs\n",
    "I also still have the warc2text processing logs of Philipp's dataset. These contain all urls that got filtered. For easy usage, I'm going to collapse them to their domain, and then see how many of the domains in Paracrawl 7.1 and 8 are in this list of filtered domains.\n",
    "\n",
    "I assume the answer will be many and nearly none respectively. Maybe some will slip through for Paracrawl 8 because the MT filter works at a page level, not a domain level, and a domain could be a mix of MT and non-MT pages."
   ]
  },
  {
   "cell_type": "code",
   "execution_count": 151,
   "metadata": {},
   "outputs": [
    {
     "data": {
      "application/vnd.jupyter.widget-view+json": {
       "model_id": "a2dc3b40e34b4022beb5df22bdb09c72",
       "version_major": 2,
       "version_minor": 0
      },
      "text/plain": [
       "en-mt.tmx.gz:   0%|          | 0.00/197M [00:00<?, ?b/s]"
      ]
     },
     "metadata": {},
     "output_type": "display_data"
    },
    {
     "data": {
      "application/vnd.jupyter.widget-view+json": {
       "model_id": "7dd7851af86d4ce7b8a2ef32b6afa989",
       "version_major": 2,
       "version_minor": 0
      },
      "text/plain": [
       "en-mt.cc-2016-30-cc-2017-30-cc-2018-30-cc-2019-18-cc-2019-35-gwb-hieu-marta-philipp-wide00006-wide00015.tmx.gz…"
      ]
     },
     "metadata": {},
     "output_type": "display_data"
    }
   ],
   "source": [
    "domains = {\n",
    "    dataset: Counter(domain(url) for unit in read(path) for url in urls(unit))\n",
    "    for dataset, path in files.items()\n",
    "}"
   ]
  },
  {
   "cell_type": "markdown",
   "metadata": {},
   "source": [
    "That's the number of urls per domain. Now load in the list of filtered urls."
   ]
  },
  {
   "cell_type": "code",
   "execution_count": 131,
   "metadata": {},
   "outputs": [],
   "source": [
    "import gzip\n",
    "with gzip.open('warc2text-philipp.urls.gz') as fh:\n",
    "    filtered_domains = set(domain(url.strip().decode()) for url in fh)"
   ]
  },
  {
   "cell_type": "code",
   "execution_count": 172,
   "metadata": {},
   "outputs": [
    {
     "data": {
      "text/html": [
       "<table><thead><tr><th>dataset</th><th>filtered domains</th><th>total domains</th><th>% of domains</th><th>filtered urls</th><th>total urls</th><th>% of urls</th></tr></thead><tbody><tr><td>paracrawl-7.1</td><td>152</td><td>2889</td><td>5.26%</td><td>2897031</td><td>6248521</td><td>46.36%</td></tr>\n",
       "<tr><td>paracrawl-8</td><td>108</td><td>30543</td><td>0.35%</td><td>173880</td><td>18489248</td><td>0.94%</td></tr>\n",
       "<tr><td>unexplained</td><td>35</td><td>819</td><td>4.27%</td><td>20510</td><td>976197</td><td>2.10%</td></tr></tbody></table>"
      ],
      "text/plain": [
       "<notebook.table at 0x1b2eb86d0>"
      ]
     },
     "execution_count": 172,
     "metadata": {},
     "output_type": "execute_result"
    }
   ],
   "source": [
    "def percentage(selection_label, selection, unit_label, total):\n",
    "    return {\n",
    "        f'{selection_label} {unit_label}': selection,\n",
    "        f'total {unit_label}': total,\n",
    "        f'% of {unit_label}': '{:0.2f}%'.format(selection / total * 100)\n",
    "    }\n",
    "\n",
    "table({\n",
    "    'dataset': dataset,\n",
    "    **percentage('filtered', len(set(counter) & filtered_domains), 'domains', len(counter)),\n",
    "    **percentage('filtered', sum(counter[url] for url in set(counter) & filtered_domains), 'urls', sum(counter[url] for url in counter))\n",
    "} for dataset, counter in domains.items())"
   ]
  },
  {
   "cell_type": "markdown",
   "metadata": {},
   "source": [
    "But this is when counting domains. More interesting is the number of units that are now filtered by the domain filter.\n",
    "\n",
    "I'm taking all units from Paracrawl 7.1 release that originated from Philipp's dataset, and marking them \"missing\" if they did not end up in Paracrawl 8. I'm also marking them \"filtered\" if they appeared in the filtered domain logs."
   ]
  },
  {
   "cell_type": "code",
   "execution_count": 161,
   "metadata": {},
   "outputs": [],
   "source": [
    "missing_philipp = [unit for unit in philipp if checksum(unit) not in hashes['paracrawl-8']]"
   ]
  },
  {
   "cell_type": "code",
   "execution_count": 162,
   "metadata": {},
   "outputs": [
    {
     "data": {
      "text/plain": [
       "0.6122839279146746"
      ]
     },
     "execution_count": 162,
     "metadata": {},
     "output_type": "execute_result"
    }
   ],
   "source": [
    "len(missing_philipp) / len(philipp)"
   ]
  },
  {
   "cell_type": "code",
   "execution_count": 158,
   "metadata": {},
   "outputs": [],
   "source": [
    "filtered_philipp = [unit for unit in philipp if all(domain(url) in filtered_domains for url in urls(unit))]"
   ]
  },
  {
   "cell_type": "code",
   "execution_count": 160,
   "metadata": {},
   "outputs": [
    {
     "data": {
      "text/plain": [
       "0.35446496649593195"
      ]
     },
     "execution_count": 160,
     "metadata": {},
     "output_type": "execute_result"
    }
   ],
   "source": [
    "len(filtered_philipp) / len(philipp)"
   ]
  },
  {
   "cell_type": "markdown",
   "metadata": {},
   "source": [
    "61% of Philipp is missing from Paracrawl 8. 35% of Philipp would not show up at all in Paracrawl 8 because these units originate only from filtered domains."
   ]
  },
  {
   "cell_type": "code",
   "execution_count": 163,
   "metadata": {},
   "outputs": [
    {
     "data": {
      "text/plain": [
       "0.5652389212503369"
      ]
     },
     "execution_count": 163,
     "metadata": {},
     "output_type": "execute_result"
    }
   ],
   "source": [
    "missing_philipp_set = {id(unit) for unit in missing_philipp}\n",
    "filtered_philipp_set = {id(unit) for unit in filtered_philipp}\n",
    "len(missing_philipp_set & filtered_philipp_set) / len(missing_philipp_set)"
   ]
  },
  {
   "cell_type": "code",
   "execution_count": 164,
   "metadata": {},
   "outputs": [
    {
     "data": {
      "text/plain": [
       "0.9763636455660325"
      ]
     },
     "execution_count": 164,
     "metadata": {},
     "output_type": "execute_result"
    }
   ],
   "source": [
    "len(missing_philipp_set & filtered_philipp_set) / len(filtered_philipp_set)"
   ]
  },
  {
   "cell_type": "markdown",
   "metadata": {},
   "source": [
    "56% of all missing sentence pairs are probably filtered out by MT.\n",
    "\n",
    "98% of all sentence pairs that appear in Paracrawl 7.1, that match a domain that was filtered out for MT while processing Paracrawl 8, do not appear in Paracrawl 8. Well, not really surprising I think…\n",
    "\n",
    "But there is still a large set of sentence pairs that are from domains that did not get filtered out for MT reasons. What's up with these then?"
   ]
  },
  {
   "cell_type": "code",
   "execution_count": 166,
   "metadata": {},
   "outputs": [],
   "source": [
    "unexplained_unit_ids = missing_philipp_set - filtered_philipp_set\n",
    "unexplained_units = [unit for unit in philipp if id(unit) in unexplained_unit_ids]"
   ]
  },
  {
   "cell_type": "code",
   "execution_count": 171,
   "metadata": {},
   "outputs": [],
   "source": [
    "domains['unexplained'] = Counter(domain(url) for unit in unexplained_units for url in urls(unit))"
   ]
  },
  {
   "cell_type": "code",
   "execution_count": 174,
   "metadata": {},
   "outputs": [
    {
     "data": {
      "text/plain": [
       "0.7326007326007326"
      ]
     },
     "execution_count": 174,
     "metadata": {},
     "output_type": "execute_result"
    }
   ],
   "source": [
    "len(set(domains['unexplained']) & set(domains['paracrawl-8'])) / len(domains['unexplained'])"
   ]
  },
  {
   "cell_type": "markdown",
   "metadata": {},
   "source": [
    "73% of the unexplained domains also occur in Paracrawl 8, so we're not excluding whole swaths of domains."
   ]
  },
  {
   "cell_type": "code",
   "execution_count": 186,
   "metadata": {},
   "outputs": [
    {
     "data": {
      "text/html": [
       "<table><thead><tr><th>domain</th><th>unexplained</th><th>paracrawl-7.1</th><th>paracrawl-8</th></tr></thead><tbody><tr><td>www.yourwebdoc.org</td><td>61823</td><td>98619</td><td>24669</td></tr>\n",
       "<tr><td>www.conex.net</td><td>45103</td><td>115743</td><td>75459</td></tr>\n",
       "<tr><td>www.byvisiontech.com</td><td>43040</td><td>66895</td><td>45704</td></tr>\n",
       "<tr><td>mt.byvisiontech.com</td><td>40274</td><td>62537</td><td>33369</td></tr>\n",
       "<tr><td>www.muhammad.com</td><td>35786</td><td>89654</td><td>73555</td></tr>\n",
       "<tr><td>kaizenlog.com</td><td>28170</td><td>75374</td><td>55065</td></tr>\n",
       "<tr><td>www.metric-conversions.org</td><td>22950</td><td>40994</td><td>0</td></tr>\n",
       "<tr><td>www.airmalta.com</td><td>21780</td><td>41055</td><td>51236</td></tr>\n",
       "<tr><td>europa.eu</td><td>21392</td><td>101565</td><td>700276</td></tr>\n",
       "<tr><td>actioncertification.org</td><td>19233</td><td>44444</td><td>31612</td></tr>\n",
       "<tr><td>mt.yourwebdoc.org</td><td>18941</td><td>31311</td><td>18281</td></tr>\n",
       "<tr><td>mt.actioncertification.org</td><td>18655</td><td>42172</td><td>26824</td></tr>\n",
       "<tr><td>www.electric-test.com</td><td>12453</td><td>32703</td><td>33844</td></tr>\n",
       "<tr><td>mt.electric-test.com</td><td>11949</td><td>31910</td><td>28748</td></tr>\n",
       "<tr><td>www.cnimalta.org</td><td>11891</td><td>84352</td><td>66056</td></tr></tbody></table>"
      ],
      "text/plain": [
       "<notebook.table at 0x1b2a56af0>"
      ]
     },
     "execution_count": 186,
     "metadata": {},
     "output_type": "execute_result"
    }
   ],
   "source": [
    "table({\n",
    "    'domain': d,\n",
    "    'unexplained': count, # pairs where all domains are filtered\n",
    "    'paracrawl-7.1': domains['paracrawl-7.1'][d], # pairs where at least some domains are filtered\n",
    "    'paracrawl-8': domains['paracrawl-8'][d] # pairs in latest release\n",
    "} for d, count in domains['unexplained'].most_common()[:15])"
   ]
  },
  {
   "cell_type": "code",
   "execution_count": null,
   "metadata": {},
   "outputs": [],
   "source": []
  }
 ],
 "metadata": {
  "kernelspec": {
   "display_name": "Python 3",
   "language": "python",
   "name": "python3"
  },
  "language_info": {
   "codemirror_mode": {
    "name": "ipython",
    "version": 3
   },
   "file_extension": ".py",
   "mimetype": "text/x-python",
   "name": "python",
   "nbconvert_exporter": "python",
   "pygments_lexer": "ipython3",
   "version": "3.9.2"
  }
 },
 "nbformat": 4,
 "nbformat_minor": 4
}
