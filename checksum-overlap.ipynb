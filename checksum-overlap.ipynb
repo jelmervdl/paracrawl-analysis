{
 "cells": [
  {
   "cell_type": "code",
   "execution_count": 1,
   "metadata": {
    "tags": []
   },
   "outputs": [
    {
     "name": "stderr",
     "output_type": "stream",
     "text": [
      "/Users/jelmer/Workspace/statmt/tmxutil/tmxutil.py:38: TqdmExperimentalWarning: Using `tqdm.autonotebook.tqdm` in notebook mode. Use `tqdm.tqdm` instead to force console mode (e.g. in jupyter console)\n",
      "  from tqdm.autonotebook import tqdm\n"
     ]
    }
   ],
   "source": [
    "import site\n",
    "site.addsitedir('../tmxutil')\n",
    "from tmxutil import make_reader, TranslationUnit, TranslationUnitVariant\n",
    "import unidecode\n",
    "import string\n",
    "from xxhash import xxh64\n",
    "from notebook import table, first\n",
    "from tqdm.autonotebook import tqdm\n",
    "from logging import getLogger, ERROR\n",
    "getLogger().setLevel(ERROR) # Hide warnings while importing\n",
    "\n",
    "def checksum(unit):\n",
    "    return xxh64(\"\\t\".join(\n",
    "        unidecode.unidecode(translation.text.lower().replace(\" \", \"\").translate(str.maketrans('', '', string.punctuation + string.digits)))\n",
    "        for translation in unit.translations.values())).hexdigest()\n",
    "\n",
    "def read(filename):\n",
    "    with open(filename, 'rb') as fh:\n",
    "        for unit in make_reader(fh, progress=True):\n",
    "            yield unit"
   ]
  },
  {
   "cell_type": "code",
   "execution_count": 2,
   "metadata": {},
   "outputs": [],
   "source": [
    "files = {\n",
    "    'paracrawl-7.1': 'en-mt.tmx.gz',\n",
    "    'paracrawl-8': 'en-mt.cc-2016-30-cc-2017-30-cc-2018-30-cc-2019-18-cc-2019-35-gwb-hieu-marta-philipp-wide00006-wide00015.tmx.gz'\n",
    "}"
   ]
  },
  {
   "cell_type": "code",
   "execution_count": 3,
   "metadata": {},
   "outputs": [
    {
     "data": {
      "application/vnd.jupyter.widget-view+json": {
       "model_id": "a58a0a9d258641e39a928b3a3af322ee",
       "version_major": 2,
       "version_minor": 0
      },
      "text/plain": [
       "en-mt.tmx.gz:   0%|          | 0.00/197M [00:00<?, ?b/s]"
      ]
     },
     "metadata": {},
     "output_type": "display_data"
    },
    {
     "data": {
      "application/vnd.jupyter.widget-view+json": {
       "model_id": "950f7804954440ca9fe0588dea175d40",
       "version_major": 2,
       "version_minor": 0
      },
      "text/plain": [
       "en-mt.cc-2016-30-cc-2017-30-cc-2018-30-cc-2019-18-cc-2019-35-gwb-hieu-marta-philipp-wide00006-wide00015.tmx.gz…"
      ]
     },
     "metadata": {},
     "output_type": "display_data"
    }
   ],
   "source": [
    "hashes = {\n",
    "    release: frozenset(checksum(unit) for unit in read(filename))\n",
    "    for release, filename in files.items()\n",
    "}"
   ]
  },
  {
   "cell_type": "markdown",
   "metadata": {},
   "source": [
    "# Overlap between releases\n",
    "How many sentence pairs are in one while not in the other, and how many are in both?"
   ]
  },
  {
   "cell_type": "code",
   "execution_count": 4,
   "metadata": {},
   "outputs": [
    {
     "data": {
      "text/plain": [
       "0.18467959367509593"
      ]
     },
     "execution_count": 4,
     "metadata": {},
     "output_type": "execute_result"
    }
   ],
   "source": [
    "len(hashes['paracrawl-7.1'] & hashes['paracrawl-8']) / len(hashes['paracrawl-8']) # Overlap"
   ]
  },
  {
   "cell_type": "code",
   "execution_count": 5,
   "metadata": {},
   "outputs": [
    {
     "data": {
      "text/plain": [
       "0.8153204063249041"
      ]
     },
     "execution_count": 5,
     "metadata": {},
     "output_type": "execute_result"
    }
   ],
   "source": [
    "len(hashes['paracrawl-8'] - hashes['paracrawl-7.1']) / len(hashes['paracrawl-8']) # Novel"
   ]
  },
  {
   "cell_type": "code",
   "execution_count": 6,
   "metadata": {},
   "outputs": [
    {
     "data": {
      "text/plain": [
       "0.6543089586479063"
      ]
     },
     "execution_count": 6,
     "metadata": {},
     "output_type": "execute_result"
    }
   ],
   "source": [
    "len(hashes['paracrawl-7.1'] - hashes['paracrawl-8']) / len(hashes['paracrawl-7.1']) # Lost"
   ]
  },
  {
   "cell_type": "markdown",
   "metadata": {},
   "source": [
    "Okay, so about 65% of all sentence pairs in 7.1 do not return in 8? Why? Are these from domains that we marked as likely MT? Are they low quality?"
   ]
  },
  {
   "cell_type": "code",
   "execution_count": 7,
   "metadata": {},
   "outputs": [
    {
     "data": {
      "application/vnd.jupyter.widget-view+json": {
       "model_id": "907c3f598f8348a9aca99d4f709d8615",
       "version_major": 2,
       "version_minor": 0
      },
      "text/plain": [
       "en-mt.tmx.gz:   0%|          | 0.00/197M [00:00<?, ?b/s]"
      ]
     },
     "metadata": {},
     "output_type": "display_data"
    }
   ],
   "source": [
    "from stats import RandomSample\n",
    "from collections import Counter\n",
    "import re\n",
    "\n",
    "def domain(url):\n",
    "    \"\"\"Take the (very broadly defined) domain part of an url, or return the\n",
    "    full url if that didn't work.\"\"\"\n",
    "    match = re.match(r'^(https?:)?(//)?(?P<domain>[^/]+)', url)\n",
    "    return match.group('domain')\n",
    "\n",
    "lost_hashes = hashes['paracrawl-7.1'] - hashes['paracrawl-8']\n",
    "\n",
    "sample = RandomSample(100)\n",
    "\n",
    "domains = Counter()\n",
    "\n",
    "collections_overall = Counter()\n",
    "\n",
    "collections_missing = Counter()\n",
    "\n",
    "for unit in read(files['paracrawl-7.1']):\n",
    "    collections_overall.update(unit['collection'])\n",
    "    if checksum(unit) in lost_hashes:\n",
    "        collections_missing.update(unit['collection'])\n",
    "        sample.add(unit)\n",
    "        for translation in unit.translations.values():\n",
    "            domains.update(domain(url) for url in translation['source-document'])"
   ]
  },
  {
   "cell_type": "code",
   "execution_count": 8,
   "metadata": {},
   "outputs": [],
   "source": [
    "import notebook\n",
    "import importlib\n",
    "notebook = importlib.reload(notebook)\n",
    "table = notebook.table"
   ]
  },
  {
   "cell_type": "code",
   "execution_count": 9,
   "metadata": {},
   "outputs": [
    {
     "data": {
      "text/html": [
       "<table><thead><tr><th>score</th><th>collection</th><th>en</th><th>mt</th></tr></thead><tbody><tr><td>0.720</td><td><table><thead></thead><tbody><tr><td>hieu</td></tr></tbody></table></td><td>Sevelamer carbonate Zentiva 800 mg film-coated tablets</td><td>Sevelamer carbonate Zentiva 800 mg pilloli miksija b&#x27;rita</td></tr>\n",
       "<tr><td>0.800</td><td><table><thead></thead><tbody><tr><td>philipp</td></tr></tbody></table></td><td>It&#x27;s a bitch and is not so much for being a Bearded Collie.</td><td>Huwa kelba u mhux daqshekk kbira li jkun Collie Bearded.</td></tr>\n",
       "<tr><td>0.870</td><td><table><thead></thead><tbody><tr><td>philipp</td></tr></tbody></table></td><td>The images of people, animals and plants always be exaggerated, deformed, or time-warped, or out of order.</td><td>L-istampi ta &#x27;nies, annimali u pjanti dejjem ikunu eżaġerati, deformat, jew iż-warped, jew out of order.</td></tr>\n",
       "<tr><td>0.822</td><td><table><thead></thead><tbody><tr><td>philipp</td></tr></tbody></table></td><td>So to finish this module, let’s have a look at the topics that we covered.</td><td>Allura biex jintemm dan il-modulu, ejja agħti ħarsa lejn is-suġġetti li aħna koperti.</td></tr>\n",
       "<tr><td>0.864</td><td><table><thead></thead><tbody><tr><td>philipp</td></tr></tbody></table></td><td>I did not mean to disrupt you &quot;AS Sordid came close enough to touch the boy he grabbed Grunt&#x27;s arm and pulled him to his feet and said with a calm voice&quot; A good idea.</td><td>Nota I ma jfissirx li Sfratta int &quot;Kif sordid daħal qrib biżżejjed tmissx il-boy hu driegħ grabbed Grunt u ġenna miġbud għall saqajh u qal b&#x27;vuċi kalm&quot; A idea tajba.</td></tr>\n",
       "<tr><td>0.790</td><td><table><thead></thead><tbody><tr><td>hieu</td></tr></tbody></table></td><td>Whilst describing this activity as a national event, Stefan Caruana from the Gudja Youth Group said that youths and other persons taking part represent different sectors of Maltese society and they will be participating in a collective and sporting activity.</td><td>Waqt li ddeskriva din l-attività bħala waħda nazzjonali, Stefan Caruana, mill-Grupp Żgħażagħ Gudja qal li żgħażagħ u persuni li ġejjin minn oqsma differenti tal-ħajja se jkunu qed jieħdu sehem f&#x27;attività kollettiva u sportiva.</td></tr>\n",
       "<tr><td>0.748</td><td><table><thead></thead><tbody><tr><td>wide00006</td></tr></tbody></table></td><td>DEAR SIR/MADAM, I WANT TO ASK SOME QUESTION IN YOUR GOOD OFFICE IF I CAN APPLY A PERSONAL LOAN FOR OFW.RECENTLY,IM WORKING HERE IN SAUDI ARABIA FOR 4 YEARS IN ONE OF THE HOSPITAL HERE IN SAUDI ARABIA.</td><td>Għażiż Sinjur / Sinjura, I TIXTIEQ LI ASK XI MISTOQSIJA BIL-UFFIĊĊJU TAJBA TIEGĦEK JEKK I CAN JAPPLIKA A SELF PERSONALI TA OFW.RECENTLY, IM ĦIDMA HERE fl-Arabja Sawdita għal 4 snin FIL WIEĦED TA &#x27;L-ISPTAR HERE IN Għarabja Sawdita.</td></tr>\n",
       "<tr><td>0.830</td><td><table><thead></thead><tbody><tr><td>philipp</td></tr></tbody></table></td><td>85:11 (But) for those who believe and do good works, for them there are Gardens underneath which rivers flow that is the Great Victory!</td><td>85:11 (Imma) għal dawk li jemmnu u jagħmlu xogħlijiet tajba, għalihom hemm Gardens taħt li jirriżultaw xmajjar li huwa l-Vitorja Gran!</td></tr>\n",
       "<tr><td>0.764</td><td><table><thead></thead><tbody><tr><td>wide00015</td></tr></tbody></table></td><td>Here’s what I’m writing about 3 Ideas for Making the Most of Your Website or Blog</td><td>Here’s what I’m writing about 3 Ideat għall Nagħmlu l-biċċa l-kbira tal Your Website jew Blog</td></tr>\n",
       "<tr><td>0.658</td><td><table><thead></thead><tbody><tr><td>hieu</td></tr></tbody></table></td><td>The Queen&#x27;s Club has over 18 Club teams representing the Club in local, regional and national tennis competitions.</td><td>Club tar-Reġina għandha aktar 18 Timijiet tal-klabbs li jirrappreżentaw il-Club fl lokali, kompetizzjonijiet reġjonali u nazzjonali tat-tennis.</td></tr>\n",
       "<tr><td>0.676</td><td><table><thead></thead><tbody><tr><td>philipp</td></tr></tbody></table></td><td>Intro/sample Oh oh, the light We don’t know where we going (repeat) Verse 1: Look around it’s all dark, all black everything Like the million man march, but I’m talking bout everything Dark... Track 1: Rise</td><td>Intro / kampjun Oh oh, dawl Ma nafux fejn aħna sejrin (irrepeti) Verse 1: Ħares madwarek dan kollu dlam, kollha kollox iswed Bħall-marzu miljun bniedem, but I’m talking bout everything Dark.. .</td></tr>\n",
       "<tr><td>0.756</td><td><table><thead></thead><tbody><tr><td>philipp</td></tr></tbody></table></td><td>Or does he promise new beginnings and a favorable outcome?</td><td>Jew hu jwiegħed bidu ġdid u riżultat favorevoli?</td></tr>\n",
       "<tr><td>0.810</td><td><table><thead></thead><tbody><tr><td>philipp</td></tr></tbody></table></td><td>If you are intrigued by the game online race is illegal, it also has to choose from.</td><td>Jekk inti intrigued mill-logħba online razza hija illegali, għandu wkoll minn fejn jagħżlu.</td></tr>\n",
       "<tr><td>0.708</td><td><table><thead></thead><tbody><tr><td>philipp</td></tr></tbody></table></td><td>Lord ..won’t you buy me a Mercedes Benz?</td><td>Lord .. mhux se tixtri me a Benz Mercedes?</td></tr>\n",
       "<tr><td>0.696</td><td><table><thead></thead><tbody><tr><td>philipp</td></tr></tbody></table></td><td>Jesus does what we couldnʼt do.</td><td>Ġesù ma dak li aħna couldn&#x27;t nagħmlu.</td></tr>\n",
       "<tr><td>0.584</td><td><table><thead></thead><tbody><tr><td>philipp</td></tr></tbody></table></td><td>Some of the most popular options in modern kitchen design are quartz countertops.Quartz... Expandable Quartz Dining Table Quartz Top Round Dining Table Quartz is an engineered stone with up to 93% quartz and the remaining percentage made of binder and pigment.The high degree of mineral content gives quartz its distinctive look and feel.</td><td>Tabella tal-pranzu tal-kwarz li jista &#x27;jitwessa&#x27; Quartz Top Round Dining Table Quartz huwa ġebel maħdum b&#x27;madwar 93% tal-kwarz u l-perċentwali li jifdal magħmul minn materjal li jgħaqqad u pigment.The grad għoli ta &#x27;kontenut minerali jagħti lill-kwarz id-dehra u s-sens distintiv tiegħu....</td></tr>\n",
       "<tr><td>0.882</td><td><table><thead></thead><tbody><tr><td>philipp</td></tr></tbody></table></td><td>If we talk about the third part of the &quot;Ice Age&quot;, the most interesting character is certainly a protein Skrat with his gigantic acorn, while other characters are not less pretty and attractive.</td><td>Jekk nitkellmu dwar it-tielet parti tal-&quot;Age Silġ&quot;, il-karattru aktar interessanti hija ċertament Skrat proteina ma acorn ġiganteski tiegħu, filwaqt li karattri oħra ma jkunux inqas pretty u attraenti.</td></tr>\n",
       "<tr><td>0.716</td><td><table><thead></thead><tbody><tr><td>hieu</td></tr>\n",
       "<tr><td>philipp</td></tr></tbody></table></td><td>And all you want to later.</td><td>U kull ma tkun trid aktar tard.</td></tr>\n",
       "<tr><td>0.808</td><td><table><thead></thead><tbody><tr><td>philipp</td></tr></tbody></table></td><td>They might want to know how high something has been jacked up or to what extent a building has shifted, for example.”</td><td>Huma jistgħu jixtiequ jkunu jafu liema ħaġa għolja ġiet imqabbda jew sa liema punt il-bini nbidel, per eżempju.</td></tr>\n",
       "<tr><td>0.724</td><td><table><thead></thead><tbody><tr><td>philipp</td></tr></tbody></table></td><td>8 May 2011 Photography, location by county, Monasteries,Churches,Cathedral, German church Razboieni Merlinlx</td><td>8 Mejju 2011 Fotografija, post mill-kontea, Monasteri,Knejjes,Katidral, Ġermaniż knisja Razboieni Merlinlx</td></tr>\n",
       "<tr><td>0.572</td><td><table><thead></thead><tbody><tr><td>hieu</td></tr>\n",
       "<tr><td>philipp</td></tr></tbody></table></td><td>They succeeded that on 1 January this year, they got two new Eastern European countries,</td><td>Huma waslu biex fl-1 ta Jannar ta din is-sena, sieħbu fl-UE żewġ pajjiżi oħrajn ta l-Ewropa tal-Lvant,</td></tr>\n",
       "<tr><td>0.666</td><td><table><thead></thead><tbody><tr><td>wide00006</td></tr></tbody></table></td><td>Not only that, hydrogen fuel cells also tend to be very fragile and sensitive to vibrations and sudden movements.</td><td>Mhux dan biss, ċelloli tal-fjuwil idroġenu wkoll għandhom tendenza li jkunu fraġli ħafna u sensittivi għall-vibrazzjonijiet u l-movimenti f&#x27;daqqa.</td></tr>\n",
       "<tr><td>0.758</td><td><table><thead></thead><tbody><tr><td>hieu</td></tr></tbody></table></td><td>You have the words that give eternal life&quot; (Jn.6,68).</td><td>Int għandek il-kliem tal-ħajja ta&#x27; dejjem&quot; (Ġw. 6,68).</td></tr>\n",
       "<tr><td>0.516</td><td><table><thead></thead><tbody><tr><td>wide00006</td></tr></tbody></table></td><td>nahuatl languages - tooro</td><td>tooro - Maltais</td></tr>\n",
       "<tr><td>0.828</td><td><table><thead></thead><tbody><tr><td>hieu</td></tr></tbody></table></td><td>6402 99 39 (NPR) Slippers and other indoor footwear</td><td>6402 99 39 (NPR) Papoċċi u xedd is-saqajn ieħor ta&#x27; ġewwa</td></tr>\n",
       "<tr><td>0.866</td><td><table><thead></thead><tbody><tr><td>philipp</td></tr></tbody></table></td><td>When you enter a trade you are targeting profits as fast as possible.</td><td>Meta inti tidħol kummerċ inti qed jimmiraw profitti malajr kemm jista &#x27;jkun.</td></tr>\n",
       "<tr><td>0.564</td><td><table><thead></thead><tbody><tr><td>wide00006</td></tr></tbody></table></td><td>Mandate Research Â Â Â and Guidance</td><td>Governanza Mandat Riżorsi Riċerka Mandat u Gwida</td></tr>\n",
       "<tr><td>0.688</td><td><table><thead></thead><tbody><tr><td>wide00006</td></tr></tbody></table></td><td>No more needing to go &#x27;beneath the hood&#x27; to find out all those technical details that could be affecting your system.</td><td>Nru aktar bżonn biex tmur &quot;taħt il-barnuża&quot; biex issir taf dawk kollha dettalji tekniċi li jistgħu jiġu jaffettwaw is-sistema tiegħek.</td></tr>\n",
       "<tr><td>0.712</td><td><table><thead></thead><tbody><tr><td>philipp</td></tr></tbody></table></td><td>Advanced Digital Sound Amplifier Great Hearing Aid Device for Nice Life</td><td>Amplifikatur tal-Ħoss Diġitali Avvanzat Apparat tal-Għajnuna għas - Smigħ Gran għal Ħajja ta &#x27; Nizza</td></tr>\n",
       "<tr><td>0.564</td><td><table><thead></thead><tbody><tr><td>wide00015</td></tr></tbody></table></td><td>Aluminium skimmings (or skims) excluding salt slag — Slags from copper processing for further processing or refining not containing arsenic, lead or cadmium to an extent that they exhibit Annex III hazard characteristics</td><td>Fdalijiet minn metall imdewweb mill-ipproÄ‹essar tar-ram għal aktar ipproÄ‹essar jew raffinar li ma fihx arseniku, Ä‹omb jew kadmju sal-punt li juru karatteristici ta&#x27; perikolu ta&#x27; l-AnnessÂ III</td></tr>\n",
       "<tr><td>0.830</td><td><table><thead></thead><tbody><tr><td>philipp</td></tr></tbody></table></td><td>And that is what they are: stupid racists.</td><td>U dan huwa dak li huma: racists stupid.</td></tr>\n",
       "<tr><td>0.676</td><td><table><thead></thead><tbody><tr><td>philipp</td></tr></tbody></table></td><td>With a friend, with whom were in 2004, broke out again.</td><td>Fuq l-oħra, li kien fl-2004, faqqgħet darb&#x27;oħra.</td></tr>\n",
       "<tr><td>0.718</td><td><table><thead></thead><tbody><tr><td>hieu</td></tr>\n",
       "<tr><td>philipp</td></tr></tbody></table></td><td>Balance: The total sum on your Account after the last Completed Transaction and depositing/withdrawal operation made within any period of time.</td><td>bilanċ: Is-somma totali fuq Kont tiegħek wara l-aħħar Transazzjoni Completed u l-operat depożitu / irtirar ssir fi kwalunkwe perjodu ta &#x27;żmien.</td></tr>\n",
       "<tr><td>0.818</td><td><table><thead></thead><tbody><tr><td>philipp</td></tr></tbody></table></td><td>Linda has to take it easy with the singing and not throttle up as she usually does.</td><td>Linda trid teħodha faċli ma &#x27;l-kant u mhux throttle up kif hi normalment ma.</td></tr>\n",
       "<tr><td>0.848</td><td><table><thead></thead><tbody><tr><td>wide00006</td></tr></tbody></table></td><td>Also make sure you backup everything using the following guide:</td><td>Wkoll tagħmel żgur li int backup kollox tuża l-gwida li ġejja:</td></tr>\n",
       "<tr><td>0.848</td><td><table><thead></thead><tbody><tr><td>philipp</td></tr></tbody></table></td><td>Effects of Hibiscus Flower Extract [Nov 02, 2016]</td><td>Effetti ta &#x27; l-fjura Hibiscus estratt [Nov 02, 2016]</td></tr>\n",
       "<tr><td>0.532</td><td><table><thead></thead><tbody><tr><td>philipp</td></tr></tbody></table></td><td>An interesting adventure game- Fill [...]</td><td>Ikklikkja fuq l-valanga mill- [...]</td></tr>\n",
       "<tr><td>0.744</td><td><table><thead></thead><tbody><tr><td>hieu</td></tr>\n",
       "<tr><td>philipp</td></tr></tbody></table></td><td>What currencies can I deposit?</td><td>Liema muniti nista depożitu?</td></tr>\n",
       "<tr><td>0.658</td><td><table><thead></thead><tbody><tr><td>wide00006</td></tr></tbody></table></td><td>If the London 2012 Olympics logo had the same presentation – I bet more people would be happy with the design.</td><td>Jekk il- London Logħob Olimpiku logo 2012 kellhom l-istess preżentazzjoni - I bet aktar nies se jkunu kuntenti bil-disinn.</td></tr>\n",
       "<tr><td>0.752</td><td><table><thead></thead><tbody><tr><td>wide00006-pdf</td></tr></tbody></table></td><td>The use of inside information to cancel or amend an order concerning a financial instrument to which the information relates where the order was placed before the person concerned possessed the inside information, shall also be considered as insider dealing.</td><td>L-użu ta&#x27; informazzjoni privileġġata biex tiġi kkanċellata jew emendata ordni rigward strument finanzjarju li l-informazzjoni tkun relatata miegħu meta dik l-ordni tkun saret qabel ma l-persuna kkonċernata kellha l-informazzjoni privileġġata, għandhom jitqiesu wkoll bħala abbuż minn informazzjoni privileġġata.</td></tr>\n",
       "<tr><td>0.548</td><td><table><thead></thead><tbody><tr><td>wide00006-pdf</td></tr></tbody></table></td><td>Better informed and educated consumers</td><td>Konsumaturi infurmati kif ukoll edukati aktar</td></tr>\n",
       "<tr><td>0.772</td><td><table><thead></thead><tbody><tr><td>philipp</td></tr></tbody></table></td><td>Next: Ways to Extend the Life of Your Diamond Core Bit (I)</td><td>Li jmiss: Modi biex jestendu l-ħajja ta &#x27; tiegħek tad-djamanti tal-qalba tal-bits (I)</td></tr>\n",
       "<tr><td>0.882</td><td><table><thead></thead><tbody><tr><td>philipp</td></tr></tbody></table></td><td>They determine if a proof test is necessary or helpful to assess a piece of lifting equipment.</td><td>Huma jiddeterminaw jekk test ta &#x27;prova huwiex meħtieġ jew ta&#x27; għajnuna biex tiġi evalwata biċċa tagħmir ta &#x27;rfigħ.</td></tr>\n",
       "<tr><td>0.830</td><td><table><thead></thead><tbody><tr><td>philipp</td></tr></tbody></table></td><td>The others finished only secondary or even primary school .</td><td>L-oħrajn lesti biss sekondarja jew saħansitra iskola primarja.</td></tr>\n",
       "<tr><td>0.736</td><td><table><thead></thead><tbody><tr><td>hieu</td></tr></tbody></table></td><td>translator - Spanish - Slovak</td><td>traduttur - Sloven - Slovakk</td></tr>\n",
       "<tr><td>0.672</td><td><table><thead></thead><tbody><tr><td>philipp</td></tr></tbody></table></td><td>Contact Now Antique handmade wooden watch box with velvet Detail Picture More Design Packaging &amp; Shipping Packing: 1 pcs in EPE Foam In One Carton Box With 6 pcs Polyfoam Delivery Terms:EXW,FOB,CIF. Nearest Sea Port:Yantian,Shenzhen. Company Information Established in 2007 Weilongxin Crafts and Gifts Co.,Ltd. Specializing in... Read More</td><td>Dettal stampa aktar disinn pakkjar ta &#x27; ippakkjar tal-bastimenti &amp;: pcs 1 ta &#x27; fil-EPE tar-ragħwa fil wieħed kartuna kaxxa b &#x27; 6 pcs Polyfoam kunsinna termini: EXW, FOB, CIF. Eqreb Port tal-baħar: Yantian, Shenzhen. Kumpannija informazzjoni aħjar stabbilit fl-2007... Aktar Kuntatt issa</td></tr>\n",
       "<tr><td>0.674</td><td><table><thead></thead><tbody><tr><td>philipp</td></tr></tbody></table></td><td>cleaner spray</td><td>sprej iktar nadif</td></tr>\n",
       "<tr><td>0.540</td><td><table><thead></thead><tbody><tr><td>philipp</td></tr></tbody></table></td><td>Digital Hearing Aid Amplifier For Adults</td><td>New Design Għajnuniet ta &#x27;Smigħ BTE Cheap Bil CE U AID</td></tr>\n",
       "<tr><td>0.802</td><td><table><thead></thead><tbody><tr><td>philipp</td></tr></tbody></table></td><td>Due to Barcelona being heavy with tourism, shopping is an activity that takes place every day of the week.</td><td>Minħabba l Barcelona jkunu tqal mat-turiżmu, shopping huwa attività li ssir kull jum tal-ġimgħa.</td></tr>\n",
       "<tr><td>0.538</td><td><table><thead></thead><tbody><tr><td>philipp</td></tr></tbody></table></td><td>China Unlock Wireless Doorbell Manufacturers,Suppliers and Factory - Wholesale Products - EarsMATE Menu</td><td>Neħħi l-lokk Doorbell bla fili fabbrikanti, fornituri, bl-ingrossa - prodotti - Byvision tas-sigurtà Xjenza teknoloġija Ltd</td></tr>\n",
       "<tr><td>0.836</td><td><table><thead></thead><tbody><tr><td>philipp</td></tr></tbody></table></td><td>* would therefore not be applied by them.</td><td>* għalhekk ma jkunux applikati minnhom.</td></tr>\n",
       "<tr><td>0.758</td><td><table><thead></thead><tbody><tr><td>hieu</td></tr>\n",
       "<tr><td>philipp</td></tr></tbody></table></td><td>So instead of allowing our hearts to guide us, we need to live by faith in the truth.</td><td>Allura minflok ma tippermetti qlubna biex jiggwidaw lilna, għandna bżonn biex jgħixu bil-fidi fil-verità.</td></tr>\n",
       "<tr><td>0.726</td><td><table><thead></thead><tbody><tr><td>philipp</td></tr></tbody></table></td><td>Takes control of the Autobot hero and go out into a melee battle against bad transformers.</td><td>Jieħu kontroll tal-eroj Autobot u jmorru barra fil-battalja melee kontra transformers ħżiena.</td></tr>\n",
       "<tr><td>0.704</td><td><table><thead></thead><tbody><tr><td>philipp</td></tr></tbody></table></td><td>Then the preparation process is as described above.</td><td>Imbagħad il-proċess tal-preparazzjoni huwa kif deskritt hawn fuq.</td></tr>\n",
       "<tr><td>0.586</td><td><table><thead></thead><tbody><tr><td>philipp</td></tr></tbody></table></td><td>She and her family moved into her husband&#x27;s grandfather&#x27;s house.</td><td>Hija u l-familja tagħha mċaqalqa fil-dar grandfather ta &#x27;żewġha.</td></tr>\n",
       "<tr><td>0.814</td><td><table><thead></thead><tbody><tr><td>hieu</td></tr></tbody></table></td><td>One great way of doing this is taking a sip of water as the person is finishing a thought.</td><td>Mod wieħed tajjeb ħafna ta &#x27;kif isir dan qed jieħu SIP ta&#x27; ilma bħala l-persuna tkun irfinar maħsub.</td></tr>\n",
       "<tr><td>0.554</td><td><table><thead></thead><tbody><tr><td>philipp</td></tr></tbody></table></td><td>Game of Obstacles with Penny</td><td>Logħba bi Scooby u Sammy</td></tr>\n",
       "<tr><td>0.502</td><td><table><thead></thead><tbody><tr><td>wide00006</td></tr></tbody></table></td><td>Chaleo Yoovidhya invented the Thai energy drink Krating Daeng; in Thai daeng is red, and krating is the reddish brown bovine, gaur, an animal slightly larger than the bison.</td><td>Chaleo Yoovidhya vvinta l-enerġija xarba Tajlandiż Krating Daeng; fil Tajlandiż daeng hija ħamra, u krating huwa l-ifrat kannella ħamrani, f&#x27;Gaur, 1 ftit ikbar mid-Bison annimali.</td></tr>\n",
       "<tr><td>0.718</td><td><table><thead></thead><tbody><tr><td>philipp</td></tr></tbody></table></td><td>eaccelarator « Transposh – Breaking language barriers</td><td>eaccelarator « Transposh – Breaking ostakli lingwistiċi</td></tr>\n",
       "<tr><td>0.648</td><td><table><thead></thead><tbody><tr><td>wide00006-pdf</td></tr></tbody></table></td><td>— information and publishing expenditure,</td><td>— nefqa għall-informazzjoni u l-pubblikazzjoni,</td></tr>\n",
       "<tr><td>0.566</td><td><table><thead></thead><tbody><tr><td>philipp</td></tr></tbody></table></td><td>Click &quot;Camera Roll&quot; vel &quot;Photo Library&quot;&gt; selectis photos&gt; click &quot;Delete&quot; delere iPhone photos vel click &quot;Export ad&quot; exportare iPhone photos ad computer.</td><td>Ikklikkja &quot;Camera kellek&quot; jew &quot;Librerija tar-ritratti&quot; &gt; Agħżel ir-ritratti &gt; ikklikkja &quot;Ħassar&quot; biex tħassar ir-ritratti iPhone jew ikklikkja &quot;Esportazzjoni lejn&quot; esportazzjoni iPhone ritratti fil-kompjuter.</td></tr>\n",
       "<tr><td>0.590</td><td><table><thead></thead><tbody><tr><td>hieu</td></tr></tbody></table></td><td>This new Special Committee on Financial Crimes, Tax Evasion and Tax Avoidance (TAX3) was set up on 1 March 2018 and is a continuation of the previous committees&#x27; work. Fairness in tax competition is one of the EPP Group&#x27;s priorities.</td><td>Il-Kumitat SpeÄ‹jali dwar il-Kriminalitajiet Finanzjarji, l-EvaÅ1⁄4joni tat-Taxxa u l-Evitar tat-Taxxa (TAX3) twaqqaf fl-1 ta&#x27; Marzu 2018 u hu kontinwazzjoni tal-ħidma tal-kumitati preÄ‹edenti.</td></tr>\n",
       "<tr><td>0.802</td><td><table><thead></thead><tbody><tr><td>hieu</td></tr></tbody></table></td><td>In this facial beauty game, you are going to get a glimpse of the collection of earrings and jewels she has got.</td><td>F&#x27;dan il-logħba sbuħija tal-wiċċ, inti se tikseb idea tal-ġbir ta &#x27;msielet u ġawhar hija marret.</td></tr>\n",
       "<tr><td>0.912</td><td><table><thead></thead><tbody><tr><td>wide00006</td></tr></tbody></table></td><td>This program is brilliant, and costs so little.</td><td>Dan il-programm hija brillanti, u spejjeż hekk ftit.</td></tr>\n",
       "<tr><td>0.694</td><td><table><thead></thead><tbody><tr><td>wide00006-pdf</td></tr></tbody></table></td><td>ESMA shall publish this information in an annual report. 2.</td><td>L-AETS għandha tippubblika din l- informazzjoni f&#x27;rapport annwali. 2.</td></tr>\n",
       "<tr><td>0.746</td><td><table><thead></thead><tbody><tr><td>philipp</td></tr></tbody></table></td><td>Computing &amp; Information Science</td><td>Computing &amp; Xjenza informazzjoni</td></tr>\n",
       "<tr><td>0.596</td><td><table><thead></thead><tbody><tr><td>philipp</td></tr></tbody></table></td><td>Courses at Bachelor’s,Master’s</td><td>Korsijiet fi Bachelor,Master</td></tr>\n",
       "<tr><td>0.906</td><td><table><thead></thead><tbody><tr><td>hieu</td></tr>\n",
       "<tr><td>philipp</td></tr></tbody></table></td><td>Can my baby have a dummy?</td><td>Jista &#x27;baby tiegħi jkollhom finta?</td></tr>\n",
       "<tr><td>0.746</td><td><table><thead></thead><tbody><tr><td>wide00015</td></tr></tbody></table></td><td>For many years the profession Attorney Law Office of Rita left many applicants Morzuch, who have successfully passed the bar examination and is now run their own offices.</td><td>Għal ħafna snin, il-professjoni Ditta Liġi Attorney Rita ħalla ħafna applikanti Morzuch, li għaddew mill-eżami bar u issa run-uffiċċji tagħhom stess.</td></tr>\n",
       "<tr><td>0.606</td><td><table><thead></thead><tbody><tr><td>wide00006</td></tr></tbody></table></td><td>28 Feb 2012 MLM Education, MLM Training, Million-Dollar Income Earner, Network Marketing Trainer, The Greatest Networkers in the World »</td><td>Frar 28, 2012 MLM Edukazzjoni, Taħriġ MLM, earner Dħul Million Dollar-, Trainer Network Marketing, Il-Networkers Greatest fid-Dinja &quot;</td></tr>\n",
       "<tr><td>0.544</td><td><table><thead></thead><tbody><tr><td>philipp</td></tr></tbody></table></td><td>The hazard, cause and prevention of excessive...</td><td>Kawżi u metodi ta &#x27;trattament ta&#x27; kejbil ta &#x27;...</td></tr>\n",
       "<tr><td>0.756</td><td><table><thead></thead><tbody><tr><td>philipp</td></tr></tbody></table></td><td>Most of the Remaining seats were won by parties That only contest elections in one part of the UK Such as the Scottish National Party (Scotland only), Plaid Cymru (Wales only), and the Democratic Unionist Party, Social Democratic and Lab our Party, Ulster Unionist Party, and Sinn Feint (Northern Ireland only, though Sinn Fein overpriced contests elections in Ireland).</td><td>Ħafna mill-karigi li jkun fadal intrebhu minn partijiet Li jsiru elezzjonijiet jikkontestaw biss f&#x27;parti tad-Renju Unit Bħall-Partit Nazzjonali Skoċċiż (Scotland biss), Plaid Cymru (Wales biss), u l-Partit Unjonista Demokratiku, Demokratiku Soċjali u Lab Parti tagħna, Ulster Partit Unjonista, u feint Sinn (Irlanda ta &#x27;Fuq biss, għalkemm Sinn Fein elezzjonijiet kompetizzjonijiet eżaġerat fl-Irlanda).</td></tr>\n",
       "<tr><td>0.832</td><td><table><thead></thead><tbody><tr><td>wide00006</td></tr></tbody></table></td><td>May 6, 2011 by Tom Filed under Clearing Exchange, Futures Clearing</td><td>Mejju 6, 2011 minn Tom Ppreżentata skond Clearing Skambju, Futures Clearing</td></tr>\n",
       "<tr><td>0.736</td><td><table><thead></thead><tbody><tr><td>hieu</td></tr></tbody></table></td><td>Clubs desktop gaming, slot machine halls and sportsbooks released from the obligation to install cash registers for accounting rates.Â They should use them only if you provide additional services, such as selling drinks or food.</td><td>Logħob tal-logħob tal-klabbs, swali tal-magni tal-islott u sportsbooks meħlusa mill-obbligu li jinstallaw reġistri tal-flus għar-rati tal-kontabilità. Għandhom jużawhom biss jekk tipprovdi servizzi addizzjonali, bħal bejgħ ta &#x27;xorb jew ikel.</td></tr>\n",
       "<tr><td>0.762</td><td><table><thead></thead><tbody><tr><td>philipp</td></tr></tbody></table></td><td>Regarding the horoscope gadget, Google apparently terminated functionality outside of iGoogle recently for many of the gadgets they authored and the team at igHome hasn’t had time to remove them.</td><td>Regarding the horoscope gadget, Google apparentement terminat funzjonalità barra tal iGoogle reċentement għal ħafna mill-aġġeġġi huma awtur u l-tim fil igHome ma kellu żmien sabiex jitneħħew.</td></tr>\n",
       "<tr><td>0.836</td><td><table><thead></thead><tbody><tr><td>philipp</td></tr></tbody></table></td><td>My guess was that it can be filtered out, there’s not much activity of this type, only when a human translator which is logged on translates.</td><td>raden tiegħi kien li tista &#x27;tiġi ffiltrata, hemm mhux ħafna attività ta &#x27;dan it-tip, biss meta traduttur uman li huwa ikkollegat jittraduċi.</td></tr>\n",
       "<tr><td>0.854</td><td><table><thead></thead><tbody><tr><td>hieu</td></tr></tbody></table></td><td>Sonic RPG Eps 4 Part 1 Well, here is the episode 4.</td><td>RPG sonika eps parti 1 4 Ukoll, hawnhekk huwa l-episodju 4.</td></tr>\n",
       "<tr><td>0.636</td><td><table><thead></thead><tbody><tr><td>philipp</td></tr></tbody></table></td><td>Free hidden object games</td><td>Free logħob moħbija oġġett</td></tr>\n",
       "<tr><td>0.546</td><td><table><thead></thead><tbody><tr><td>hieu</td></tr></tbody></table></td><td>Black 32GB Micro SD Card Class 10 with High Compatibility/Stability Ideal for cell phones and tablets with its high data transferring speed High compatibility and stability With 32 gigabytes of room, this memory card lets you store all your electronic files SPECIFICATIONS Type Micro SD card Model Memory Car..</td><td>57409 GB 32 iswed mikro SD Card klassi 10 mal-għoli l-kompatibbiltà/istabbiltà Ideali għall-Telefowns ċellulari u pilloli tagħha b&#x27;informazzjoni għolja li jittrasferixxu l-veloċità Kompatibilità għolja u l-istabbiltà Ma gigabytes 32 tal-kamra, din il-Kard tal-memorja iħallik taħżen il-fajls elettroniċi kollha tiegħek L-ISPEĊIFIKAZZJONIJIET ..</td></tr>\n",
       "<tr><td>0.716</td><td><table><thead></thead><tbody><tr><td>philipp</td></tr></tbody></table></td><td>Gulfstream G550 Archives | Private Jet Air Charter Flight WysLuxury Plane Rental Company Service</td><td>Gulfstream G550 Archives | Privat Jet Ajru Karta Titjira WysLuxury Plane Service Company Kiri</td></tr>\n",
       "<tr><td>0.610</td><td><table><thead></thead><tbody><tr><td>philipp</td></tr></tbody></table></td><td>Health hazard effects</td><td>Periklu l-effetti tas-Saħħa</td></tr>\n",
       "<tr><td>0.804</td><td><table><thead></thead><tbody><tr><td>philipp</td></tr></tbody></table></td><td>You understand correctly - to have access to provisions, weapons and construction materials, you need money.</td><td>Inti tifhem b&#x27;mod korrett - li jkollhom aċċess għal dispożizzjonijiet, armi u materjali tal-kostruzzjoni, għandek bżonn flus.</td></tr>\n",
       "<tr><td>0.598</td><td><table><thead></thead><tbody><tr><td>philipp</td></tr></tbody></table></td><td>In 1937, was invented and put into operation the first shopping trolley.</td><td>Fl-1937, ġiet ivvintata u jitħaddem-tròli shopping ewwel.</td></tr>\n",
       "<tr><td>0.648</td><td><table><thead></thead><tbody><tr><td>philipp</td></tr></tbody></table></td><td>Consists of 3 models:</td><td>Tikkonsisti fi 3 mudelli:</td></tr>\n",
       "<tr><td>0.550</td><td><table><thead></thead><tbody><tr><td>hieu</td></tr></tbody></table></td><td>45414 Women&#x27;s Color Block Pullover Sweater Scoop Neck Striped Long Sleeves Loose Fit This beautiful color block sweater features soft scoop neckline, striped long sleeves and loose fitting design This one-size top is available in grey or rose color options Specifications Product name Women&#x27;s contrast scoop neck sweater Produ..</td><td>Tan-nisa tal-kulur Blokk Pullover Sweater Scoop għonq twil kmiem ta &#x27; tajjeb mitluqa bl-istrixxi Dan nistghu kulur Blokk sweater karatteristiċi artab scoop għonq, kmiem twal striped u twaħħil sfużi disinn Din fuq id-daqs wieħed hija disponibbli fl-għażliet tal-kulur griż jew tela L-ispeċifikazzjonijiet L-isem tal-prodott Il-kuntrast scoop għonq sweater tan-nisa Tip ta..</td></tr>\n",
       "<tr><td>0.604</td><td><table><thead></thead><tbody><tr><td>philipp</td></tr></tbody></table></td><td>How long it takes for the Earth to rotate once around the sun</td><td>Kemm żmien li tieħu l-Dinja li jduru darba madwar il-Sun.</td></tr>\n",
       "<tr><td>0.682</td><td><table><thead></thead><tbody><tr><td>hieu</td></tr>\n",
       "<tr><td>philipp</td></tr></tbody></table></td><td>The day that the Son of God was put to death can be called a good day, because by it we are brought to life!</td><td>Il-jum li l-Iben ta &#x27;Alla tressqet għall-mewt jistgħu jiġu msejħa ġurnata tajba, għaliex minnu aħna huma miġjuba għall-ħajja!</td></tr>\n",
       "<tr><td>0.748</td><td><table><thead></thead><tbody><tr><td>philipp</td></tr></tbody></table></td><td>Next: Nonstandard</td><td>Li jmiss: nonstandard</td></tr>\n",
       "<tr><td>0.786</td><td><table><thead></thead><tbody><tr><td>hieu</td></tr></tbody></table></td><td>ARTICLES OF STONE, PLASTER, CEMENT, ASBESTOS, MICA OR SIMILAR MATERIALS</td><td>OĠĠETTI TAL-ĠEBEL, ĠIBS, SIMENT, ASBESTOS, MIKA JEW MATERJALI SIMILI</td></tr>\n",
       "<tr><td>0.542</td><td><table><thead></thead><tbody><tr><td>philipp</td></tr></tbody></table></td><td>High tolerance aluminum machining</td><td>anodized blu magni aluminju</td></tr>\n",
       "<tr><td>0.510</td><td><table><thead></thead><tbody><tr><td>philipp</td></tr></tbody></table></td><td>Silver Poly Tarps</td><td>Tarps aġġustabbli</td></tr>\n",
       "<tr><td>0.798</td><td><table><thead></thead><tbody><tr><td>philipp</td></tr></tbody></table></td><td>Kreg Fisher says:</td><td>Kreg Fisher jgħid:</td></tr>\n",
       "<tr><td>0.656</td><td><table><thead></thead><tbody><tr><td>wide00006-pdf</td></tr></tbody></table></td><td>OPINION OF THE EUROPEAN CENTRAL BANK of 2 March 2012 on a proposal for a regulation of the European Parliament and of the Council establishing an exchange, assistance and training programme for the protection of the euro against counterfeiting (the &#x27;Pericles 2020&#x27; programme) (CON/2012/17)</td><td>OPINJONI TAL-BANK ĊENTRALI EWROPEW tat-2 ta&#x27; Marzu 2012 dwar proposta għal regolament tal-Parlament Ewropew u tal-Kunsil li jistabbilixxi programm ta&#x27; skambju, assistenza u taħriġ għall-protezzjoni tal-euro kontra l-iffalsifikar (il-programm &quot;Pericles 2020&quot;) (CON/2012/17)</td></tr>\n",
       "<tr><td>0.598</td><td><table><thead></thead><tbody><tr><td>hieu</td></tr></tbody></table></td><td>All local artists are strongly urged not to miss out on this opportunity to exhibit their work in one of the most important dates in the cultural calendar of the country.</td><td>L-artisti lokali kollha huma mħeġġa b&#x27;mod qawwi biex ma jitilfux din l-opportunità biex juru x-xogħol tagħhom f&#x27;waħda mid-dati l-iktar importanti fil-kalendarju kulturali tal-pajjiż.</td></tr>\n",
       "<tr><td>0.654</td><td><table><thead></thead><tbody><tr><td>philipp</td></tr></tbody></table></td><td>Europa Europe Arts &amp; entertainment</td><td>Europa Ewropa Arti u divertiment</td></tr>\n",
       "<tr><td>0.634</td><td><table><thead></thead><tbody><tr><td>philipp</td></tr></tbody></table></td><td>Mini Hearing Aid Made In China</td><td>Għajnuna Mini Smigħ Magħmula fiċ-Ċina</td></tr>\n",
       "<tr><td>0.678</td><td><table><thead></thead><tbody><tr><td>hieu</td></tr></tbody></table></td><td>ALUMINIUM AND ARTICLES THEREOF</td><td>ALUMINJU U OĠĠETTI TIEGĦU</td></tr>\n",
       "<tr><td>0.548</td><td><table><thead></thead><tbody><tr><td>philipp</td></tr></tbody></table></td><td>GET STARTED START NOW START NOW</td><td>Tibda START ISSA START ISSA</td></tr>\n",
       "<tr><td>0.694</td><td><table><thead></thead><tbody><tr><td>hieu</td></tr></tbody></table></td><td>Without being secretive about it, don&#x27;t expose all your muddied past during the first stage of your relationship.</td><td>Mingħajr ma jkunu sigriet dwar dan, tesponix kollha passat muddied tiegħek matul l-ewwel stadju tar-relazzjoni tiegħek.</td></tr>\n",
       "<tr><td>0.644</td><td><table><thead></thead><tbody><tr><td>hieu</td></tr></tbody></table></td><td>Saint of the day: Saint Josemaría Escrivá de Balaguer</td><td>Qaddis tal-jum: San Josemaría Escrivá de Balaguer Aqra aktar</td></tr></tbody></table>"
      ],
      "text/plain": [
       "<notebook.table at 0x11de0bd90>"
      ]
     },
     "execution_count": 9,
     "metadata": {},
     "output_type": "execute_result"
    }
   ],
   "source": [
    "table({\n",
    "    'score': first(unit['score-bicleaner']),\n",
    "    'collection': unit['collection'],\n",
    "    **{lang: translation.text for lang, translation in unit.translations.items()}\n",
    "} for unit in sample)"
   ]
  },
  {
   "cell_type": "markdown",
   "metadata": {},
   "source": [
    "# Missing Collections\n",
    "Is it maybe a particular collection that is missing?\n"
   ]
  },
  {
   "cell_type": "code",
   "execution_count": 10,
   "metadata": {},
   "outputs": [
    {
     "data": {
      "text/html": [
       "<table><thead><tr><th>collection</th><th>count</th></tr></thead><tbody><tr><td>wide00006</td><td>59626</td></tr>\n",
       "<tr><td>hieu</td><td>181729</td></tr>\n",
       "<tr><td>philipp</td><td>613267</td></tr>\n",
       "<tr><td>wide00006-pdf</td><td>26406</td></tr>\n",
       "<tr><td>wide00015</td><td>33655</td></tr></tbody></table>"
      ],
      "text/plain": [
       "<notebook.table at 0x11de0beb0>"
      ]
     },
     "execution_count": 10,
     "metadata": {},
     "output_type": "execute_result"
    }
   ],
   "source": [
    "table(collections_overall.items(), headers=['collection', 'count'])"
   ]
  },
  {
   "cell_type": "code",
   "execution_count": 11,
   "metadata": {},
   "outputs": [
    {
     "data": {
      "text/html": [
       "<table><thead><tr><th>collection</th><th>count</th></tr></thead><tbody><tr><td>wide00006</td><td>54425</td></tr>\n",
       "<tr><td>hieu</td><td>126298</td></tr>\n",
       "<tr><td>philipp</td><td>375491</td></tr>\n",
       "<tr><td>wide00006-pdf</td><td>24841</td></tr>\n",
       "<tr><td>wide00015</td><td>14459</td></tr></tbody></table>"
      ],
      "text/plain": [
       "<notebook.table at 0x119cfaaf0>"
      ]
     },
     "execution_count": 11,
     "metadata": {},
     "output_type": "execute_result"
    }
   ],
   "source": [
    "table(collections_missing.items(), headers=['collection', 'count'])"
   ]
  },
  {
   "cell_type": "code",
   "execution_count": 12,
   "metadata": {},
   "outputs": [
    {
     "data": {
      "text/html": [
       "<table><thead><tr><th>collection</th><th>percentage</th><th>records</th><th>total</th></tr></thead><tbody><tr><td>philipp</td><td>61.2%</td><td>375491</td><td>613267</td></tr>\n",
       "<tr><td>hieu</td><td>69.5%</td><td>126298</td><td>181729</td></tr>\n",
       "<tr><td>wide00006</td><td>91.3%</td><td>54425</td><td>59626</td></tr>\n",
       "<tr><td>wide00015</td><td>43.0%</td><td>14459</td><td>33655</td></tr>\n",
       "<tr><td>wide00006-pdf</td><td>94.1%</td><td>24841</td><td>26406</td></tr></tbody></table>"
      ],
      "text/plain": [
       "<notebook.table at 0x119cfaa90>"
      ]
     },
     "execution_count": 12,
     "metadata": {},
     "output_type": "execute_result"
    }
   ],
   "source": [
    "from operator import itemgetter\n",
    "table({\n",
    "    'collection': collection,\n",
    "    'percentage': '{:0.1f}%'.format(100 * collections_missing[collection] / count),\n",
    "    'records': collections_missing[collection],\n",
    "    'total': count\n",
    "} for collection, count in sorted(collections_overall.items(), key=itemgetter(1), reverse=True))"
   ]
  },
  {
   "cell_type": "markdown",
   "metadata": {},
   "source": [
    "Hmm, correct, pdfs haven't been processed for this release. Philipp has been processed with a different pipeline. But I have no plausible explanation for Hieu or wide00006/15 in terms of processing. Maybe MT filter?"
   ]
  },
  {
   "cell_type": "markdown",
   "metadata": {},
   "source": [
    "# Missing web domains\n",
    "Is there anything particular about the missing sentence pairs? Maybe they're all from domains that got filtered because of MT?"
   ]
  },
  {
   "cell_type": "code",
   "execution_count": 13,
   "metadata": {},
   "outputs": [
    {
     "data": {
      "text/html": [
       "<table><thead><tr><th>domain</th><th>count</th></tr></thead><tbody><tr><td>http://straightpoint.com/</td><td>481378</td></tr>\n",
       "<tr><td>http://www.welcome-to-barcelona.com/</td><td>195795</td></tr>\n",
       "<tr><td>http://www.straightpoint.com/</td><td>151848</td></tr>\n",
       "<tr><td>http://transposh.org/</td><td>151056</td></tr>\n",
       "<tr><td>http://2fish.co/</td><td>113978</td></tr>\n",
       "<tr><td>http://builttobrag.com/</td><td>112523</td></tr>\n",
       "<tr><td>http://www.outlookimport.com/</td><td>102456</td></tr>\n",
       "<tr><td>http://blog.simmakers.com/</td><td>98508</td></tr>\n",
       "<tr><td>http://www.conex.net/</td><td>88135</td></tr>\n",
       "<tr><td>http://therefugeecenter.org/</td><td>85340</td></tr>\n",
       "<tr><td>http://www.sinsdementia.com/</td><td>84026</td></tr>\n",
       "<tr><td>http://skolarbete.nu/</td><td>82326</td></tr>\n",
       "<tr><td>http://satellite-tv.top3selections.com/</td><td>66400</td></tr>\n",
       "<tr><td>http://www.ecb.int/</td><td>66287</td></tr>\n",
       "<tr><td>http://www.yourwebdoc.org/</td><td>61823</td></tr></tbody></table>"
      ],
      "text/plain": [
       "<notebook.table at 0x11de0bdc0>"
      ]
     },
     "execution_count": 13,
     "metadata": {},
     "output_type": "execute_result"
    }
   ],
   "source": [
    "table({\n",
    "    'domain': f\"http://{domain_name}/\",\n",
    "    'count': count\n",
    "} for domain_name, count in domains.most_common(15))"
   ]
  },
  {
   "cell_type": "markdown",
   "metadata": {},
   "source": [
    "Okay I'm not going to do this by hand let's quickly implement something that matches the behaviour of warc2text's mt filter, import our filter list, and *make the assumption the page we processed is the same as the page that is online today*."
   ]
  },
  {
   "cell_type": "code",
   "execution_count": 14,
   "metadata": {
    "tags": []
   },
   "outputs": [],
   "source": [
    "with open('mt-filter-list.txt', 'r') as fh:\n",
    "    mt_filter_list = fh.read()"
   ]
  },
  {
   "cell_type": "code",
   "execution_count": 15,
   "metadata": {},
   "outputs": [],
   "source": [
    "from bs4 import BeautifulSoup\n",
    "from urllib.request import urlopen\n",
    "\n",
    "def check_for_mt(url, filter_list):\n",
    "    with urlopen(url, timeout=10) as fh:\n",
    "        data = fh.read(5 * 1024 * 1024) # limit to 5mb\n",
    "        soup = BeautifulSoup(data, 'html.parser')\n",
    "        \n",
    "        for line in filter_list.split('\\n'):\n",
    "            if line.startswith('#') or line.strip() == '':\n",
    "                continue\n",
    "            elment, attribute, pattern = line.split('\\t')\n",
    "            if soup.find_all(elment, attrs={attribute: re.compile(pattern)}):\n",
    "                return line, fh.url\n",
    "        return None, fh.url"
   ]
  },
  {
   "cell_type": "code",
   "execution_count": 16,
   "metadata": {},
   "outputs": [
    {
     "data": {
      "text/plain": [
       "(\"a\\tonclick\\tdoGTranslate\\\\(\\\\'.{2}\\\\|.{2}\\\\'\\\\)\",\n",
       " 'https://straightpoint.com/')"
      ]
     },
     "execution_count": 16,
     "metadata": {},
     "output_type": "execute_result"
    }
   ],
   "source": [
    "check_for_mt('http://straightpoint.com/', mt_filter_list)"
   ]
  },
  {
   "cell_type": "markdown",
   "metadata": {},
   "source": [
    "So let's first look at the top 30 missing domains"
   ]
  },
  {
   "cell_type": "code",
   "execution_count": 17,
   "metadata": {},
   "outputs": [
    {
     "data": {
      "text/html": [
       "<table><thead><tr><th>domain</th><th>count</th><th>matched filter</th></tr></thead><tbody><tr><td>https://straightpoint.com/</td><td>481378</td><td>a\tonclick\tdoGTranslate\\(\\&#x27;.{2}\\|.{2}\\&#x27;\\)</td></tr>\n",
       "<tr><td>http://www.welcome-to-barcelona.com/</td><td>195795</td><td><em>None</em></td></tr>\n",
       "<tr><td>https://www.straightpoint.com/</td><td>151848</td><td>a\tonclick\tdoGTranslate\\(\\&#x27;.{2}\\|.{2}\\&#x27;\\)</td></tr>\n",
       "<tr><td>http://transposh.org/</td><td>151056</td><td>meta\tname\ttranslation-stats</td></tr>\n",
       "<tr><td>https://2fish.co/</td><td>113978</td><td><em>None</em></td></tr>\n",
       "<tr><td>https://builttobrag.com/</td><td>112523</td><td><em>None</em></td></tr>\n",
       "<tr><td>https://www.outlookimport.com/</td><td>102456</td><td><em>None</em></td></tr>\n",
       "<tr><td>https://blog.simmakers.com/</td><td>98508</td><td><em>None</em></td></tr>\n",
       "<tr><td>https://www.conex.net/</td><td>88135</td><td><em>None</em></td></tr>\n",
       "<tr><td>http://therefugeecenter.org</td><td>85340</td><td>HTTP Error 502: Bad Gateway</td></tr>\n",
       "<tr><td>https://sinsdementia.com/</td><td>84026</td><td><em>None</em></td></tr>\n",
       "<tr><td>http://skolarbete.nu</td><td>82326</td><td>HTTP Error 500: Internal Server Error</td></tr>\n",
       "<tr><td>https://www.buydomains.com/lander/top3selections.com?domain=top3selections.com&amp;utm_source=top3selections.com&amp;utm_medium=click&amp;utm_campaign=tdfs-AprTest&amp;traffic_id=AprTest&amp;traffic_type=tdfs&amp;redirect=ono-redirect</td><td>66400</td><td><em>None</em></td></tr>\n",
       "<tr><td>https://www.ecb.europa.eu/home/html/index.en.html</td><td>66287</td><td><em>None</em></td></tr>\n",
       "<tr><td>https://www.yourwebdoc.org/</td><td>61823</td><td><em>None</em></td></tr>\n",
       "<tr><td>https://mail.straightpoint.com/</td><td>58404</td><td>a\tonclick\tdoGTranslate\\(\\&#x27;.{2}\\|.{2}\\&#x27;\\)</td></tr>\n",
       "<tr><td>http://www.federacionfotovasca.org/</td><td>52036</td><td><em>None</em></td></tr>\n",
       "<tr><td>https://educationbro.com/</td><td>50142</td><td><em>None</em></td></tr>\n",
       "<tr><td>http://www.byvisiontech.com</td><td>43041</td><td>HTTP Error 403: Forbidden</td></tr>\n",
       "<tr><td>https://www.metric-conversions.org/</td><td>40940</td><td><em>None</em></td></tr>\n",
       "<tr><td>http://mt.byvisiontech.com</td><td>40275</td><td>HTTP Error 403: Forbidden</td></tr>\n",
       "<tr><td>http://ukraine.admission.center/</td><td>38972</td><td><em>None</em></td></tr>\n",
       "<tr><td>http://www.cnimalta.org</td><td>38902</td><td>HTTP Error 404: Not Found</td></tr>\n",
       "<tr><td>http://www.blogprinvizor.ro/</td><td>37589</td><td><em>None</em></td></tr>\n",
       "<tr><td>https://eur-lex.europa.eu/</td><td>37281</td><td><em>None</em></td></tr>\n",
       "<tr><td>http://www.muhammad.com/</td><td>35786</td><td><em>None</em></td></tr>\n",
       "<tr><td>http://www.parisdakar.it/</td><td>35438</td><td><em>None</em></td></tr>\n",
       "<tr><td>https://knisja.mt/</td><td>34606</td><td><em>None</em></td></tr>\n",
       "<tr><td>http://www.infinitecosmos.info/</td><td>32996</td><td><em>None</em></td></tr>\n",
       "<tr><td>http://forexindicatorsdownload.com</td><td>32272</td><td>&lt;urlopen error [Errno 8] nodename nor servname provided, or not known&gt;</td></tr></tbody></table>"
      ],
      "text/plain": [
       "<notebook.table at 0x11e16ef40>"
      ]
     },
     "execution_count": 17,
     "metadata": {},
     "output_type": "execute_result"
    }
   ],
   "source": [
    "def check_domains(n):\n",
    "    for domain_name, count in domains.most_common(n):\n",
    "        try:\n",
    "            hit, url = check_for_mt(f\"http://{domain_name}/\", mt_filter_list)\n",
    "        except Exception as e:\n",
    "            hit, url = str(e), f'http://{domain_name}'\n",
    "        yield url, count, hit\n",
    "\n",
    "table(check_domains(30), headers=['domain', 'count', 'matched filter'])"
   ]
  },
  {
   "cell_type": "markdown",
   "metadata": {},
   "source": [
    "Of course, we're not targeting home pages in our sentence pairs, but lower level pages. I'm going to use the sampled sentence pairs and look at their urls."
   ]
  },
  {
   "cell_type": "code",
   "execution_count": 18,
   "metadata": {},
   "outputs": [
    {
     "data": {
      "application/vnd.jupyter.widget-view+json": {
       "model_id": "9e2f210742ec4e60bef5159a8109de8b",
       "version_major": 2,
       "version_minor": 0
      },
      "text/plain": [
       "  0%|          | 0/100 [00:00<?, ?it/s]"
      ]
     },
     "metadata": {},
     "output_type": "display_data"
    }
   ],
   "source": [
    "def check_unit_for_mt(unit):\n",
    "    error = None\n",
    "    \n",
    "    for url in set().union(*(translation['source-document'] for translation in unit.translations.values())):\n",
    "        # Fix for data from philipp and hieu collections: urls have no prefix.\n",
    "        if not url.startswith('http'):\n",
    "            url = f'http://{url}'\n",
    "        \n",
    "        try:\n",
    "            hit, url = check_for_mt(url, mt_filter_list)\n",
    "            if hit:\n",
    "                return hit, url\n",
    "        except Exception as e:\n",
    "            error = str(e)\n",
    "        \n",
    "    return error, None\n",
    "\n",
    "\n",
    "checked_units = [\n",
    "    (unit, *check_unit_for_mt(unit))\n",
    "    for unit in tqdm(list(sample))\n",
    "]\n"
   ]
  },
  {
   "cell_type": "code",
   "execution_count": 19,
   "metadata": {
    "tags": []
   },
   "outputs": [
    {
     "data": {
      "text/html": [
       "<table><thead><tr><th>url</th><th>filter</th><th>collections</th></tr></thead><tbody><tr><td>myhealthbox.eu/cs/lék/potactasol/3544604</td><td>&#x27;ascii&#x27; codec can&#x27;t encode character &#x27;\\xe9&#x27; in position 9: ordinal not in range(128)</td><td><table><thead></thead><tbody><tr><td>hieu</td></tr></tbody></table></td></tr>\n",
       "<tr><td>http://skolarbete.nu/mt/skolarbeten/2008/02/page/2/</td><td>HTTP Error 500: Internal Server Error</td><td><table><thead></thead><tbody><tr><td>philipp</td></tr></tbody></table></td></tr>\n",
       "<tr><td>http://www.oil-painting-online.com/mt/symbolism-oil-painting/cao-li-oil-painting-art.html</td><td>link\trel\talternate machine-translated-from</td><td><table><thead></thead><tbody><tr><td>philipp</td></tr></tbody></table></td></tr>\n",
       "<tr><td>http://kaizenlog.com/80657ae-finance-advanced-microsoft-dynamics-nav-2015/2/</td><td>HTTP Error 403: Forbidden</td><td><table><thead></thead><tbody><tr><td>philipp</td></tr></tbody></table></td></tr>\n",
       "<tr><td>http://skolarbete.nu/mt/skolarbeten/the-dragon-reborn/</td><td>HTTP Error 500: Internal Server Error</td><td><table><thead></thead><tbody><tr><td>philipp</td></tr></tbody></table></td></tr>\n",
       "<tr><td>thechurchinmalta.org/mt/posts/47912/il-papa-jsejjah-lill-insara-sabiex-jesprimu-l-fidi-taghhom-fazzjoni</td><td><em>None</em></td><td><table><thead></thead><tbody><tr><td>hieu</td></tr></tbody></table></td></tr>\n",
       "<tr><td>http://www.internetphilippines.com/finance/ofw-loan/comment-page-1/</td><td>HTTP Error 500: Internal Server Error</td><td><table><thead></thead><tbody><tr><td>wide00006</td></tr></tbody></table></td></tr>\n",
       "<tr><td>http://www.muhammad.com/88languages/41final-koran/English/KoranEnglish.html</td><td><em>None</em></td><td><table><thead></thead><tbody><tr><td>philipp</td></tr></tbody></table></td></tr>\n",
       "<tr><td>http://beththompsonmarketing.com/custom-web-design</td><td>HTTP Error 404: Not Found</td><td><table><thead></thead><tbody><tr><td>wide00015</td></tr></tbody></table></td></tr>\n",
       "<tr><td>http://www.gfesport.com/mt/category/feature-top/</td><td>meta\tname\ttranslation-stats</td><td><table><thead></thead><tbody><tr><td>hieu</td></tr></tbody></table></td></tr>\n",
       "<tr><td>https://builttobrag.com/page/4/?lang=mt</td><td>meta\tname\ttranslation-stats</td><td><table><thead></thead><tbody><tr><td>philipp</td></tr></tbody></table></td></tr>\n",
       "<tr><td>https://mamaclub.info/mt/category/astrologiya/sonnik/</td><td>HTTP Error 403: Forbidden</td><td><table><thead></thead><tbody><tr><td>philipp</td></tr></tbody></table></td></tr>\n",
       "<tr><td>http://en.tanki.ua/race/</td><td>&lt;urlopen error [Errno 8] nodename nor servname provided, or not known&gt;</td><td><table><thead></thead><tbody><tr><td>philipp</td></tr></tbody></table></td></tr>\n",
       "<tr><td>http://www.blogprinvizor.ro/about/?lang=mt</td><td>meta\tname\ttranslation-stats</td><td><table><thead></thead><tbody><tr><td>philipp</td></tr></tbody></table></td></tr>\n",
       "<tr><td>https://builttobrag.com/the-temptation-of-jesus-teaching/?lang=mt</td><td>meta\tname\ttranslation-stats</td><td><table><thead></thead><tbody><tr><td>philipp</td></tr></tbody></table></td></tr>\n",
       "<tr><td>http://mt.summerlyquartzstone.com/quartz-colors/fine-grain-serie-quartz-stone/</td><td>HTTP Error 403: Forbidden</td><td><table><thead></thead><tbody><tr><td>philipp</td></tr></tbody></table></td></tr>\n",
       "<tr><td>http://mt.zxgame24.com/tags/lperiod/</td><td>HTTP Error 403: Forbidden</td><td><table><thead></thead><tbody><tr><td>philipp</td></tr></tbody></table></td></tr>\n",
       "<tr><td>http://www.federacionfotovasca.org/2010/06/?lang=en</td><td>HTTP Error 404: Not Found</td><td><table><thead></thead><tbody><tr><td>hieu</td></tr>\n",
       "<tr><td>philipp</td></tr></tbody></table></td></tr>\n",
       "<tr><td>https://mail.straightpoint.com/media-articles.html?;amp;amp;start=30&amp;;start=30&amp;type=114&amp;start=35</td><td>a\tonclick\tdoGTranslate\\(\\&#x27;.{2}\\|.{2}\\&#x27;\\)</td><td><table><thead></thead><tbody><tr><td>philipp</td></tr></tbody></table></td></tr>\n",
       "<tr><td>http://www.blogprinvizor.ro/tag/biserica-razboieni/?lang=mt</td><td>meta\tname\ttranslation-stats</td><td><table><thead></thead><tbody><tr><td>philipp</td></tr></tbody></table></td></tr>\n",
       "<tr><td>http://www.cnimalta.org/120407E.html</td><td>HTTP Error 404: Not Found</td><td><table><thead></thead><tbody><tr><td>hieu</td></tr>\n",
       "<tr><td>philipp</td></tr></tbody></table></td></tr>\n",
       "<tr><td>http://green-car.bafree.net/tag/water-hybrid/</td><td>HTTP Error 404: Not Found</td><td><table><thead></thead><tbody><tr><td>wide00006</td></tr></tbody></table></td></tr>\n",
       "<tr><td>thechurchinmalta.org/mt/posts/4706/january-11-1711-17-ta-jannar</td><td><em>None</em></td><td><table><thead></thead><tbody><tr><td>hieu</td></tr></tbody></table></td></tr>\n",
       "<tr><td>http://mt.glosbe.com/mk/all-dictionaries</td><td><em>None</em></td><td><table><thead></thead><tbody><tr><td>wide00006</td></tr></tbody></table></td></tr>\n",
       "<tr><td>www.conex.net/nc8/2019/mt/27.html</td><td><em>None</em></td><td><table><thead></thead><tbody><tr><td>hieu</td></tr></tbody></table></td></tr>\n",
       "<tr><td>http://forexindicatorsdownload.com/fxi-pivot-point-forex-indicator/?lang=mt</td><td>&lt;urlopen error [Errno 8] nodename nor servname provided, or not known&gt;</td><td><table><thead></thead><tbody><tr><td>philipp</td></tr></tbody></table></td></tr>\n",
       "<tr><td>http://ceowatermandate.org/resources/mandate-research-and-guidance/?lang=mt</td><td>HTTP Error 404: Not Found</td><td><table><thead></thead><tbody><tr><td>wide00006</td></tr></tbody></table></td></tr>\n",
       "<tr><td>http://zdteam.net/mt/2012/08/</td><td><em>None</em></td><td><table><thead></thead><tbody><tr><td>wide00006</td></tr></tbody></table></td></tr>\n",
       "<tr><td>http://m.byvisiontech.com/digital-hearing-aid/digital-hearing-aids-for-seniors.html</td><td>HTTP Error 403: Forbidden</td><td><table><thead></thead><tbody><tr><td>philipp</td></tr></tbody></table></td></tr>\n",
       "<tr><td>http://eur-lex.europa.eu/legal-content/EN/TXT/?uri=celex:32006L0112</td><td><em>None</em></td><td><table><thead></thead><tbody><tr><td>wide00015</td></tr></tbody></table></td></tr>\n",
       "<tr><td>https://builttobrag.com/should-we-move-on/?lang=mt</td><td>meta\tname\ttranslation-stats</td><td><table><thead></thead><tbody><tr><td>philipp</td></tr></tbody></table></td></tr>\n",
       "<tr><td>http://yatraveller.com/mt/2009/07/05/yalta-brilliant/?nggpage=2</td><td>&lt;urlopen error [Errno 8] nodename nor servname provided, or not known&gt;</td><td><table><thead></thead><tbody><tr><td>philipp</td></tr></tbody></table></td></tr>\n",
       "<tr><td>https://theforexclub.eu/mt/cfds-trading/</td><td><em>None</em></td><td><table><thead></thead><tbody><tr><td>hieu</td></tr>\n",
       "<tr><td>philipp</td></tr></tbody></table></td></tr>\n",
       "<tr><td>http://skolarbete.nu/mt/skolarbeten/nytt-24/</td><td>HTTP Error 500: Internal Server Error</td><td><table><thead></thead><tbody><tr><td>philipp</td></tr></tbody></table></td></tr>\n",
       "<tr><td>http://droidscrap.com/mt/2012/09/how-to-root-samsung-galaxy-s3-i535-and-flash-clockworkmod-recovery/</td><td><em>None</em></td><td><table><thead></thead><tbody><tr><td>wide00006</td></tr></tbody></table></td></tr>\n",
       "<tr><td>http://mt.lsherb.com/info/page/30/</td><td>HTTP Error 403: Forbidden</td><td><table><thead></thead><tbody><tr><td>philipp</td></tr></tbody></table></td></tr>\n",
       "<tr><td>http://www.bia2fa.ir/game-repair-gears/?lang=en</td><td>&lt;urlopen error [Errno 8] nodename nor servname provided, or not known&gt;</td><td><table><thead></thead><tbody><tr><td>philipp</td></tr></tbody></table></td></tr>\n",
       "<tr><td>https://theforexclub.eu/libertex-trading-f-a-q/</td><td><em>None</em></td><td><table><thead></thead><tbody><tr><td>hieu</td></tr>\n",
       "<tr><td>philipp</td></tr></tbody></table></td></tr>\n",
       "<tr><td>http://logoblink.com/euro-2012-brand-design/?replytocom=32184</td><td>HTTP Error 404: Not Found</td><td><table><thead></thead><tbody><tr><td>wide00006</td></tr></tbody></table></td></tr>\n",
       "<tr><td>http://www.ema.europa.eu/docs/mt_mt/document_library/epar_-_product_information/veterinary/000140/wc500063878.pdf</td><td><em>None</em></td><td><table><thead></thead><tbody><tr><td>wide00006-pdf</td></tr></tbody></table></td></tr>\n",
       "<tr><td>http://eur-lex.europa.eu/lexuriserv/lexuriserv.do?uri=consleg:1976l0768:20100301:en:pdf</td><td>HTTP Error 404: Not Found</td><td><table><thead></thead><tbody><tr><td>wide00006-pdf</td></tr></tbody></table></td></tr>\n",
       "<tr><td>http://mt.rejeedrilling.com/info/ways-to-extend-the-life-of-your-diamond-core-b-2621429.html</td><td>HTTP Error 500: Internal Server Error</td><td><table><thead></thead><tbody><tr><td>philipp</td></tr></tbody></table></td></tr>\n",
       "<tr><td>https://www.straightpoint.com/what-is-a-proof-test.html</td><td>a\tonclick\tdoGTranslate\\(\\&#x27;.{2}\\|.{2}\\&#x27;\\)</td><td><table><thead></thead><tbody><tr><td>philipp</td></tr></tbody></table></td></tr>\n",
       "<tr><td>https://educationbro.com/mw/universities/ukraine/zhytomyr-state-university/</td><td>meta\tname\ttranslation-stats</td><td><table><thead></thead><tbody><tr><td>philipp</td></tr></tbody></table></td></tr>\n",
       "<tr><td>www.dnsinspector.com/site-map/?toc_order=0</td><td>&lt;urlopen error timed out&gt;</td><td><table><thead></thead><tbody><tr><td>hieu</td></tr></tbody></table></td></tr>\n",
       "<tr><td>http://mt.woodenboxsupplier.com/wooden-watch-box/desktop-wooden-watch-box/page-2/</td><td>HTTP Error 403: Forbidden</td><td><table><thead></thead><tbody><tr><td>philipp</td></tr></tbody></table></td></tr>\n",
       "<tr><td>http://m.mt.eugeniaeyewear.com/lens-spray-cleaner/</td><td>&lt;urlopen error [Errno 8] nodename nor servname provided, or not known&gt;</td><td><table><thead></thead><tbody><tr><td>philipp</td></tr></tbody></table></td></tr>\n",
       "<tr><td>http://www.byvisiontech.com/hearing-aids/mini-rechargeable-digital-hearing-aids.html</td><td>HTTP Error 403: Forbidden</td><td><table><thead></thead><tbody><tr><td>philipp</td></tr></tbody></table></td></tr>\n",
       "<tr><td>http://www.welcome-to-barcelona.com/2014/03/06/5-tips-souvenir-barcelona/?gltr_lang=zh-TW</td><td>HTTP Error 404: Not Found</td><td><table><thead></thead><tbody><tr><td>philipp</td></tr></tbody></table></td></tr>\n",
       "<tr><td>http://m.mt.byvisiontech.com/wifi-doorbell/unlock-wireless-doorbell.html</td><td>HTTP Error 403: Forbidden</td><td><table><thead></thead><tbody><tr><td>philipp</td></tr></tbody></table></td></tr>\n",
       "<tr><td>http://www.cnimalta.org/080109E.html</td><td>HTTP Error 404: Not Found</td><td><table><thead></thead><tbody><tr><td>philipp</td></tr></tbody></table></td></tr>\n",
       "<tr><td>https://builttobrag.com/what-is-the-good-life/?lang=mt</td><td>meta\tname\ttranslation-stats</td><td><table><thead></thead><tbody><tr><td>hieu</td></tr>\n",
       "<tr><td>philipp</td></tr></tbody></table></td></tr>\n",
       "<tr><td>http://mt.tanki.ua/tags/transformers/</td><td>&lt;urlopen error [Errno 8] nodename nor servname provided, or not known&gt;</td><td><table><thead></thead><tbody><tr><td>philipp</td></tr></tbody></table></td></tr>\n",
       "<tr><td>https://mamaclub.info/mt/kak-sdelat-morozhenoe-doma-recept/</td><td>HTTP Error 403: Forbidden</td><td><table><thead></thead><tbody><tr><td>philipp</td></tr></tbody></table></td></tr>\n",
       "<tr><td>http://skolarbete.nu/en/skolarbeten/charles-dickens-a-christmas-carol-2/</td><td>HTTP Error 500: Internal Server Error</td><td><table><thead></thead><tbody><tr><td>philipp</td></tr></tbody></table></td></tr>\n",
       "<tr><td>www.datemypet.com/mt/10-commandments-of-dating-for-women</td><td>HTTP Error 403: Forbidden</td><td><table><thead></thead><tbody><tr><td>hieu</td></tr></tbody></table></td></tr>\n",
       "<tr><td>http://www.zoolabo.com/eng/sitemap.html</td><td>HTTP Error 403: Forbidden</td><td><table><thead></thead><tbody><tr><td>philipp</td></tr></tbody></table></td></tr>\n",
       "<tr><td>http://1adt.com/from-the-net/creative-red-bull-print-ads/</td><td>HTTP Error 404: Not Found</td><td><table><thead></thead><tbody><tr><td>wide00006</td></tr></tbody></table></td></tr>\n",
       "<tr><td>http://transposh.org/tag/eaccelarator/?tpedit=1</td><td>meta\tname\ttranslation-stats</td><td><table><thead></thead><tbody><tr><td>philipp</td></tr></tbody></table></td></tr>\n",
       "<tr><td>http://eur-lex.europa.eu/budget/data/db2012/mt/sec03.pdf</td><td>HTTP Error 404: Not Found</td><td><table><thead></thead><tbody><tr><td>wide00006-pdf</td></tr></tbody></table></td></tr>\n",
       "<tr><td>http://la.wondershare.com/23/mobile-phone/organize-photos-on-iphone.html.tmp</td><td>HTTP Error 404: Not Found</td><td><table><thead></thead><tbody><tr><td>philipp</td></tr></tbody></table></td></tr>\n",
       "<tr><td>www.eppgroup.eu/mt/dwarna/membri /milan-zver</td><td>&#x27;ascii&#x27; codec can&#x27;t encode character &#x27;\\xa0&#x27; in position 21: ordinal not in range(128)</td><td><table><thead></thead><tbody><tr><td>hieu</td></tr></tbody></table></td></tr>\n",
       "<tr><td>www.gamegape.com/en-256-page-1.html</td><td>HTTP Error 404: Not Found</td><td><table><thead></thead><tbody><tr><td>hieu</td></tr></tbody></table></td></tr>\n",
       "<tr><td>https://www.outlookimport.com/mt/repair-2gb-pst-files-old-outlook-format/</td><td>meta\tname\ttranslation-stats</td><td><table><thead></thead><tbody><tr><td>wide00006</td></tr></tbody></table></td></tr>\n",
       "<tr><td>http://www.ema.europa.eu/docs/mt_mt/document_library/epar_-_product_information/human/001073/wc500042505.pdf</td><td><em>None</em></td><td><table><thead></thead><tbody><tr><td>wide00006-pdf</td></tr></tbody></table></td></tr>\n",
       "<tr><td>https://educationbro.com/mt/universities/uae/masdar-institute-science-technology/</td><td>meta\tname\ttranslation-stats</td><td><table><thead></thead><tbody><tr><td>philipp</td></tr></tbody></table></td></tr>\n",
       "<tr><td>http://ukraine.admission.center/universities/aviation/kharkiv-national-aerospace-university/</td><td><em>None</em></td><td><table><thead></thead><tbody><tr><td>philipp</td></tr></tbody></table></td></tr>\n",
       "<tr><td>http://www.healthworksnewcastle.org.uk/our-services/breastfeeding-peer-support/your-questions-answered/</td><td>HTTP Error 404: Not Found</td><td><table><thead></thead><tbody><tr><td>hieu</td></tr>\n",
       "<tr><td>philipp</td></tr></tbody></table></td></tr>\n",
       "<tr><td>https://morzuch.pl/2010/05/16/witaj-swiecie/?lang=en</td><td>meta\tname\ttranslation-stats</td><td><table><thead></thead><tbody><tr><td>wide00015</td></tr></tbody></table></td></tr>\n",
       "<tr><td>http://thegreatestnetworker.org/mt/</td><td>HTTP Error 404: Not Found</td><td><table><thead></thead><tbody><tr><td>wide00006</td></tr></tbody></table></td></tr>\n",
       "<tr><td>http://m.mt.electric-test.com/info/page/4/</td><td><em>None</em></td><td><table><thead></thead><tbody><tr><td>philipp</td></tr></tbody></table></td></tr>\n",
       "<tr><td>http://skolarbete.nu/mt/skolarbeten/united-kingdom/</td><td>HTTP Error 500: Internal Server Error</td><td><table><thead></thead><tbody><tr><td>philipp</td></tr></tbody></table></td></tr>\n",
       "<tr><td>http://www.clearingexchange.com/en/hedge-your-money-with-forward-exchange-rates/</td><td><em>None</em></td><td><table><thead></thead><tbody><tr><td>wide00006</td></tr></tbody></table></td></tr>\n",
       "<tr><td>usa-casino-online.com/category/free-online-slots/table-games/</td><td>HTTP Error 403: Forbidden</td><td><table><thead></thead><tbody><tr><td>hieu</td></tr></tbody></table></td></tr>\n",
       "<tr><td>http://saveigoogle.org/mt/going-home-ighome/</td><td>HTTP Error 403: Forbidden</td><td><table><thead></thead><tbody><tr><td>philipp</td></tr></tbody></table></td></tr>\n",
       "<tr><td>https://transposh.org/version-0-6-1-buddypress-deeper-integration/</td><td>meta\tname\ttranslation-stats</td><td><table><thead></thead><tbody><tr><td>philipp</td></tr></tbody></table></td></tr>\n",
       "<tr><td>www.gamegape.com/en-253-page-1.html</td><td>HTTP Error 404: Not Found</td><td><table><thead></thead><tbody><tr><td>hieu</td></tr></tbody></table></td></tr>\n",
       "<tr><td>http://en.zxplay.net/tags/poisk_pred/</td><td>HTTP Error 403: Forbidden</td><td><table><thead></thead><tbody><tr><td>philipp</td></tr></tbody></table></td></tr>\n",
       "<tr><td>www.bridgat.com/shop/rings/</td><td>HTTP Error 403: Forbidden</td><td><table><thead></thead><tbody><tr><td>hieu</td></tr></tbody></table></td></tr>\n",
       "<tr><td>https://www.wysluxury.com/tag/gulfstream-g550/?lang=mt</td><td>HTTP Error 429: Too Many Requests</td><td><table><thead></thead><tbody><tr><td>philipp</td></tr></tbody></table></td></tr>\n",
       "<tr><td>http://www.cropcirclesonline.com/crop-circles-hit-of-the-year.htm</td><td><em>None</em></td><td><table><thead></thead><tbody><tr><td>philipp</td></tr></tbody></table></td></tr>\n",
       "<tr><td>http://la.itsmygame.org/strategies.html</td><td>HTTP Error 403: Forbidden</td><td><table><thead></thead><tbody><tr><td>philipp</td></tr></tbody></table></td></tr>\n",
       "<tr><td>http://zxzgames.com/tags/supermarketmania/</td><td>HTTP Error 403: Forbidden</td><td><table><thead></thead><tbody><tr><td>philipp</td></tr></tbody></table></td></tr>\n",
       "<tr><td>http://kaizenlog.com/software-cost-estimation-metrics-models/</td><td>HTTP Error 403: Forbidden</td><td><table><thead></thead><tbody><tr><td>philipp</td></tr></tbody></table></td></tr>\n",
       "<tr><td>www.bridgat.com/shop/replacement-shaver-foils-and-blades/</td><td>HTTP Error 403: Forbidden</td><td><table><thead></thead><tbody><tr><td>hieu</td></tr></tbody></table></td></tr>\n",
       "<tr><td>http://skolarbete.nu/en/skolarbeten/solen-och-planeterna/</td><td>HTTP Error 500: Internal Server Error</td><td><table><thead></thead><tbody><tr><td>philipp</td></tr></tbody></table></td></tr>\n",
       "<tr><td>https://builttobrag.com/3-ways-to-deny-god/?lang=mt</td><td>meta\tname\ttranslation-stats</td><td><table><thead></thead><tbody><tr><td>hieu</td></tr>\n",
       "<tr><td>philipp</td></tr></tbody></table></td></tr>\n",
       "<tr><td>http://www.yyjfwj.com/mt/plug-anchor.html</td><td><em>None</em></td><td><table><thead></thead><tbody><tr><td>philipp</td></tr></tbody></table></td></tr>\n",
       "<tr><td>www.conex.net/nc8/2013/mt/44.html</td><td><em>None</em></td><td><table><thead></thead><tbody><tr><td>hieu</td></tr></tbody></table></td></tr>\n",
       "<tr><td>http://www.cn-sanitary.com/high-quality-cnc-machining-stainless-steel-316l.html</td><td>HTTP Error 404: Not Found</td><td><table><thead></thead><tbody><tr><td>philipp</td></tr></tbody></table></td></tr>\n",
       "<tr><td>http://www.dandelionoutdoor.com/poly-tarps/white-grey-poly-tarps.html</td><td>HTTP Error 403: Forbidden</td><td><table><thead></thead><tbody><tr><td>philipp</td></tr></tbody></table></td></tr>\n",
       "<tr><td>https://traynews.com/news/veteran-crypto-traders-top-tips-for-you/</td><td><em>None</em></td><td><table><thead></thead><tbody><tr><td>philipp</td></tr></tbody></table></td></tr>\n",
       "<tr><td>http://www.ecb.int/pub/pdf/other/gendoc201109mt.pdf?e11ebec360f230498fbba555e979a4b8</td><td><em>None</em></td><td><table><thead></thead><tbody><tr><td>wide00006-pdf</td></tr></tbody></table></td></tr>\n",
       "<tr><td>ktieb.org.mt/category/news-en/page/3/</td><td>HTTP Error 503: Service Temporarily Unavailable</td><td><table><thead></thead><tbody><tr><td>hieu</td></tr></tbody></table></td></tr>\n",
       "<tr><td>http://europa.eu/youth/eu/article/41/47_en</td><td>HTTP Error 403: Forbidden</td><td><table><thead></thead><tbody><tr><td>philipp</td></tr></tbody></table></td></tr>\n",
       "<tr><td>http://m.mt.byvisiontech.com/hearing-aids/mini-hearing-aid-made-in-china.html</td><td>HTTP Error 403: Forbidden</td><td><table><thead></thead><tbody><tr><td>philipp</td></tr></tbody></table></td></tr>\n",
       "<tr><td>www.conex.net/nc8/2013/mt/44.html</td><td><em>None</em></td><td><table><thead></thead><tbody><tr><td>hieu</td></tr></tbody></table></td></tr>\n",
       "<tr><td>https://crushtheinfosecexams.com/best-itil-foundation-certification-training-courses/</td><td>HTTP Error 403: Forbidden</td><td><table><thead></thead><tbody><tr><td>philipp</td></tr></tbody></table></td></tr>\n",
       "<tr><td>www.datemypet.com/phototips</td><td>HTTP Error 403: Forbidden</td><td><table><thead></thead><tbody><tr><td>hieu</td></tr></tbody></table></td></tr>\n",
       "<tr><td>thechurchinmalta.org/mt/posts/5958/fund-raising-for-haitigbir-ta-fondi-ghal-haiti</td><td><em>None</em></td><td><table><thead></thead><tbody><tr><td>hieu</td></tr></tbody></table></td></tr></tbody></table>"
      ],
      "text/plain": [
       "<notebook.table at 0x11e0d6d00>"
      ]
     },
     "execution_count": 19,
     "metadata": {},
     "output_type": "execute_result"
    }
   ],
   "source": [
    "table({\n",
    "    'url': url or first(set.union(*(t['source-document'] for t in unit.translations.values()))),\n",
    "    'filter': hit,\n",
    "    'collections': unit['collection']\n",
    "} for unit, hit, url in checked_units)"
   ]
  },
  {
   "cell_type": "code",
   "execution_count": 20,
   "metadata": {},
   "outputs": [],
   "source": [
    "def count(iterable):\n",
    "    return sum(1 for _ in iterable)"
   ]
  },
  {
   "cell_type": "markdown",
   "metadata": {},
   "source": [
    "Number of units that were accessible but did trigger an MT detection rule"
   ]
  },
  {
   "cell_type": "code",
   "execution_count": 21,
   "metadata": {},
   "outputs": [
    {
     "data": {
      "text/plain": [
       "17"
      ]
     },
     "execution_count": 21,
     "metadata": {},
     "output_type": "execute_result"
    }
   ],
   "source": [
    "count(unit for unit, hit, url in checked_units if url is not None)"
   ]
  },
  {
   "cell_type": "markdown",
   "metadata": {},
   "source": [
    "Number of units that were accessible and did not trigger the MT system"
   ]
  },
  {
   "cell_type": "code",
   "execution_count": 22,
   "metadata": {},
   "outputs": [
    {
     "data": {
      "text/plain": [
       "22"
      ]
     },
     "execution_count": 22,
     "metadata": {},
     "output_type": "execute_result"
    }
   ],
   "source": [
    "count(unit for unit, hit, url in checked_units if url is None and hit is None)"
   ]
  },
  {
   "cell_type": "markdown",
   "metadata": {},
   "source": [
    "Number of units that were no longer accessible on any of its associated source documents"
   ]
  },
  {
   "cell_type": "code",
   "execution_count": 23,
   "metadata": {},
   "outputs": [
    {
     "data": {
      "text/plain": [
       "61"
      ]
     },
     "execution_count": 23,
     "metadata": {},
     "output_type": "execute_result"
    }
   ],
   "source": [
    "count(unit for unit, hit, url in checked_units if url is None and hit is not None)"
   ]
  },
  {
   "cell_type": "code",
   "execution_count": 27,
   "metadata": {},
   "outputs": [
    {
     "data": {
      "text/html": [
       "<table><thead></thead><tbody><tr><td>HTTP Error 403: Forbidden</td><td>25</td></tr>\n",
       "<tr><td>HTTP Error 404: Not Found</td><td>17</td></tr>\n",
       "<tr><td>HTTP Error 500: Internal Server Error</td><td>8</td></tr>\n",
       "<tr><td>&lt;urlopen error [Errno 8] nodename nor servname provided, or not known&gt;</td><td>6</td></tr>\n",
       "<tr><td>&#x27;ascii&#x27; codec can&#x27;t encode character &#x27;\\xe9&#x27; in position 9: ordinal not in range(128)</td><td>1</td></tr>\n",
       "<tr><td>&lt;urlopen error timed out&gt;</td><td>1</td></tr>\n",
       "<tr><td>&#x27;ascii&#x27; codec can&#x27;t encode character &#x27;\\xa0&#x27; in position 21: ordinal not in range(128)</td><td>1</td></tr>\n",
       "<tr><td>HTTP Error 429: Too Many Requests</td><td>1</td></tr>\n",
       "<tr><td>HTTP Error 503: Service Temporarily Unavailable</td><td>1</td></tr></tbody></table>"
      ],
      "text/plain": [
       "<notebook.table at 0x11ddf3fa0>"
      ]
     },
     "execution_count": 27,
     "metadata": {},
     "output_type": "execute_result"
    }
   ],
   "source": [
    "notebook.table(Counter(hit for _, hit, url in checked_units if url is None and hit is not None).most_common())"
   ]
  },
  {
   "cell_type": "code",
   "execution_count": null,
   "metadata": {},
   "outputs": [],
   "source": []
  }
 ],
 "metadata": {
  "kernelspec": {
   "display_name": "Python 3",
   "language": "python",
   "name": "python3"
  },
  "language_info": {
   "codemirror_mode": {
    "name": "ipython",
    "version": 3
   },
   "file_extension": ".py",
   "mimetype": "text/x-python",
   "name": "python",
   "nbconvert_exporter": "python",
   "pygments_lexer": "ipython3",
   "version": "3.9.2"
  }
 },
 "nbformat": 4,
 "nbformat_minor": 4
}
