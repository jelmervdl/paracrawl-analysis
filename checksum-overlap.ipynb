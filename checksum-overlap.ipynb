{
 "cells": [
  {
   "cell_type": "code",
   "execution_count": 1,
   "metadata": {
    "tags": []
   },
   "outputs": [
    {
     "name": "stderr",
     "output_type": "stream",
     "text": [
      "/Users/jelmer/Workspace/statmt/tmxutil/tmxutil.py:38: TqdmExperimentalWarning: Using `tqdm.autonotebook.tqdm` in notebook mode. Use `tqdm.tqdm` instead to force console mode (e.g. in jupyter console)\n",
      "  from tqdm.autonotebook import tqdm\n"
     ]
    }
   ],
   "source": [
    "import site\n",
    "site.addsitedir('../tmxutil')\n",
    "from tmxutil import make_reader, TranslationUnit, TranslationUnitVariant\n",
    "import unidecode\n",
    "import string\n",
    "from xxhash import xxh64\n",
    "from notebook import table, first\n",
    "from tqdm.autonotebook import tqdm\n",
    "from logging import getLogger, ERROR\n",
    "getLogger().setLevel(ERROR) # Hide warnings while importing\n",
    "\n",
    "def checksum(unit):\n",
    "    return xxh64(\"\\t\".join(\n",
    "        unidecode.unidecode(translation.text.lower().replace(\" \", \"\").translate(str.maketrans('', '', string.punctuation + string.digits)))\n",
    "        for translation in unit.translations.values())).hexdigest()\n",
    "\n",
    "def read(filename):\n",
    "    with open(filename, 'rb') as fh:\n",
    "        for unit in make_reader(fh, progress=True):\n",
    "            yield unit"
   ]
  },
  {
   "cell_type": "code",
   "execution_count": 2,
   "metadata": {},
   "outputs": [],
   "source": [
    "files = {\n",
    "    'paracrawl-7.1': 'en-mt.tmx.gz',\n",
    "    'paracrawl-8': 'en-mt.cc-2016-30-cc-2017-30-cc-2018-30-cc-2019-18-cc-2019-35-gwb-hieu-marta-philipp-wide00006-wide00015.tmx.gz'\n",
    "}"
   ]
  },
  {
   "cell_type": "code",
   "execution_count": 3,
   "metadata": {},
   "outputs": [
    {
     "data": {
      "application/vnd.jupyter.widget-view+json": {
       "model_id": "c7f37f1e840640c691b6a3554e94b880",
       "version_major": 2,
       "version_minor": 0
      },
      "text/plain": [
       "en-mt.tmx.gz:   0%|          | 0.00/197M [00:00<?, ?b/s]"
      ]
     },
     "metadata": {},
     "output_type": "display_data"
    },
    {
     "data": {
      "application/vnd.jupyter.widget-view+json": {
       "model_id": "a07a5ca2d4434af8a400f4b31c90baa6",
       "version_major": 2,
       "version_minor": 0
      },
      "text/plain": [
       "en-mt.cc-2016-30-cc-2017-30-cc-2018-30-cc-2019-18-cc-2019-35-gwb-hieu-marta-philipp-wide00006-wide00015.tmx.gz…"
      ]
     },
     "metadata": {},
     "output_type": "display_data"
    }
   ],
   "source": [
    "hashes = {\n",
    "    release: frozenset(checksum(unit) for unit in read(filename))\n",
    "    for release, filename in files.items()\n",
    "}"
   ]
  },
  {
   "cell_type": "code",
   "execution_count": 13,
   "metadata": {},
   "outputs": [
    {
     "data": {
      "text/html": [
       "<style>\n",
       "caption {\n",
       "    font-weight: bold;\n",
       "    caption-side: bottom;\n",
       "}\n",
       "</style>\n"
      ],
      "text/plain": [
       "<IPython.core.display.HTML object>"
      ]
     },
     "metadata": {},
     "output_type": "display_data"
    }
   ],
   "source": [
    "%%html\n",
    "<style>\n",
    "caption {\n",
    "    font-weight: bold;\n",
    "    caption-side: bottom;\n",
    "}\n",
    "</style>"
   ]
  },
  {
   "cell_type": "markdown",
   "metadata": {},
   "source": [
    "# Overlap between releases\n",
    "How many sentence pairs are in one while not in the other, and how many are in both?\n",
    "\n",
    "I'm using the same hashes bicleaner uses to identify duplicates (when --aggressive-dedup is passed to it)."
   ]
  },
  {
   "cell_type": "code",
   "execution_count": 4,
   "metadata": {},
   "outputs": [
    {
     "data": {
      "text/plain": [
       "0.18467959367509593"
      ]
     },
     "execution_count": 4,
     "metadata": {},
     "output_type": "execute_result"
    }
   ],
   "source": [
    "len(hashes['paracrawl-7.1'] & hashes['paracrawl-8']) / len(hashes['paracrawl-8']) # Overlap"
   ]
  },
  {
   "cell_type": "code",
   "execution_count": 5,
   "metadata": {},
   "outputs": [
    {
     "data": {
      "text/plain": [
       "0.8153204063249041"
      ]
     },
     "execution_count": 5,
     "metadata": {},
     "output_type": "execute_result"
    }
   ],
   "source": [
    "len(hashes['paracrawl-8'] - hashes['paracrawl-7.1']) / len(hashes['paracrawl-8']) # Novel"
   ]
  },
  {
   "cell_type": "code",
   "execution_count": 6,
   "metadata": {},
   "outputs": [
    {
     "data": {
      "text/plain": [
       "0.6543089586479063"
      ]
     },
     "execution_count": 6,
     "metadata": {},
     "output_type": "execute_result"
    }
   ],
   "source": [
    "len(hashes['paracrawl-7.1'] - hashes['paracrawl-8']) / len(hashes['paracrawl-7.1']) # Lost"
   ]
  },
  {
   "cell_type": "markdown",
   "metadata": {},
   "source": [
    "Okay, so about 65% of all sentence pairs in 7.1 do not return in 8? Why? Are these from domains that we marked as likely MT? Are they low quality?\n",
    "\n",
    "Time for some sampling to look at. Also count the domains on either side, see whether it's specific domain names that are missing (which would indicate MT filtering)."
   ]
  },
  {
   "cell_type": "code",
   "execution_count": 9,
   "metadata": {},
   "outputs": [
    {
     "data": {
      "application/vnd.jupyter.widget-view+json": {
       "model_id": "419733bbb25244168f95f312b3613994",
       "version_major": 2,
       "version_minor": 0
      },
      "text/plain": [
       "en-mt.tmx.gz:   0%|          | 0.00/197M [00:00<?, ?b/s]"
      ]
     },
     "metadata": {},
     "output_type": "display_data"
    }
   ],
   "source": [
    "from stats import RandomSample\n",
    "from collections import Counter\n",
    "import re\n",
    "\n",
    "def domain(url):\n",
    "    \"\"\"Take the (very broadly defined) domain part of an url, or return the\n",
    "    full url if that didn't work.\"\"\"\n",
    "    match = re.match(r'^(https?:)?(//)?(?P<domain>[^/]+)', url)\n",
    "    return match.group('domain')\n",
    "\n",
    "lost_hashes = hashes['paracrawl-7.1'] - hashes['paracrawl-8']\n",
    "\n",
    "sample = RandomSample(1000)\n",
    "\n",
    "domains = Counter()\n",
    "\n",
    "collections_overall = Counter()\n",
    "\n",
    "collections_missing = Counter()\n",
    "\n",
    "for unit in read(files['paracrawl-7.1']):\n",
    "    collections_overall.update(unit['collection'])\n",
    "    if checksum(unit) in lost_hashes:\n",
    "        collections_missing.update(unit['collection'])\n",
    "        sample.add(unit)\n",
    "        for translation in unit.translations.values():\n",
    "            domains.update(domain(url) for url in translation['source-document'])"
   ]
  },
  {
   "cell_type": "code",
   "execution_count": 7,
   "metadata": {},
   "outputs": [],
   "source": [
    "from notebook import table"
   ]
  },
  {
   "cell_type": "code",
   "execution_count": 10,
   "metadata": {},
   "outputs": [
    {
     "data": {
      "text/html": [
       "<table><thead><tr><th>score</th><th>collection</th><th>en</th><th>mt</th></tr></thead><tbody><tr><td>0.592</td><td><table><thead></thead><tbody><tr><td>hieu</td></tr></tbody></table></td><td>The events are set up either by the National Book Council or by the participants in the Festival, which include Malta&#x27;s publishers, booksellers and NGOs and public agencies involved in the book industry.</td><td>L-attivitajiet huma mħejjija jew mill-Kunsill Nazzjonali tal-Ktieb jew mill-parteċipanti fil-Festival, li tista&#x27; tgħid jinkludu kull pubblikatur, bosta bejjiegħa tal-kotba u NGOs kif ukoll aġenziji pubbliċi involuti fl-industrija tal-ktieb.</td></tr>\n",
       "<tr><td>0.572</td><td><table><thead></thead><tbody><tr><td>philipp</td></tr></tbody></table></td><td>Comment bacterial content of ProViva Shot</td><td>Kumment kontenut batterjoloġiku fil ProViva Shot</td></tr>\n",
       "<tr><td>0.806</td><td><table><thead></thead><tbody><tr><td>philipp</td></tr></tbody></table></td><td>dictionary - German - Slovak</td><td>dizzjunarju - Ġermaniż - Slovakk</td></tr>\n",
       "<tr><td>0.700</td><td><table><thead></thead><tbody><tr><td>hieu</td></tr>\n",
       "<tr><td>philipp</td></tr></tbody></table></td><td>Ukrainian Admission Center main specialization is admission and education of foreign students.</td><td>Ukraina Ammissjoni Ċentru ispeċjalizzazzjoni prinċipali hija ammissjoni u l-edukazzjoni ta &#x27;studenti barranin.</td></tr>\n",
       "<tr><td>0.564</td><td><table><thead></thead><tbody><tr><td>philipp</td></tr></tbody></table></td><td>A:Yes,itcancommunicatewithcomputer.IthasRS232.</td><td>T: Iva, jista &#x27;jikkomunika mal-kompjuter.</td></tr>\n",
       "<tr><td>0.568</td><td><table><thead></thead><tbody><tr><td>philipp</td></tr></tbody></table></td><td>Inside Jupiter&#x27;s core may be as hot as 30 000 C. There are more than five times hotter than the sun&#x27;s surface.</td><td>Ġewwa qalba Jupiter tista &#x27;tkun sħan bħala 30,000 C. Li hija aktar minn ħames darbiet hotter minn wiċċ tax-xemx.</td></tr>\n",
       "<tr><td>0.596</td><td><table><thead></thead><tbody><tr><td>wide00006</td></tr></tbody></table></td><td>Free site for creating single webpages</td><td>Sit ħielsa għall-ħolqien webpages uniku</td></tr>\n",
       "<tr><td>0.740</td><td><table><thead></thead><tbody><tr><td>hieu</td></tr></tbody></table></td><td>He&#x27;s never been wrong.</td><td>Hu qatt ma kien żbaljat.</td></tr>\n",
       "<tr><td>0.676</td><td><table><thead></thead><tbody><tr><td>philipp</td></tr></tbody></table></td><td>To provide the best equipment to save costs and improve production</td><td>Li tipprovdi l-aħjar tagħmir li jsalva l-ispejjeż u jtejbu l-produzzjoni</td></tr>\n",
       "<tr><td>0.766</td><td><table><thead></thead><tbody><tr><td>wide00006</td></tr></tbody></table></td><td>My little one just turned 3!!</td><td>Ftit wieħed tiegħi biss daru 3!!</td></tr>\n",
       "<tr><td>0.716</td><td><table><thead></thead><tbody><tr><td>hieu</td></tr>\n",
       "<tr><td>philipp</td></tr></tbody></table></td><td>A single cylinder must always be squeezed at most to stay close to the performance of two cylinders and then throttle always wide open; extreme conditions also for consumption.</td><td>Ċilindru wieħed għandu dejjem jiġi mbuttat għall-massimu li tissospendi qrib il-prestazzjoni ta &#x27;throttle ġemellati u għalhekk dejjem miftuħ għal kollox; kundizzjonijiet estremi wkoll għall-konsum.</td></tr>\n",
       "<tr><td>0.666</td><td><table><thead></thead><tbody><tr><td>wide00006</td></tr></tbody></table></td><td>The new eco-automatic sink designed by Ahhaproject for Electrolux is a solution to this problem.</td><td>L-ġdid l-eko-awtomatiċi sink mfassla mill Ahhaproject għal Electrolux huwa soluzzjoni għal din il-problema.</td></tr>\n",
       "<tr><td>0.786</td><td><table><thead></thead><tbody><tr><td>wide00015</td></tr></tbody></table></td><td>The complete Photoshop CS6 for Photographers course has a total duration of 12 hours and 20 minutes, and discusses enhancing and retouching photos, including how to prepare them for print and online publishing.</td><td>Il Photoshop CS6 komplet għall Fotografi kors għandu tul totali ta &#x27; 12 siegħa u 20 minuti, u tiddiskuti tisħiħ u ritratti retouching, inkluż kif tipprepara lilhom għall-istampar u l-pubblikazzjoni fuq l-internet.</td></tr>\n",
       "<tr><td>0.616</td><td><table><thead></thead><tbody><tr><td>hieu</td></tr>\n",
       "<tr><td>philipp</td></tr></tbody></table></td><td>IncrediMail to Outlook Converter designed to import emails and attachments from IncrediMail to MS Outlook.</td><td>IncrediMail li Outlook konvertitur maħsuba għall-importazzjoni emails u l-annessi mill-IncrediMail li MS Outlook.</td></tr>\n",
       "<tr><td>0.866</td><td><table><thead></thead><tbody><tr><td>philipp</td></tr></tbody></table></td><td>And the Lord struck them, so that they would not see, in accord with the word of Elisha.</td><td>&quot;U l-Mulej laqat lilhom, sabiex dawn ma tara, bi qbil bejn il-kelma ta &#x27;Elisha.</td></tr>\n",
       "<tr><td>0.806</td><td><table><thead></thead><tbody><tr><td>wide00006</td></tr></tbody></table></td><td>So...... we decided to drink through the night and sleep on the coach (haven&#x27;t I been here somewhere before?!</td><td>Allura...... aħna iddeċieda li tixrob permezz tal-lejl u jorqdu fuq l-kowċ (ma I kien hawn x&#x27;imkien qabel?!</td></tr>\n",
       "<tr><td>0.650</td><td><table><thead></thead><tbody><tr><td>philipp</td></tr></tbody></table></td><td>Guests who participate in the Camp Nou Experience will also have the opportunity to tour various parts of the stadium which are inaccessible to the general public.</td><td>Mistednin li jipparteċipaw fl-esperjenza nou Camp se jkollhom ukoll l-opportunità li jżuru diversi partijiet tal-istadium li huma inaċċessibbli għall-pubbliku ġenerali.</td></tr>\n",
       "<tr><td>0.534</td><td><table><thead></thead><tbody><tr><td>hieu</td></tr></tbody></table></td><td>Thus the Shipyard has subsidized the Gozo Channel the sum of around Lm255,000.</td><td>B&#x27;hekk it-Tarzna ġiet issussidjat lill-Gozo Channel is-somma ta&#x27; madwar Lm255,000.</td></tr>\n",
       "<tr><td>0.576</td><td><table><thead></thead><tbody><tr><td>philipp</td></tr></tbody></table></td><td>In 1809 started an English chemist, Humphrey Davy, the trip to the invention of a practical incandescent light source.</td><td>Fl-1809 bdiet kimiku Ingliż, Humphrey Davy, il-vjaġġ għall-invenzjoni ta &#x27;sors tad-dawl inkandexxenti prattiku.</td></tr>\n",
       "<tr><td>0.766</td><td><table><thead></thead><tbody><tr><td>hieu</td></tr></tbody></table></td><td>They will focus, in particular, on the impact of Shelley&#x27;s novel on cinema and pop culture, mentioning various adaptations such as the Hammer series.</td><td>Huma se jiffokaw, b&#x27;mod partikolari, fuq l-impatt tal-ktieb ta&#x27; Shelley fuq iċ-ċinema u l-kultura popolari, u se jitkellmu dwar addattamenti differenti bħal dawk tas-serje Hammer.</td></tr></tbody></table>"
      ],
      "text/plain": [
       "<notebook.table at 0x11975c9d0>"
      ]
     },
     "execution_count": 10,
     "metadata": {},
     "output_type": "execute_result"
    }
   ],
   "source": [
    "table({\n",
    "    'score': first(unit['score-bicleaner']),\n",
    "    'collection': unit['collection'],\n",
    "    **{lang: translation.text for lang, translation in unit.translations.items()}\n",
    "} for unit in sample[:20])"
   ]
  },
  {
   "cell_type": "markdown",
   "metadata": {},
   "source": [
    "# Missing Collections\n",
    "Is it maybe a particular collection that is missing? That might indicate something changed in the way we process things.\n",
    "\n",
    "I would expect some changes here for the Philipp collection since this is the first time we processed that collection using the same pipeline, instead of merging it with previous work.\n",
    "\n",
    "What might also have an impact is that for Paracrawl 6 we merged the previous release of Paracrawl into the mix just before deduplicating. I'm not entirely sure we did this for Paracrawl 7 as well. Looking at the files on CSD3, in `/rds/project/rds-48gU72OtDNY/paracrawl-combined-releases/en-mt`, I see files named `raw-philipp-v5a.en-mt.{1..3}` so I assume we did.\n"
   ]
  },
  {
   "cell_type": "code",
   "execution_count": 15,
   "metadata": {},
   "outputs": [
    {
     "data": {
      "text/html": [
       "<table><caption>counts for paracrawl 7.1</caption><thead><tr><th>collection</th><th>count</th></tr></thead><tbody><tr><td>wide00006</td><td>59626</td></tr>\n",
       "<tr><td>hieu</td><td>181729</td></tr>\n",
       "<tr><td>philipp</td><td>613267</td></tr>\n",
       "<tr><td>wide00006-pdf</td><td>26406</td></tr>\n",
       "<tr><td>wide00015</td><td>33655</td></tr></tbody></table>"
      ],
      "text/plain": [
       "<notebook.table at 0x11975c790>"
      ]
     },
     "execution_count": 15,
     "metadata": {},
     "output_type": "execute_result"
    }
   ],
   "source": [
    "table(collections_overall.items(), headers=['collection', 'count'], title=\"counts for paracrawl 7.1\")"
   ]
  },
  {
   "cell_type": "code",
   "execution_count": 16,
   "metadata": {},
   "outputs": [
    {
     "data": {
      "text/html": [
       "<table><caption>counts of paracrawl 7.1 not in 8</caption><thead><tr><th>collection</th><th>count</th></tr></thead><tbody><tr><td>wide00006</td><td>54425</td></tr>\n",
       "<tr><td>hieu</td><td>126298</td></tr>\n",
       "<tr><td>philipp</td><td>375491</td></tr>\n",
       "<tr><td>wide00006-pdf</td><td>24841</td></tr>\n",
       "<tr><td>wide00015</td><td>14459</td></tr></tbody></table>"
      ],
      "text/plain": [
       "<notebook.table at 0x11975cdf0>"
      ]
     },
     "execution_count": 16,
     "metadata": {},
     "output_type": "execute_result"
    }
   ],
   "source": [
    "table(collections_missing.items(), headers=['collection', 'count'], title=\"counts of paracrawl 7.1 not in 8\")"
   ]
  },
  {
   "cell_type": "code",
   "execution_count": 17,
   "metadata": {},
   "outputs": [
    {
     "data": {
      "text/html": [
       "<table><thead><tr><th>collection</th><th>percentage missing</th><th>units not in 7.1 not in 8</th><th>units in 7.1</th></tr></thead><tbody><tr><td>philipp</td><td>61.2%</td><td>375491</td><td>613267</td></tr>\n",
       "<tr><td>hieu</td><td>69.5%</td><td>126298</td><td>181729</td></tr>\n",
       "<tr><td>wide00006</td><td>91.3%</td><td>54425</td><td>59626</td></tr>\n",
       "<tr><td>wide00015</td><td>43.0%</td><td>14459</td><td>33655</td></tr>\n",
       "<tr><td>wide00006-pdf</td><td>94.1%</td><td>24841</td><td>26406</td></tr></tbody></table>"
      ],
      "text/plain": [
       "<notebook.table at 0x11977a790>"
      ]
     },
     "execution_count": 17,
     "metadata": {},
     "output_type": "execute_result"
    }
   ],
   "source": [
    "from operator import itemgetter\n",
    "table({\n",
    "    'collection': collection,\n",
    "    'percentage missing': '{:0.1f}%'.format(100 * collections_missing[collection] / count),\n",
    "    'units not in 7.1 not in 8': collections_missing[collection],\n",
    "    'units in 7.1': count\n",
    "} for collection, count in sorted(collections_overall.items(), key=itemgetter(1), reverse=True))"
   ]
  },
  {
   "cell_type": "markdown",
   "metadata": {},
   "source": [
    "Hmm, correct, pdfs haven't been processed for this release. Philipp has been processed with a different pipeline. But I have no plausible explanation for Hieu or wide00006/15 in terms of processing. Maybe MT filter?"
   ]
  },
  {
   "cell_type": "markdown",
   "metadata": {},
   "source": [
    "# Missing web domains\n",
    "Is there anything particular about the missing sentence pairs? Maybe they're all from domains that got filtered because of MT?"
   ]
  },
  {
   "cell_type": "code",
   "execution_count": 18,
   "metadata": {},
   "outputs": [
    {
     "data": {
      "text/html": [
       "<table><thead><tr><th>domain</th><th>count</th></tr></thead><tbody><tr><td>http://straightpoint.com/</td><td>481378</td></tr>\n",
       "<tr><td>http://www.welcome-to-barcelona.com/</td><td>195795</td></tr>\n",
       "<tr><td>http://www.straightpoint.com/</td><td>151848</td></tr>\n",
       "<tr><td>http://transposh.org/</td><td>151056</td></tr>\n",
       "<tr><td>http://2fish.co/</td><td>113978</td></tr>\n",
       "<tr><td>http://builttobrag.com/</td><td>112523</td></tr>\n",
       "<tr><td>http://www.outlookimport.com/</td><td>102456</td></tr>\n",
       "<tr><td>http://blog.simmakers.com/</td><td>98508</td></tr>\n",
       "<tr><td>http://www.conex.net/</td><td>88135</td></tr>\n",
       "<tr><td>http://therefugeecenter.org/</td><td>85340</td></tr>\n",
       "<tr><td>http://www.sinsdementia.com/</td><td>84026</td></tr>\n",
       "<tr><td>http://skolarbete.nu/</td><td>82326</td></tr>\n",
       "<tr><td>http://satellite-tv.top3selections.com/</td><td>66400</td></tr>\n",
       "<tr><td>http://www.ecb.int/</td><td>66287</td></tr>\n",
       "<tr><td>http://www.yourwebdoc.org/</td><td>61823</td></tr></tbody></table>"
      ],
      "text/plain": [
       "<notebook.table at 0x10b136f10>"
      ]
     },
     "execution_count": 18,
     "metadata": {},
     "output_type": "execute_result"
    }
   ],
   "source": [
    "table({\n",
    "    'domain': f\"http://{domain_name}/\",\n",
    "    'count': count\n",
    "} for domain_name, count in domains.most_common(15))"
   ]
  },
  {
   "cell_type": "markdown",
   "metadata": {},
   "source": [
    "Okay I'm not going to do this by hand let's quickly implement something that matches the behaviour of warc2text's mt filter, import our filter list, and *make the assumption the page we processed is the same as the page that is online today*."
   ]
  },
  {
   "cell_type": "code",
   "execution_count": 19,
   "metadata": {
    "tags": []
   },
   "outputs": [],
   "source": [
    "with open('mt-filter-list.txt', 'r') as fh:\n",
    "    mt_filter_list = fh.read()"
   ]
  },
  {
   "cell_type": "code",
   "execution_count": 20,
   "metadata": {},
   "outputs": [],
   "source": [
    "from bs4 import BeautifulSoup\n",
    "from urllib.request import urlopen\n",
    "\n",
    "def check_for_mt(url, filter_list):\n",
    "    with urlopen(url, timeout=10) as fh:\n",
    "        data = fh.read(5 * 1024 * 1024) # limit to 5mb\n",
    "        soup = BeautifulSoup(data, 'html.parser')\n",
    "        \n",
    "        for line in filter_list.split('\\n'):\n",
    "            if line.startswith('#') or line.strip() == '':\n",
    "                continue\n",
    "            elment, attribute, pattern = line.split('\\t')\n",
    "            if soup.find_all(elment, attrs={attribute: re.compile(pattern)}):\n",
    "                return line, fh.url\n",
    "        return None, fh.url"
   ]
  },
  {
   "cell_type": "code",
   "execution_count": 21,
   "metadata": {},
   "outputs": [
    {
     "data": {
      "text/plain": [
       "(\"a\\tonclick\\tdoGTranslate\\\\(\\\\'.{2}\\\\|.{2}\\\\'\\\\)\",\n",
       " 'https://straightpoint.com/')"
      ]
     },
     "execution_count": 21,
     "metadata": {},
     "output_type": "execute_result"
    }
   ],
   "source": [
    "check_for_mt('http://straightpoint.com/', mt_filter_list)"
   ]
  },
  {
   "cell_type": "markdown",
   "metadata": {},
   "source": [
    "So let's first look at the top 30 missing domains"
   ]
  },
  {
   "cell_type": "code",
   "execution_count": 22,
   "metadata": {},
   "outputs": [
    {
     "data": {
      "text/html": [
       "<table><thead><tr><th>domain</th><th>count</th><th>matched filter</th></tr></thead><tbody><tr><td>https://straightpoint.com/</td><td>481378</td><td>a\tonclick\tdoGTranslate\\(\\&#x27;.{2}\\|.{2}\\&#x27;\\)</td></tr>\n",
       "<tr><td>http://www.welcome-to-barcelona.com/</td><td>195795</td><td><em>None</em></td></tr>\n",
       "<tr><td>https://www.straightpoint.com/</td><td>151848</td><td>a\tonclick\tdoGTranslate\\(\\&#x27;.{2}\\|.{2}\\&#x27;\\)</td></tr>\n",
       "<tr><td>http://transposh.org/</td><td>151056</td><td>meta\tname\ttranslation-stats</td></tr>\n",
       "<tr><td>https://2fish.co/</td><td>113978</td><td><em>None</em></td></tr>\n",
       "<tr><td>https://builttobrag.com/</td><td>112523</td><td><em>None</em></td></tr>\n",
       "<tr><td>https://www.outlookimport.com/</td><td>102456</td><td><em>None</em></td></tr>\n",
       "<tr><td>https://blog.simmakers.com/</td><td>98508</td><td><em>None</em></td></tr>\n",
       "<tr><td>https://www.conex.net/</td><td>88135</td><td><em>None</em></td></tr>\n",
       "<tr><td>http://therefugeecenter.org</td><td>85340</td><td>HTTP Error 502: Bad Gateway</td></tr>\n",
       "<tr><td>https://sinsdementia.com/</td><td>84026</td><td><em>None</em></td></tr>\n",
       "<tr><td>http://skolarbete.nu</td><td>82326</td><td>HTTP Error 500: Internal Server Error</td></tr>\n",
       "<tr><td>https://www.buydomains.com/lander/top3selections.com?domain=top3selections.com&amp;utm_source=top3selections.com&amp;utm_medium=click&amp;utm_campaign=tdfs-AprTest&amp;traffic_id=AprTest&amp;traffic_type=tdfs&amp;redirect=ono-redirect</td><td>66400</td><td><em>None</em></td></tr>\n",
       "<tr><td>https://www.ecb.europa.eu/home/html/index.en.html</td><td>66287</td><td><em>None</em></td></tr>\n",
       "<tr><td>https://www.yourwebdoc.org/</td><td>61823</td><td><em>None</em></td></tr>\n",
       "<tr><td>https://mail.straightpoint.com/</td><td>58404</td><td>a\tonclick\tdoGTranslate\\(\\&#x27;.{2}\\|.{2}\\&#x27;\\)</td></tr>\n",
       "<tr><td>http://www.federacionfotovasca.org/</td><td>52036</td><td><em>None</em></td></tr>\n",
       "<tr><td>https://educationbro.com/</td><td>50142</td><td><em>None</em></td></tr>\n",
       "<tr><td>http://www.byvisiontech.com</td><td>43041</td><td>HTTP Error 403: Forbidden</td></tr>\n",
       "<tr><td>https://www.metric-conversions.org/</td><td>40940</td><td><em>None</em></td></tr>\n",
       "<tr><td>http://mt.byvisiontech.com</td><td>40275</td><td>HTTP Error 403: Forbidden</td></tr>\n",
       "<tr><td>http://ukraine.admission.center/</td><td>38972</td><td><em>None</em></td></tr>\n",
       "<tr><td>http://www.cnimalta.org</td><td>38902</td><td>HTTP Error 404: Not Found</td></tr>\n",
       "<tr><td>http://www.blogprinvizor.ro</td><td>37589</td><td>timed out</td></tr>\n",
       "<tr><td>https://eur-lex.europa.eu/</td><td>37281</td><td><em>None</em></td></tr>\n",
       "<tr><td>http://www.muhammad.com/</td><td>35786</td><td><em>None</em></td></tr>\n",
       "<tr><td>http://www.parisdakar.it/</td><td>35438</td><td><em>None</em></td></tr>\n",
       "<tr><td>https://knisja.mt/</td><td>34606</td><td><em>None</em></td></tr>\n",
       "<tr><td>http://www.infinitecosmos.info/</td><td>32996</td><td><em>None</em></td></tr>\n",
       "<tr><td>http://forexindicatorsdownload.com</td><td>32272</td><td>&lt;urlopen error [Errno 8] nodename nor servname provided, or not known&gt;</td></tr></tbody></table>"
      ],
      "text/plain": [
       "<notebook.table at 0x11a0902e0>"
      ]
     },
     "execution_count": 22,
     "metadata": {},
     "output_type": "execute_result"
    }
   ],
   "source": [
    "def check_domains(n):\n",
    "    for domain_name, count in domains.most_common(n):\n",
    "        try:\n",
    "            hit, url = check_for_mt(f\"http://{domain_name}/\", mt_filter_list)\n",
    "        except Exception as e:\n",
    "            hit, url = str(e), f'http://{domain_name}'\n",
    "        yield url, count, hit\n",
    "\n",
    "table(check_domains(30), headers=['domain', 'count', 'matched filter'])"
   ]
  },
  {
   "cell_type": "markdown",
   "metadata": {},
   "source": [
    "Of course, we're not targeting home pages in our sentence pairs, but lower level pages. I'm going to use the sampled sentence pairs and look at their urls."
   ]
  },
  {
   "cell_type": "code",
   "execution_count": 24,
   "metadata": {},
   "outputs": [
    {
     "data": {
      "application/vnd.jupyter.widget-view+json": {
       "model_id": "cb9cce08a4004c70b4c1ad456fd6eecd",
       "version_major": 2,
       "version_minor": 0
      },
      "text/plain": [
       "  0%|          | 0/100 [00:00<?, ?it/s]"
      ]
     },
     "metadata": {},
     "output_type": "display_data"
    }
   ],
   "source": [
    "def check_unit_for_mt(unit):\n",
    "    error = None\n",
    "    \n",
    "    for url in set().union(*(translation['source-document'] for translation in unit.translations.values())):\n",
    "        # Fix for data from philipp and hieu collections: urls have no prefix.\n",
    "        if not url.startswith('http'):\n",
    "            url = f'http://{url}'\n",
    "        \n",
    "        try:\n",
    "            hit, url = check_for_mt(url, mt_filter_list)\n",
    "            if hit:\n",
    "                return hit, url\n",
    "        except Exception as e:\n",
    "            error = str(e)\n",
    "        \n",
    "    return error, None\n",
    "\n",
    "\n",
    "checked_units = [\n",
    "    (unit, *check_unit_for_mt(unit))\n",
    "    for unit in tqdm(list(sample[:100]))\n",
    "]\n"
   ]
  },
  {
   "cell_type": "code",
   "execution_count": 35,
   "metadata": {
    "tags": []
   },
   "outputs": [
    {
     "data": {
      "text/html": [
       "<table><thead><tr><th>url</th><th>filter</th><th>collections</th></tr></thead><tbody><tr><td>ktieb.org.mt/mt/applikazzjonijiet-ghall-konkors-letterarju-kitba-ghaz-zghazagh/</td><td>HTTP Error 503: Service Temporarily Unavailable</td><td>hieu</td></tr>\n",
       "<tr><td>http://skolarbete.nu/mt/skolarbeten/bakteriehalten-i-proviva-shot/</td><td>HTTP Error 500: Internal Server Error</td><td>philipp</td></tr>\n",
       "<tr><td>http://babelx.net/en/dictionary-German/</td><td><em>None</em></td><td>philipp</td></tr>\n",
       "<tr><td>ukraine.admission.center/for-parents/</td><td><em>None</em></td><td>hieu, philipp</td></tr>\n",
       "<tr><td>https://www.electric-test.com/info/faq-of-hzjq-1-oil-bdv-tester-oil-dielectric-s-19032802.html</td><td>HTTP Error 403: Forbidden</td><td>philipp</td></tr>\n",
       "<tr><td>http://skolarbete.nu/en/skolarbeten/astronomi-5/</td><td>HTTP Error 500: Internal Server Error</td><td>philipp</td></tr>\n",
       "<tr><td>http://momsaffiliatemarketing.com/tag/open-education-project/</td><td>HTTP Error 403: Forbidden</td><td>wide00006</td></tr>\n",
       "<tr><td>https://builttobrag.com/why-i-got-married-so-young-from-my-wifes-perspective/?lang=mt</td><td>meta\tname\ttranslation-stats</td><td>hieu</td></tr>\n",
       "<tr><td>http://www.evergrowingcage.com/mt/about-us/</td><td><em>None</em></td><td>philipp</td></tr>\n",
       "<tr><td>http://creatingmybusinessonline.com/john-thornhills-internet-marketing-master-class-coaching-program</td><td>HTTP Error 403: Forbidden</td><td>wide00006</td></tr>\n",
       "<tr><td>http://www.parisdakar.it/mt/tag/mandelli/</td><td>meta\tname\ttranslation-stats</td><td>hieu, philipp</td></tr>\n",
       "<tr><td>http://interiordesigningblog.com/category/kitchens/</td><td><em>None</em></td><td>wide00006</td></tr>\n",
       "<tr><td>http://printindustryhub.com/?tag=photographer&amp;lang=mt</td><td><em>None</em></td><td>wide00015</td></tr>\n",
       "<tr><td>https://www.incredimailtooutlook.org/mt/help/</td><td>meta\tname\ttranslation-stats</td><td>hieu, philipp</td></tr>\n",
       "<tr><td>https://2fish.co/mt/bible/old-testament/kings-2/</td><td>meta\tname\ttranslation-stats</td><td>philipp</td></tr>\n",
       "<tr><td>http://www.sihanoukvilleonline.com/cambodia/sihanoukville-blog/the-cambodian-visa-run/print/</td><td>&lt;urlopen error [Errno 8] nodename nor servname provided, or not known&gt;</td><td>wide00006</td></tr>\n",
       "<tr><td>http://www.welcome-to-barcelona.com/2012/01/30/fc-barcelona/?gltr_lang=zh-CN</td><td>HTTP Error 404: Not Found</td><td>philipp</td></tr>\n",
       "<tr><td>www.cnimalta.org/180708e.html</td><td>HTTP Error 404: Not Found</td><td>hieu</td></tr>\n",
       "<tr><td>http://skolarbete.nu/en/om/uppfinningar/</td><td>HTTP Error 500: Internal Server Error</td><td>philipp</td></tr>\n",
       "<tr><td>ktieb.org.mt/book-donation-to-malta-libraries-3/</td><td>HTTP Error 503: Service Temporarily Unavailable</td><td>hieu</td></tr>\n",
       "<tr><td>vetxed.com/en/n/nobilis+ib+primo+qx/2/</td><td>timed out</td><td>hieu</td></tr>\n",
       "<tr><td>http://europa.eu/teachers-corner/pdf/info_mt.pdf</td><td><em>None</em></td><td>wide00006-pdf</td></tr>\n",
       "<tr><td>thechurchinmalta.org/en/posts/33660/practical-help-for-lent-with-the-100th-issue-of-%25e2%2580%2598f</td><td><em>None</em></td><td>hieu</td></tr>\n",
       "<tr><td>www.cnimalta.org/011107.html</td><td>HTTP Error 404: Not Found</td><td>hieu, philipp</td></tr>\n",
       "<tr><td>https://trenboloneresults.com/disclosure-policy/</td><td><em>None</em></td><td>philipp</td></tr>\n",
       "<tr><td>http://mt.zgamz.com/play_6800.html</td><td>&lt;urlopen error [Errno 8] nodename nor servname provided, or not known&gt;</td><td>wide00006</td></tr>\n",
       "<tr><td>www.cnimalta.org/230708e.html</td><td>HTTP Error 404: Not Found</td><td>hieu</td></tr>\n",
       "<tr><td>http://www.parisdakar.it/en/2016/10/</td><td>meta\tname\ttranslation-stats</td><td>philipp</td></tr>\n",
       "<tr><td>http://m.mt.kejianinc.com/hot-selling/butyl-tape-for-metal-roofs.html</td><td>HTTP Error 403: Forbidden</td><td>philipp</td></tr>\n",
       "<tr><td>http://skolarbete.nu/en/skolarbeten/barn-i-krig/</td><td>HTTP Error 500: Internal Server Error</td><td>philipp</td></tr>\n",
       "<tr><td>http://crazyroids.com/legal-steroids-uk/</td><td><em>None</em></td><td>philipp</td></tr>\n",
       "<tr><td>www.gamegape.com/en-124-page-1.html</td><td>HTTP Error 404: Not Found</td><td>hieu</td></tr>\n",
       "<tr><td>vetxed.com/mt/e/eurican+herpes+205/4/</td><td>timed out</td><td>hieu</td></tr>\n",
       "<tr><td>https://2fish.co/tt/bible/epistles/romans/</td><td>meta\tname\ttranslation-stats</td><td>philipp</td></tr>\n",
       "<tr><td>http://transposh.org/version-0-9-7-0-fixes-and-features-all-around-and-superproxy-alpha/</td><td>meta\tname\ttranslation-stats</td><td>hieu, philipp</td></tr>\n",
       "<tr><td>http://forexindicatorsdownload.com/fx-smooth-forex-indicator/</td><td>&lt;urlopen error [Errno 8] nodename nor servname provided, or not known&gt;</td><td>philipp</td></tr>\n",
       "<tr><td>http://www.infinitecosmos.info/en/dark-light-sun/</td><td><em>None</em></td><td>philipp</td></tr>\n",
       "<tr><td>http://motordealing.com/selling/preparing-your-car-for-sale/?lang=mt</td><td>HTTP Error 500: Internal Server Error</td><td>wide00006</td></tr>\n",
       "<tr><td>http://yatraveller.com/mt/2009/03/09/o-materiale/</td><td>&lt;urlopen error [Errno 8] nodename nor servname provided, or not known&gt;</td><td>philipp</td></tr>\n",
       "<tr><td>http://skolarbete.nu/mt/skolarbeten/neil-armstrong/</td><td>HTTP Error 500: Internal Server Error</td><td>philipp</td></tr>\n",
       "<tr><td>http://www.sinemagnetic.com/magnetic-thumbtacks.html</td><td><em>None</em></td><td>philipp</td></tr>\n",
       "<tr><td>http://www.ecb.int/pub/pdf/other/gendoc201109en.pdf?ab5a5105beed48f2c4e61c96b96f1e07</td><td><em>None</em></td><td>wide00006-pdf</td></tr>\n",
       "<tr><td>http://ian-luke.com/?tag=london&amp;lang=mt</td><td>&lt;urlopen error [Errno 8] nodename nor servname provided, or not known&gt;</td><td>wide00015</td></tr>\n",
       "<tr><td>http://www.welcome-to-barcelona.com/2011/09/06/dali-museum-figueres/?gltr_lang=it</td><td>HTTP Error 404: Not Found</td><td>philipp</td></tr>\n",
       "<tr><td>ktieb.org.mt/category/malta-book-festival/</td><td>HTTP Error 503: Service Temporarily Unavailable</td><td>hieu</td></tr>\n",
       "<tr><td>http://m.mt.rejeedrilling.com/drilling-tools/bullet-teeth-holder-rock-drilling-tool.html</td><td>&lt;urlopen error [Errno 8] nodename nor servname provided, or not known&gt;</td><td>philipp</td></tr>\n",
       "<tr><td>https://2fish.co/mt/bible/old-testament/genesis/</td><td>meta\tname\ttranslation-stats</td><td>philipp</td></tr>\n",
       "<tr><td>https://mamaclub.info/en/kakoi-bydet-dlia-vas-eta-nadelia-goroskop-taro-30-sentiabria-6-oktiabria-dl</td><td>HTTP Error 403: Forbidden</td><td>philipp</td></tr>\n",
       "<tr><td>http://magickatips.com/mt/category/spells/</td><td>meta\tname\ttranslation-stats</td><td>wide00015</td></tr>\n",
       "<tr><td>https://trenboloneresults.com/mt/category/buy-trenbelone/feed/</td><td>HTTP Error 404: Not Found</td><td>hieu, philipp</td></tr>\n",
       "<tr><td>https://builttobrag.com/importance-of-words/?lang=mt</td><td>meta\tname\ttranslation-stats</td><td>philipp</td></tr>\n",
       "<tr><td>http://www.cnimalta.org/130907.html</td><td>HTTP Error 404: Not Found</td><td>hieu, philipp</td></tr>\n",
       "<tr><td>http://blog.robbiecooper.org/mt/2009/02/24/were-all-gonna-die-simon-h%c3%b8gsberg/</td><td><em>None</em></td><td>wide00006</td></tr>\n",
       "<tr><td>https://2fish.co/mt/bible/old-testament/numbers/</td><td>meta\tname\ttranslation-stats</td><td>philipp</td></tr>\n",
       "<tr><td>www.bridgat.com/mt/shop/dresses-for-women/</td><td>HTTP Error 403: Forbidden</td><td>hieu</td></tr>\n",
       "<tr><td>ukraine.admission.center/mt/universities/technical/kharkiv-national-municipal-academy/</td><td><em>None</em></td><td>hieu</td></tr>\n",
       "<tr><td>http://mt.woodenboxsupplier.com/cigar-humidor/high-glossy-walnut-metal-wooden-cigar-humidor.html</td><td>HTTP Error 403: Forbidden</td><td>philipp</td></tr>\n",
       "<tr><td>https://www.outlookimport.com/mt/faq/error-message-missing-or-damaged-components/</td><td>meta\tname\ttranslation-stats</td><td>philipp</td></tr>\n",
       "<tr><td>http://www.welcome-to-barcelona.com/mt/tag/catalan-culture/page/2/</td><td>HTTP Error 404: Not Found</td><td>philipp</td></tr>\n",
       "<tr><td>usa-casino-online.com/62-2/</td><td>HTTP Error 403: Forbidden</td><td>hieu</td></tr>\n",
       "<tr><td>http://www.forexratestoday.com/forexrates/2008/07/page/2/</td><td>HTTP Error 404: Not Found</td><td>wide00006</td></tr>\n",
       "<tr><td>http://m.meta-laser.com/laserglass/erbium-doped-phosphate-glasses-for-lamp-pump.html</td><td>HTTP Error 403: Forbidden</td><td>philipp</td></tr>\n",
       "<tr><td>www.federacionfotovasca.org/2012/01/?lang=mt</td><td>HTTP Error 404: Not Found</td><td>hieu, philipp</td></tr>\n",
       "<tr><td>www.gamegape.com/mt-282-page-1.html</td><td>HTTP Error 404: Not Found</td><td>hieu</td></tr>\n",
       "<tr><td>http://www.flyaga.info/mt/tag/xml-parsing-error/</td><td>HTTP Error 403: Forbidden</td><td>philipp</td></tr>\n",
       "<tr><td>www.worstanimereviews.com/mt/bleach-episode-282/</td><td><em>None</em></td><td>hieu</td></tr>\n",
       "<tr><td>http://europa.eu/youreurope/business/funding-grants/access-to-finance/</td><td>HTTP Error 404: Not Found</td><td>wide00015</td></tr>\n",
       "<tr><td>http://www.ema.europa.eu/docs/en_gb/document_library/epar_-_product_information/human/000332/wc50002</td><td><em>None</em></td><td>wide00006-pdf</td></tr>\n",
       "<tr><td>https://transposh.org/tag/flag-sprites/</td><td>meta\tname\ttranslation-stats</td><td>hieu, philipp</td></tr>\n",
       "<tr><td>http://www.gxaluminium.com/mt/</td><td>&lt;urlopen error timed out&gt;</td><td>philipp</td></tr>\n",
       "<tr><td>http://saveigoogle.org/how-to-1-add-igoogle-rss-feeds-to-netvibes-and-protopage/?shared=email%26msg=</td><td>HTTP Error 403: Forbidden</td><td>philipp</td></tr>\n",
       "<tr><td>http://www.federacionfotovasca.org/2006/08/?lang=en</td><td>HTTP Error 404: Not Found</td><td>hieu, philipp</td></tr>\n",
       "<tr><td>http://www.federacionfotovasca.org/entrevista-roger-donate-responsable-de-marketing-de-la-division-f</td><td>HTTP Error 404: Not Found</td><td>philipp</td></tr>\n",
       "<tr><td>https://mamaclub.info/en/pitanie-rebenka-12-mesyac/</td><td>HTTP Error 403: Forbidden</td><td>philipp</td></tr>\n",
       "<tr><td>http://trainadogtips.com/tag/online/</td><td>&lt;urlopen error [Errno 8] nodename nor servname provided, or not known&gt;</td><td>wide00006</td></tr>\n",
       "<tr><td>https://educationbro.com/mt/universities/russia/pavlov-first-saint-petersburg-state-medical-universi</td><td>meta\tname\ttranslation-stats</td><td>philipp</td></tr>\n",
       "<tr><td>http://cs.wondershare.com/0f/write-a-review-and-win-free-licence.html.tmp</td><td>HTTP Error 404: Not Found</td><td>philipp</td></tr>\n",
       "<tr><td>https://www.gfesport.com/mt/west-bromwich-albion-fc-football-tickets/</td><td>meta\tname\ttranslation-stats</td><td>hieu, philipp</td></tr>\n",
       "<tr><td>https://2fish.co/mt/bible/old-testament/genesis/</td><td>meta\tname\ttranslation-stats</td><td>philipp</td></tr>\n",
       "<tr><td>http://mt.summerlyquartzstone.com/info/the-difference-between-monochrome-quartz-stone-32369569.html</td><td>HTTP Error 403: Forbidden</td><td>philipp</td></tr>\n",
       "<tr><td>theyouthfa.org.mt/protest-board-decisions-22-02-2016/</td><td><em>None</em></td><td>hieu</td></tr>\n",
       "<tr><td>http://skolarbete.nu/mt/skolarbeten/alla-hjartans-dag/</td><td>HTTP Error 500: Internal Server Error</td><td>philipp</td></tr>\n",
       "<tr><td>https://www.bitbybitbook.com/mt/observing-behavior/designs/</td><td>link\trel\talternate machine-translated-from</td><td>hieu</td></tr>\n",
       "<tr><td>http://blog.robbiecooper.org/2008/11/21/new-york-times-immersion-photo-portfolio-video/</td><td><em>None</em></td><td>wide00006</td></tr>\n",
       "<tr><td>http://www.airmalta.com/flypass-mt-MT/about-flypass-mt-MT/faqs-mt-MT/claiming-awards-mt-MT</td><td>HTTP Error 403: Forbidden</td><td>philipp</td></tr>\n",
       "<tr><td>http://acelineentertainment.com/recipes/beef-fillet-with-garlic-mash-and-creamy-horseradish-spinach/</td><td>HTTP Error 404: Not Found</td><td>philipp</td></tr>\n",
       "<tr><td>http://en.fortrader.ru/mql/</td><td>&lt;urlopen error [Errno 8] nodename nor servname provided, or not known&gt;</td><td>wide00006</td></tr>\n",
       "<tr><td>http://www.ecogozo.com/index.php?option=com_content&amp;view=article&amp;id=77&amp;lang=en&amp;Itemid=0</td><td>HTTP Error 403: Forbidden</td><td>philipp</td></tr>\n",
       "<tr><td>https://www.outlookimport.com/mt/stackhash-error-happens-under-vista/</td><td>meta\tname\ttranslation-stats</td><td>philipp</td></tr>\n",
       "<tr><td>https://straightpoint.com/index.php?option=com_content&amp;view=article&amp;id=572%3Astraightpoint-membershi</td><td>a\tonclick\tdoGTranslate\\(\\&#x27;.{2}\\|.{2}\\&#x27;\\)</td><td>philipp</td></tr>\n",
       "<tr><td>http://8cosmos.com/mt/tag/%d0%ba%d0%be%d1%81%d0%bc%d0%be%d1%81/</td><td>HTTP Error 502: Bad Gateway</td><td>philipp</td></tr>\n",
       "<tr><td>http://www.federacionfotovasca.org/2006/07/?lang=en</td><td>HTTP Error 404: Not Found</td><td>hieu, philipp</td></tr>\n",
       "<tr><td>https://www.metric-conversions.org/mt/tul/snin-tad-dawl-ghal-parsecs.htm</td><td><em>None</em></td><td>hieu, philipp</td></tr>\n",
       "<tr><td>https://2fish.co/mt/bible/epistles/ephesians/</td><td>meta\tname\ttranslation-stats</td><td>philipp</td></tr>\n",
       "<tr><td>https://2fish.co/tt/bible/epistles/romans/</td><td>meta\tname\ttranslation-stats</td><td>philipp</td></tr>\n",
       "<tr><td>http://skolarbete.nu/mt/om/engelska/biologi-2/</td><td>HTTP Error 500: Internal Server Error</td><td>wide00006</td></tr>\n",
       "<tr><td>http://ggbkursus.dk/geogebra/nyheder/historisk-tilbageblik-pa-geogebra/?lang=en</td><td>meta\tname\ttranslation-stats</td><td>philipp</td></tr>\n",
       "<tr><td>vetxed.com/mt/e/equilis+west+nile/3/</td><td>timed out</td><td>hieu</td></tr>\n",
       "<tr><td>http://wingchunkuenphai.com/ru/mt/category/history/?gltr_redir=http%3A%2F%2Ftranslate.google.com%2Ft</td><td>&lt;urlopen error [Errno 8] nodename nor servname provided, or not known&gt;</td><td>philipp</td></tr>\n",
       "<tr><td>http://maltaproperty.blogspot.co.uk/2011_07_01_archive.html</td><td><em>None</em></td><td>wide00015</td></tr></tbody></table>"
      ],
      "text/plain": [
       "<notebook.table at 0x11c0e63a0>"
      ]
     },
     "execution_count": 35,
     "metadata": {},
     "output_type": "execute_result"
    }
   ],
   "source": [
    "table({\n",
    "    'url': (url or first(set.union(*(t['source-document'] for t in unit.translations.values()))))[:100],\n",
    "    'filter': hit,\n",
    "    'collections': ', '.join(unit['collection'])\n",
    "} for unit, hit, url in checked_units)"
   ]
  },
  {
   "cell_type": "code",
   "execution_count": 26,
   "metadata": {},
   "outputs": [],
   "source": [
    "def count(iterable):\n",
    "    return sum(1 for _ in iterable)"
   ]
  },
  {
   "cell_type": "markdown",
   "metadata": {},
   "source": [
    "Number of units that were accessible but did trigger an MT detection rule"
   ]
  },
  {
   "cell_type": "code",
   "execution_count": 27,
   "metadata": {},
   "outputs": [
    {
     "data": {
      "text/plain": [
       "22"
      ]
     },
     "execution_count": 27,
     "metadata": {},
     "output_type": "execute_result"
    }
   ],
   "source": [
    "count(unit for unit, hit, url in checked_units if url is not None)"
   ]
  },
  {
   "cell_type": "markdown",
   "metadata": {},
   "source": [
    "Number of units that were accessible and did not trigger the MT system"
   ]
  },
  {
   "cell_type": "code",
   "execution_count": 28,
   "metadata": {},
   "outputs": [
    {
     "data": {
      "text/plain": [
       "20"
      ]
     },
     "execution_count": 28,
     "metadata": {},
     "output_type": "execute_result"
    }
   ],
   "source": [
    "count(unit for unit, hit, url in checked_units if url is None and hit is None)"
   ]
  },
  {
   "cell_type": "markdown",
   "metadata": {},
   "source": [
    "Number of units that were no longer accessible on any of its associated source documents"
   ]
  },
  {
   "cell_type": "code",
   "execution_count": 29,
   "metadata": {},
   "outputs": [
    {
     "data": {
      "text/plain": [
       "58"
      ]
     },
     "execution_count": 29,
     "metadata": {},
     "output_type": "execute_result"
    }
   ],
   "source": [
    "count(unit for unit, hit, url in checked_units if url is None and hit is not None)"
   ]
  },
  {
   "cell_type": "code",
   "execution_count": 34,
   "metadata": {},
   "outputs": [
    {
     "data": {
      "text/html": [
       "<table><thead></thead><tbody><tr><td>HTTP Error 404: Not Found</td><td>18</td></tr>\n",
       "<tr><td>HTTP Error 403: Forbidden</td><td>15</td></tr>\n",
       "<tr><td>&lt;urlopen error [Errno 8] nodename nor servname provided, or not known&gt;</td><td>9</td></tr>\n",
       "<tr><td>HTTP Error 500: Internal Server Error</td><td>8</td></tr>\n",
       "<tr><td>HTTP Error 503: Service Temporarily Unavailable</td><td>3</td></tr>\n",
       "<tr><td>timed out</td><td>3</td></tr>\n",
       "<tr><td>&lt;urlopen error timed out&gt;</td><td>1</td></tr>\n",
       "<tr><td>HTTP Error 502: Bad Gateway</td><td>1</td></tr></tbody></table>"
      ],
      "text/plain": [
       "<notebook.table at 0x11a6f6d90>"
      ]
     },
     "execution_count": 34,
     "metadata": {},
     "output_type": "execute_result"
    }
   ],
   "source": [
    "table(Counter(hit for _, hit, url in checked_units if url is None and hit is not None).most_common())"
   ]
  },
  {
   "cell_type": "markdown",
   "metadata": {},
   "source": [
    "# Shard ids for each unit\n",
    "Just to make sure, we're not seeing anything odd in terms of units that matched across shards, right?\n",
    "\n",
    "Note that we deduplicated sentence pairs. So each sentence pair can have multiple shard ids. However, the shard ids on both sides of the sentence pair should be exactly equal. We can check for that.\n",
    "\n",
    "Below, `slug` and `shard_id` are Python implementations of these functions in giashard."
   ]
  },
  {
   "cell_type": "code",
   "execution_count": 36,
   "metadata": {},
   "outputs": [],
   "source": [
    "from publicsuffixlist import PublicSuffixList\n",
    "from urllib.parse import urlparse\n",
    "import fnv\n",
    "import re\n",
    "\n",
    "psl = PublicSuffixList()\n",
    "\n",
    "def urls(unit):\n",
    "    return [url for tu in unit.translations.values() for url in tu['source-document']]\n",
    "\n",
    "def slug(key):\n",
    "    \"\"\"https://github.com/paracrawl/giashard/blob/master/shard.go#L88\"\"\"\n",
    "    url = urlparse(key)\n",
    "    if url.netloc:\n",
    "        host = re.sub(r':\\d+$', '', url.netloc)\n",
    "    else:\n",
    "        match = re.match(r'^([a-zA-Z0-9][a-zA-Z0-9\\-.]*[a-zA-Z0-9]).*', key)\n",
    "        if not match:\n",
    "            raise ValueError(f'Unable to determine host using regexp from {key}')\n",
    "        host = match.group(1)\n",
    "    \n",
    "    public = psl.publicsuffix(host)\n",
    "    private = psl.privatesuffix(host)\n",
    "    \n",
    "    \n",
    "    if not public or not private:\n",
    "        match = re.match('^([^/]+).*', host)\n",
    "        if not match or len(match.group(1)) == 0:\n",
    "            raise ValueError(f'Unable to determine slug by parsing {host} from {key}')\n",
    "        slug = match.group(1)\n",
    "    else:\n",
    "        slug = re.sub('\\.?' + re.escape(public) + '$', '', private)\n",
    "    \n",
    "    if not slug:\n",
    "        raise ValueError(f'Unable to determine slug from {key}')\n",
    "    \n",
    "    return slug\n",
    "\n",
    "def shard_id(key, n=8):\n",
    "    \"\"\"https://github.com/paracrawl/giashard/blob/master/shard.go#L120\"\"\"\n",
    "    return fnv.hash(slug(key).encode(), algorithm=fnv.fnv, bits=64) % (1 << n)"
   ]
  },
  {
   "cell_type": "markdown",
   "metadata": {},
   "source": [
    "# Focus: wide00006 data\n",
    "I'm focussing on wide6 here. For the large number of missing sentence pairs from Philipp, I expect this can be linked to merging old releases into the current release up to 7.1. I also expect some of Hieu's data to have it made into Philipp's data since it has been around for a while. wide6, as far as I can tell, has only been processed by Edinburgh."
   ]
  },
  {
   "cell_type": "code",
   "execution_count": 37,
   "metadata": {},
   "outputs": [
    {
     "data": {
      "application/vnd.jupyter.widget-view+json": {
       "model_id": "79af096813fa49d094d846a6884e7748",
       "version_major": 2,
       "version_minor": 0
      },
      "text/plain": [
       "en-mt.tmx.gz:   0%|          | 0.00/197M [00:00<?, ?b/s]"
      ]
     },
     "metadata": {},
     "output_type": "display_data"
    }
   ],
   "source": [
    "units = [unit for unit in read(files['paracrawl-7.1']) if unit['collection'] == set(['wide00006'])]"
   ]
  },
  {
   "cell_type": "code",
   "execution_count": 38,
   "metadata": {},
   "outputs": [
    {
     "data": {
      "text/plain": [
       "58266"
      ]
     },
     "execution_count": 38,
     "metadata": {},
     "output_type": "execute_result"
    }
   ],
   "source": [
    "len(units)"
   ]
  },
  {
   "cell_type": "markdown",
   "metadata": {},
   "source": [
    "Anything weird going on with the data? The shard ids on both sides of the sentence pairs should be the same because we're not matching across shards. (However, we deduplicate, so we could have merged two sentence pairs that came from separate shards.)"
   ]
  },
  {
   "cell_type": "code",
   "execution_count": 39,
   "metadata": {},
   "outputs": [
    {
     "data": {
      "text/plain": [
       "[]"
      ]
     },
     "execution_count": 39,
     "metadata": {},
     "output_type": "execute_result"
    }
   ],
   "source": [
    "weird = [\n",
    "    unit\n",
    "    for unit in units #read(files['paracrawl-7.1'])\n",
    "    if len(\n",
    "        frozenset(shard_id(url, 8) for url in unit.translations['en']['source-document']) ^\n",
    "        frozenset(shard_id(url, 8) for url in unit.translations['en']['source-document'])\n",
    "    ) != 0\n",
    "]\n",
    "\n",
    "weird"
   ]
  },
  {
   "cell_type": "code",
   "execution_count": 40,
   "metadata": {},
   "outputs": [],
   "source": [
    "inside = RandomSample(100)\n",
    "outside = RandomSample(100)\n",
    "\n",
    "for unit in units:\n",
    "    if checksum(unit) in hashes['paracrawl-8']:\n",
    "        inside.add(unit)\n",
    "    else:\n",
    "        outside.add(unit)"
   ]
  },
  {
   "cell_type": "code",
   "execution_count": 41,
   "metadata": {},
   "outputs": [
    {
     "data": {
      "text/plain": [
       "(4553, 53713)"
      ]
     },
     "execution_count": 41,
     "metadata": {},
     "output_type": "execute_result"
    }
   ],
   "source": [
    "inside.n, outside.n"
   ]
  },
  {
   "cell_type": "code",
   "execution_count": 42,
   "metadata": {
    "tags": []
   },
   "outputs": [
    {
     "data": {
      "text/html": [
       "<table><thead><tr><th>en</th><th>mt</th></tr></thead><tbody><tr><td>This will give me some extra time to weed out the ones who are real and really want to be here.</td><td>Dan se jagħti me xi żmien addizzjonali biex weed dawk li huma reali u verament irridu li jkun hawn.</td></tr>\n",
       "<tr><td>Direction - the direction of the emboss effect from 0 degree to 360 degree.</td><td>Direzzjoni - id-direzzjoni ta &#x27;l-emboss effett minn 0 sa 360 grad grad.</td></tr>\n",
       "<tr><td>You cannot generate a million dollars overnight in internet marketing Serious income in Internet marketing takes a while.</td><td>Inti ma tistax tiġġenera miljun dollaru matul il-lejl fl-internet marketing Dħul serji fil-Internet marketing jieħu waqt.</td></tr>\n",
       "<tr><td>Answer: No rush to upgrade. (wait until you have had 4 tripler positions for nearly 75 days) You can use your earnings to upgrade when the time comes.)</td><td>(Stenna sakemm inti kellek 4 pożizzjonijiet tripler għal kważi 75-il ġurnata) Tista &#x27;tuża l-qligħ tiegħek li jaġġornaw meta jasal iż-żmien.)</td></tr>\n",
       "<tr><td>Play Ben 10: The alien DNA combiner</td><td>10 ben seħħ aljen: runner &#x27;l-univers</td></tr>\n",
       "<tr><td>The array of locally owned island shops and dining establishments offer warm hospitality and friendly service, with an atmosphere unlike any other town on the island.</td><td>Il-firxa ta &#x27;ħwienet tal-gżejjer proprjetà lokali u stabbilimenti dining joffru ospitalità sħun u favur servizz, ma atmosfera differenti minn kwalunkwe belt oħra fuq il-gżira.</td></tr>\n",
       "<tr><td>About MLM, Announcement, Business-Building, Duplicating, Free Stuff, Heavy Hitter, Home Based Business, Home Business, Industry Experts, Leaders, Leadership, MLM, MLM Education, MLM Training, Million-Dollar Income Earner, Network Marketing, Network Marketing Trainer, Personal Growth, Professional Development, Prospecting, Recruiting, Relationship, Relationshipping, Skills, Success, The Greatest Networkers in the World »</td><td>Dwar MLM, Tħabbir, Negozju Bini, jidduplikaw, Free imbarazz, Hitter tqal, Home Based Business, Home Business, Esperti Industrija, Mexxejja, Leadership, MLM, MLM Edukazzjoni, MLM Taħriġ, earner Dħul Million Dollar-, Network Marketing, Network Marketing Trainer, Personali Tkabbir, Żvilupp Professjonali, Tfittix, Reklutaġġ, Relazzjoni, Relationshipping, Ħiliet, Success, Il-Networkers Greatest fid-Dinja »</td></tr>\n",
       "<tr><td>I hope you can try mix it (berry and lemon) and hopefully it will become sweet .</td><td>Nispera li inti tista &#x27;tipprova tħalltu (berry u lumi) u wieħed jittama li se jsiru ħelu.</td></tr>\n",
       "<tr><td>Guests can have a different experience with each visit, and I think that&#x27;s one of the real keys to our success.&quot;</td><td>Mistednin jista &#x27;jkollhom esperjenza differenti ma&#x27; kull żjara, u naħseb li wieħed mill-imfietaħ reali għas-suċċess tagħna. &quot;</td></tr>\n",
       "<tr><td>I am working here in Dubai UAE.</td><td>I am xogħol hawnhekk fil Dubai UAE.</td></tr>\n",
       "<tr><td>The limit on your card helps protect you from overspending.</td><td>Il-limitu fuq il-karta tiegħek tgħin tipproteġik minn infiq żejjed.</td></tr>\n",
       "<tr><td>But you had to adjust a bit.</td><td>Imma inti kellha taġġusta ftit.</td></tr>\n",
       "<tr><td>Banned Books Week 2007</td><td>Kotba projbiti Ġimgħa 2007</td></tr>\n",
       "<tr><td>Simon agreed then said that it was like swimming in Jell-O, that it was over the top, and that everything was old-fashioned.</td><td>Simon qablu allura qal li kien simili swimming fil Jell-O, li kien matul il-quċċata, u li kollox kien &#x27;dari.</td></tr>\n",
       "<tr><td>This is what it must feel like to be an astronaut traveling to Mars.</td><td>Dan huwa dak li għandu jħossu simili li tkun astronawti jivvjaġġaw lejn Mars.</td></tr>\n",
       "<tr><td>When an alcoholic dies of cirrhosis&#x27;s of the liver, a lifetime smoker dies of lung cancer, or a family living downwind of a coal power plant dies from pollution exposure, &quot;natural causes&quot; seems inadequate, vague, and outright lazy.</td><td>Meta persuna imut alkoħoliku ta &#x27;ċirrożi Huwa tal-fwied, tpejjep ħajja imut ta&#x27; kanċer tal-pulmun, jew l-għixien tal-familja riħ ta &#x27;impjant tal-faħam imut minn espożizzjoni tniġġis, &quot;kawżi naturali&#x27; mhijiex adattata, vagi, u outright għażżien.</td></tr>\n",
       "<tr><td>The Greatest Networker in the World – Chapter 5: A Goal Bigger Than Winning</td><td>Il-Networker Greatest fid-Dinja - Kapitolu 5: Goal Akbar Than Nirbħu</td></tr>\n",
       "<tr><td>The film also features that scene, along with a three way with Axl, Dallas and Thomas (another scene with Axl, yeehaw!)</td><td>Il-film wkoll karatteristiċi li xena, flimkien ma &#x27;tliet mod ma Axl, Dallas u Thomas (ieħor xena Axl, yeehaw!)</td></tr>\n",
       "<tr><td>Did you do that by yourself?</td><td>Ridt tagħmel dan billi yourself?</td></tr>\n",
       "<tr><td>What follows is a piece John Fogg couldn&#x27;t include in his upcoming (July 2011) book, The Greatest Networkers in the World — 21 ordinary people who became millionaires in Network Marketing and the true stories of how they did it.</td><td>Dan li ġej huwa biċċa John Fogg ma setgħux jinkludu li jmiss tiegħu (Lulju 2011) ktieb, Il-Networkers Greatest fid-Dinja - 21 nies ordinarji li saru millionaires fl-Network Marketing u l-istejjer vera ta &#x27;kif huma għamlu dan.</td></tr>\n",
       "<tr><td>Exchange rate: reversal has already occurred 04 / 9 0 12: 41</td><td>Rata tal-kambju: treġġigħ lura diġà seħħet 04 / 9 0 12: 41</td></tr>\n",
       "<tr><td>Supports overall wellbeing and vitality</td><td>Jappoġġja l-benessri ġenerali u l-vitalità</td></tr>\n",
       "<tr><td>An additional gray zone in this debate is in the area of toleration and validation.</td><td>Żona griża addizzjonali f&#x27;dan id-dibattitu huwa fil-qasam tal tolleranza u l-validazzjoni.</td></tr>\n",
       "<tr><td>Tagged as: after effects, download After Effects, free plugin, MAC, PC No Comments</td><td>Tagged bħala: wara effetti, download Wara Effetti, plugin ħielsa, MAC, PC Nru Kummenti</td></tr>\n",
       "<tr><td>Converter British Pound sterling East Caribbean Dollar KingConv.com</td><td>Konvertitur Sterlina Ingliża Lira Lvant tal-Karibew Dollar KingConv.com</td></tr>\n",
       "<tr><td>This publication will also bring citizenry into the process, where they can learn how it opperates and perhaps adopt portions of it into their organization&#x27;s own standard operating procedures.</td><td>Din il-pubblikazzjoni se jġibu wkoll citizenry fil-proċess, fejn jistgħu jitgħallmu kif opperates u forsi jadottaw porzjonijiet ta &#x27;dan fil-organizzazzjoni tagħhom proċeduri operattivi standard.</td></tr>\n",
       "<tr><td>Karayiannas Developers in Cyprus Karayiannas Cyprus Property Developments</td><td>Karayiannas Developers f&#x27;Ċipru Proprjetà Karayiannas Żviluppi Ċipru</td></tr>\n",
       "<tr><td>When we talk about atomic orbitals, we intuitively think of electrons orbiting a nucleus in a manner similar to planets orbiting the sun, like this:</td><td>Meta nitkellmu dwar orbitals atomika, aħna intuwittivament taħseb elettroni orbiting nukleu b&#x27;mod simili għall pjaneti orbiting-xemx, bħal din:</td></tr>\n",
       "<tr><td>Why not use these emails to market the senders...</td><td>Għaliex ma jużawx dawn l-emails li jbiegħ il-mittenti...</td></tr>\n",
       "<tr><td>Tinnitus, pronounced &quot;tin-night-us,&quot; which is Latin for &quot;ringing&quot; is just that – a ringing in the ear(s) that only the tinnitus sufferer can hear.</td><td>Tinnitus, ppronunzjata &quot;-Landa bil-lejl us,&quot; li huwa Latin għal &quot;tisfir&quot; huwa biss li – a tisfir fil-widnejn(ma) li huma biss l-batut tinnitus jista &#x27;jisma&#x27;.</td></tr>\n",
       "<tr><td>Basically cons not advise it.&quot;</td><td>Bażikament cons ma tagħtiha parir.&quot;</td></tr>\n",
       "<tr><td>Free Spanish lesson: La familia | Vocabulary lesson Lingo Hut home search</td><td>lezzjoni Ingliż ħielsa: Tfittex għal bejgħ | Vokabolarju Lingo Hut home tfittxija</td></tr>\n",
       "<tr><td>Many types of risotto contain Parmesan cheese, butter, and onion.</td><td>Ħafna tipi ta &#x27;risotto fihom ġobon Parmesan, butir, u basal.</td></tr>\n",
       "<tr><td>How to make a good impression on a first date How to avoid the kiss at the end of dating How to organize a great cheap date How to be nicer How to deal with partners semen allergy How to win friends How to deal with painful memories How to prepare a picnic How to be environmentally friendly How did the boy know that you like How to talk about sex with her boyfriend How to recognize that the boy is interested in you How lucky woman How to seduce a man The men pay attention?</td><td>Kif tagħmel impressjoni tajba fuq lewwel data Kif biex jiġi evitat lbewsa flaħħar ta dating Kif torganizza data irħis kbira Kif tkun nicer Kif biex jittrattaw allerġija semen imsieħeb Kif tirbaħ ħbieb Kif biex jittrattaw memorji koroh Kif tipprepara Picnic Kif tkun favur lambjent Kif għamlet ilboy jaf li inti simili Kif biex jitkellmu dwar issess malgħarus tagħha Kif jirrikonoxxu li lboy hu interessat fil inti Kif mara xxurtjati Kif biex seduce raġel Lirġiel jagħtu attenzjoni? Kif tkun waħda romantic Kif Kompliment tifla Liema tfajla ma xi ħaġa biex jitkellmu dwar ma tfajla?</td></tr>\n",
       "<tr><td>The good news, however, is that more insurance companies are covering these therapies because of their preventative properties.</td><td>L-aħbar tajba, madankollu, huwa li l-kumpaniji ta &#x27;assigurazzjoni aktar huma jkopru dawn it-terapiji minħabba l-proprjetajiet preventivi tagħhom.</td></tr>\n",
       "<tr><td>The adventurers in The Core traveled to the very center of the Earth, fighting technological, natural, and human hazards all the way down and all the way back up to the Earth&#x27;s crust again.</td><td>Konvulżjonijiet Big Il adventurers fil-Core vvjaġġaw saċ-ċentru ħafna tal-pjaneta, nar perikli teknoloġiċi, naturali u umani it-triq kollha u l-mod lura sa qoxra tad-Dinja mill-ġdid.</td></tr>\n",
       "<tr><td>Peters&#x27;s latest book is The Little Big Things, released in March 2010.</td><td>Aħħar ktieb Peters huwa Il-Things Big Little, rilaxxati f&#x27;Marzu 2010.</td></tr>\n",
       "<tr><td>Ok it&#x27;s far better than no bid and I wait for further bids, there is no further bids either by same bidder or new bidders on my listing I ended up with single bid of $5 with no sales.</td><td>Ok huwa ferm aħjar minn ebda offerta u I stenna għal offerti ulterjuri, m&#x27;hemm l-ebda offerti oħra jew permezz offerent istess jew offerenti ġodda dwar l-elenkar tiegħi I spiċċaw bi offerta waħda ta &#x27;$ 5 bl-ebda bejgħ.</td></tr>\n",
       "<tr><td>Inflation in Russia will be higher than expected - about 7,4-7,5% 29 / 10 0 15: 13</td><td>L-inflazzjoni fir-Russja se tkun ogħla milli kien mistenni - madwar 7,4-7,5% 29 / 10? 15: 13</td></tr>\n",
       "<tr><td>Just as Earth&#x27;s early seafarers used the stars to navigate the oceans, spacecraft use stars to maintain their bearings in space.</td><td>Hekk kif Baħħara kmieni tad-Dinja Użati-istilel biex jinnaviga l-oċeani, l-użu spazjali istilel li Żomm berings tagħhom fl-ispazju.</td></tr>\n",
       "<tr><td>It&#x27;s a scientific tool that gives me a clearer understanding of how my actions affect the burden I place on the Earth, and the burden I place on my pocketbook when the power bill arrives.</td><td>Huwa għodda xjentifika li tagħti me fehim aktar ċar ta &#x27;kif l-azzjonijiet tiegħi jaffettwaw il-piż I post fuq id-Dinja, u l-piż I-post fuq pocketbook tiegħi meta l-bill-qawwa tasal.</td></tr>\n",
       "<tr><td>If your blog is getting good visitors by referral sites and direct visits and not performed well for search engines, even if you write good content getting aÂ massive list ofÂ readers comment.</td><td>Jekk blog tiegħek huwa jkollna viżitaturi tajba mill portali ta &#x27;riferiment u ż-żjarat diretti u mhux marru tajjeb għall-magni tat-tiftix, anki jekk inti tikteb kontenut tajba jkollna lista massiv ta&#x27; qarrejja kumment.</td></tr>\n",
       "<tr><td>Subject: English, Other This is a letter from the year 2023 asking you for help!</td><td>Suġġett: Ingliż, Other Din hija ittra mis-sena 2023 li titlob għal inti tgħin!</td></tr>\n",
       "<tr><td>Just recently Anna University has declared the UG grade system examination results, the examination of which was held in May/June 2012.</td><td>Kien biss reċentement Anna Università tkun iddikjarat ir-riżultati ta &#x27;grad UG eżami tas-sistema, l-eżami ta &#x27;liema kienet saret f&#x27;Mejju / Ġunju 2012.</td></tr>\n",
       "<tr><td>What Is The Top 5 Causes Of Internal Skin Dryness Peoples Don&#x27;t Know?</td><td>X&#x27;inhi d-Top 5 Causes Of Popli Intern nixfa fil-ġilda Ma nafx?</td></tr>\n",
       "<tr><td>Carte Best Kept Secrets of Peer Code Review</td><td>Carte Aqwa Miżmuma Sigrieti ta &#x27;Reviżjoni Inter Pares Kodiċi</td></tr>\n",
       "<tr><td>Wake up and say, &quot;Whoa, what a trip!&quot;</td><td>Wake up u jgħidu, &quot;Whoa, liema vjaġġ!&quot;</td></tr>\n",
       "<tr><td>The constant insomnia is not healthy!</td><td>Il-nuqqas ta &#x27;rqad kostanti ma jkunx b&#x27;saħħtu!</td></tr>\n",
       "<tr><td>While I normally only attend the World Travel Market for one day, I&#x27;m seriously thinking of extending this to two days next year to take advantage of all that&#x27;s on offer and make even more contacts.</td><td>Filwaqt I normalment biss jattendu l-Suq World Travel għal jum wieħed, jien serjament ħsieb li testendi din għal jumejn sena d-dieħla biex jieħdu vantaġġ ta &#x27;kulħadd li fuq offerta u jagħmlu kuntatti saħansitra aktar.</td></tr>\n",
       "<tr><td>This Magento extension appends Store View Price scope in addition to Website and Global .</td><td>Din l-estensjoni Magento tannetti Aħżen View Prezz ambitu minbarra Website u Globali.</td></tr>\n",
       "<tr><td>Play this game to be the best player!</td><td>Play din il-logħba l- aħjar player! Ħafna lagħbu logħob</td></tr>\n",
       "<tr><td>Not sure about how a 43 seater would cope with this, but it sounded like fun!</td><td>Mhux ċert dwar kif sedili 43 se tlaħħaq ma &#x27;dan, iżda tinstema bħal gost!</td></tr>\n",
       "<tr><td>running accessories Discounts, Coupons, Promo Codes, Coupon Codes</td><td>triathlon accessories Discounts, Kupuni, Kodiċijiet promo, Kupun Kodiċi</td></tr>\n",
       "<tr><td>Suddenly i was crossing sims as mad, without crashes, and start to enjoy some of the features that makes travel without tlp an amzing experience!</td><td>F&#x27;daqqa waħda kien i qsim Sims bħala ġenn, mingħajr ħabtiet, u jibdew jgawdu uħud mill-karatteristiċi li jagħmel l-ivvjaġġar mingħajr tlp esperjenza amzing!</td></tr>\n",
       "<tr><td>It is one of the most respected software foundations in the world.</td><td>Huwa wieħed mill-pedamenti tas-softwer aktar rispettati fid-dinja.</td></tr>\n",
       "<tr><td>August 1, 2012 7:57 pm,347 Views Click the button to save the coupon code to your clipboard.</td><td>August 1, 2012 7:57 pm,405 Views Ikklikkja l-buttuna biex isalva l-kodiċi tal-kupun lill clipboard tiegħek.</td></tr>\n",
       "<tr><td>Recommendations, guidelines, and caveats appear throughout the book</td><td>Rakkomandazzjonijiet, linji gwida u twissijiet jidhru matul il-ktieb</td></tr>\n",
       "<tr><td>And no worries on the mention.</td><td>U l-ebda inkwiet fuq l-aċċenn.</td></tr>\n",
       "<tr><td>To provide Visitors and Members some of these products and services, the partner may need to collect and maintain personal information.</td><td>Biex jipprovdu Viżitaturi u l-Membri xi ta &#x27;dawn il-prodotti u s-servizzi, l-imsieħeb jista&#x27; jeħtieġ li jiġbru u jżommu informazzjoni personali.</td></tr>\n",
       "<tr><td>Only 3 Factors Play Part In Shaping Your Web Content For Suc...</td><td>Biss 3 Fatturi Play Parti Fl Formazzjoni kontenut Web Your Għall rnexx...</td></tr>\n",
       "<tr><td>nahuatl languages - wares</td><td>wares - Maltais</td></tr>\n",
       "<tr><td>Send a monetary donation to Port Discover.</td><td>Ibgħat donazzjoni monetarja għall-Port Discover.</td></tr>\n",
       "<tr><td>2:1-2a (HSCB) It&#x27;s not just about celebrating our country.</td><td>02:01-2a (HSCB) Huwa mhux biss dwar jiċċelebraw pajjiż tagħna.</td></tr>\n",
       "<tr><td>We post articles on the sites which is good in linking and ranking profile</td><td>Aħna post artikoli fuq is-siti li hija tajba fl-irbit u l-klassifikazzjoni profil</td></tr>\n",
       "<tr><td>What&#x27;s your excuse? &quot;God&#x27;s mysterious plan&quot;???</td><td>X&#x27;hemm skuża tiegħek? &quot;Pjan misterjuża ta &#x27;Alla&quot;?</td></tr>\n",
       "<tr><td>Even if you feel skeptical about this, just give it a try.</td><td>Anke jekk tħossok skeptical dwar dan, biss jipprova hu.</td></tr>\n",
       "<tr><td>It is actually the best of the best smartphones today..</td><td>Huwa fil-fatt l-aħjar ta &#x27;l-smartphones aħjar illum ..</td></tr>\n",
       "<tr><td>It keeps the home comfortable, even when the weather outside is extreme.</td><td>Hija żżomm l-dar komda, anki meta l-temp barra hija estrema.</td></tr>\n",
       "<tr><td>lucrative foreign exchange trader.</td><td>qligħ kummerċjant barrani kambju.</td></tr>\n",
       "<tr><td>It can have been a mother, child, friend, a great love; it doesn&#x27;t matter really because all these people in one&#x27;s life mean a lot.</td><td>Huwa kanċer havebeen omm, tifel, ħabib, imħabba kbira, huwa verament ma jimpurtax Minħabba dawn in-nies fil-ħajja wieħed tfisser ħafna.</td></tr>\n",
       "<tr><td>How to deal with men How and when to recognize the love How to create an attractive profile for a dating site How to recognize the love? In a toast at a wedding How to break up with her boyfriend, so it does not hurt fertile days you need to know How to choose and buy a wedding dress How to make a long distance relationship How to keep longer during sex How to increase libido in women How to Get a Boyfriend How to pick a boyfriend How it should look like a blessing?</td><td>Kif biex jittrattaw lirġiel Kif u meta għandu jirrikonoxxi limħabba Kif toħloq profil attraenti għal dating site Kif biex jirrikonoxxu limħabba Fil toast fi tieġ Kif ikissru ma għarus tagħha, u għalhekk ma iweġġgħu ġranet fertili għandek bżonn tkun taf Kif li jagħżlu u jixtru libsa tieġ Kif tagħmel relazzjoni distanza twila Kif biex iżommu itwal matul sess Kif żieda fillibido finnisa Kif Get a għarus Kif pick għarus Kif għandu dehra ta barka Kif li jagħżlu engagement ring Kif parti malklassi Kif biex iżommu lomm filliġi taħt saqaf wieħed Kif biex jirrikonoxxu li tifel bħali?</td></tr>\n",
       "<tr><td>Helps improve sleep quality and memory</td><td>Jgħin itejbu l-kwalità irqad u l-memorja</td></tr>\n",
       "<tr><td>← FOR IMMEDIATE RELEASEBESTDirect Traders Challenge For Futures And Forex Traders Begins Monday, August 4: Forex Investment</td><td>← GĦAL IMMEDJAT RELEASEBESTDirect Kummerċjanti Isfida Għal Futures U Kummerċjanti Forex Jibda it-Tnejn Awissu 4: Investiment Forex</td></tr>\n",
       "<tr><td>The most popular type of blogging among mothers are ones that offer advice, product reviews and tips (76% of mom bloggers say they partake in this type of blogging).</td><td>L-aktar tip popolari ta &#x27;blogging fost l-ommijiet huma dawk li joffru pariri, reviżjonijiet tal-prodott u tips (76% tal-bloggers mom jgħidu li jkollhom sehem f&#x27;dan it-tip ta&#x27; blogging).</td></tr>\n",
       "<tr><td>The rumors that are circulating on the Web in tech blogs and websites for last one month or two for iPad 3 may not be all correct, even though websites and blogs are publishing it based on the leaked reports from supply chain of Apple.</td><td>The rumors that are circulating on the Web in tech blogs and websites for last one month or two for iPad 3 jistgħu ma jkunux kollha korretta, anki jekk websajts u blogs qed tippublika hija bbażata fuq ir-rapporti nixxew mit katina tal-provvista ta &#x27;Apple.</td></tr>\n",
       "<tr><td>Build Chest Muscles In 4 Simple Steps</td><td>Build Muskoli Chest Fil Passi 4 sempliċi</td></tr>\n",
       "<tr><td>Do the feedback survey to help John improve the course for future students</td><td>Jagħmlu l-istħarriġ feedback biex tgħin John titjieb il-kors għall-istudenti futuri</td></tr>\n",
       "<tr><td>SafariScratch – Scratch Cards and Casino Games with 5$ No Deposit!</td><td>Logħob Karti Scratch u Casino bi 5 $ Nru Depożitu - SafariScratch!</td></tr>\n",
       "<tr><td>Culinary School Directory</td><td>Rank kulinari School</td></tr>\n",
       "<tr><td>- after 31 December 1974 and before 1 January 1978 for Belgium, Denmark, Germany, France, Ireland, Italy, Luxembourg, the Netherlands and the United Kingdom,</td><td>- wara l-31 ta&#x27; Diċembru 1974 u qabel l-1 ta&#x27; Jannar 1978 għall-Belġju, għad-Danimarka, għall-Ġermanja, għal Franza, għall-Irlanda, għall-Italja, għal-Lussemburgu, għall-Olanda u għar-Renju Unit,</td></tr>\n",
       "<tr><td>1) Online business models you can start immediately with no experience and zero capital.</td><td>1) mudelli ta &#x27;negozju Online inti tista&#x27; tibda immedjatament bl-ebda esperjenza u żero kapital.</td></tr>\n",
       "<tr><td>The Supreme Court justices ruled 7-2 against the ban, citing free speech concerns.</td><td>Il-imħallfin tal-Qorti Suprema ddeċidiet kontra l-projbizzjoni 7-2, li jiċċita tħassib diskors ħielsa.</td></tr>\n",
       "<tr><td>I had asked Ruf how he felt about it being the second anniversary of the day we first made love and his reply certainly brought me up short:</td><td>I kien talab Ruf kif hu ħass dwar dan huwa l-tieni anniversarju tal-ġurnata aħna ewwel sar-imħabba u t-tweġiba tiegħu ċertament miġjuba me up qasir:</td></tr>\n",
       "<tr><td>Advent Orgasms So I don&#x27;t have an advent calendar this year but it doesn&#x27;t mean that I cannot have a nice experience every morning in December and I have been indulging in a daily Advent Orgasm.</td><td>Avvent Orgasms So I m&#x27;għandhomx kalendarju miġja din is-sena, iżda dan ma jfissirx li ma nistax jkollhom esperjenza sabiħa kull filgħodu f&#x27;Diċembru u I ġew indulging fil-orga Avvent kuljum.</td></tr>\n",
       "<tr><td>golden age comic book stories</td><td>stejjer deheb età comic book</td></tr>\n",
       "<tr><td>Recent blog posts</td><td>Postijiet riċenti blog</td></tr>\n",
       "<tr><td>This group of galaxies are slowly tearing each other apart, throwing stars out into the cosmos as they dance around one another.</td><td>Dan il-grupp ta &#x27;galaxies huma bil-mod dmugħ xulxin apparti, Stilel tat-tfigħ barra fil-Cosmos kif żfin madwar xulxin.</td></tr>\n",
       "<tr><td>&quot;It will finish tonight, and tomorrow we&#x27;ll run through the whole thing again.</td><td>&quot;Din se jintemm tonight, u għada aħna ser jgħaddi mill-ħaġa sħiħa mill-ġdid.</td></tr>\n",
       "<tr><td>Ask yourself isn&#x27;t it really important to trust someone before you hand over your hard earned money?</td><td>Staqsi lilek innifsek hux verament importanti għall-fiduċja xi ħadd qabel ma jgħaddi l-flus tiegħek hard qalgħu?</td></tr>\n",
       "<tr><td>I sit down at my laptop computer and begin planning for the next worship experience at Church Requel.</td><td>I joqogħdu bilqegħda fuq il-kompjuter laptop tiegħi u tibda tippjana għall-esperjenza qima li jmiss fil-Knisja Requel.</td></tr>\n",
       "<tr><td>Mr Jürgen Stark will be responsible for the following areas: Economics; Information Systems.</td><td>Is-Sur Jürgen Stark se jkun responsabbli għal dawn l-oqsma: Ekonomija, Sistemi ta&#x27; l-Informatika.</td></tr>\n",
       "<tr><td>Games with Letter J | Play fast loading games Online Games, &quot; &quot; and webmaster content, free playing on freeonlinegamesplay247.com.</td><td>Logħob ma &#x27;J Ittra | Play fast logħob tat-tagħbija Online Games, &quot; &quot;U l-kontenut webmaster, playing b&#x27;xejn fuq freeonlinegamesplay247.com.</td></tr>\n",
       "<tr><td>You now have enough background to get the following cartoon:</td><td>Inti issa jkollhom l-isfond biżżejjed biex jiksbu l-cartoons li ġejjin:</td></tr>\n",
       "<tr><td>[×] Articles containing Urdu language text  (449 P) [×] Articles containing Uzbek language text  (1 P)</td><td>[×] Abbozzi taċ-ċinema  (2 P) [×] Artikli b&#x27;sezzjonijiet għall-espansjoni  (1 P)</td></tr>\n",
       "<tr><td>By collaborating with HTC, a global designer of smartphones and the world&#x27;s first company to launch Android-powered devices, SCE aims to deliver the PlayStation® experience to even more users around the world.</td><td>Billi tikkollabora ma HTC, disinjatur globali ta &#x27;smartphones u l-worldâ € TM s ewwel kumpanija li tniedi Android-powered mezzi, SCE għandha l-għan li jagħti l-PlayStationÂ ® esperjenza għall-utenti saħansitra aktar madwar id-dinja.</td></tr>\n",
       "<tr><td>2009, Free, my friend, package, school, thirst, stickers, to</td><td>2009, Ħieles, ħabib tiegħi, pakkett, iskola, għatx, stikers, biex</td></tr>\n",
       "<tr><td>Tags: 10 tips on healthy living, being overweight, glass of water, great health benefits, health issues, health issues and concerns, healthy, healthy life, healthy living, purposes in life</td><td>Tags: 10 tips fuq ħajja b&#x27;saħħithom, huma piż żejjed, ħġieġ ta &#x27;ilma, benefiċċji għas-saħħa kbira, kwistjonijiet ta &#x27;saħħa, kwistjonijiet ta &#x27;saħħa u tħassib, b&#x27;saħħithom, ħajja b&#x27;saħħithom, ħajja f&#x27;saħħitha, għanijiet fil-ħajja</td></tr>\n",
       "<tr><td>nahuatl languages - akolet</td><td>akolet - Maltais</td></tr>\n",
       "<tr><td>The truth is that was the name of my Level 10 Fighter in Dungeons and Dragons.</td><td>Il-verità hija li kien l-isem tal-Livell 10 tiegħi Fighter fil Dungeons u Dragons.</td></tr>\n",
       "<tr><td>So don&#x27;t blame us if some site you link to is bad or has stuff on it that offends you or your pets.</td><td>Allura ma tort magħna jekk xi sit inti link għal hi ħażina jew għandu Jittieħed fuqha li toffendi inti jew annimali domestiċi tiegħek.</td></tr></tbody></table>"
      ],
      "text/plain": [
       "<notebook.table at 0x11a303a00>"
      ]
     },
     "execution_count": 42,
     "metadata": {},
     "output_type": "execute_result"
    }
   ],
   "source": [
    "table({lang: tuv.text for lang, tuv in unit.translations.items()} for unit in outside)"
   ]
  },
  {
   "cell_type": "code",
   "execution_count": 53,
   "metadata": {
    "tags": []
   },
   "outputs": [
    {
     "data": {
      "text/html": [
       "<table><caption>Top domains of this collection inside Paracrawl 8 and missing from it.</caption><thead><tr><th>Paracrawl 8 domain</th><th>count</th><th>Missing domain</th><th>count</th></tr></thead><tbody><tr><td>flashgameport.com</td><td>68</td><td>thegreatestnetworker.org</td><td>73</td></tr>\n",
       "<tr><td>www.defensereview.com</td><td>43</td><td>shopate.com</td><td>48</td></tr>\n",
       "<tr><td>www.clearingexchange.com</td><td>41</td><td>ideonexus.com</td><td>32</td></tr>\n",
       "<tr><td>www.tinnitus-causes.net</td><td>26</td><td>hitechzilla.com</td><td>22</td></tr>\n",
       "<tr><td>www.xperteleven.com</td><td>17</td><td>leeroper.com</td><td>19</td></tr>\n",
       "<tr><td>www.ecb.int</td><td>16</td><td>innoexts.com</td><td>14</td></tr>\n",
       "<tr><td>www.your-free-cams.com</td><td>16</td><td>amazeall.com</td><td>11</td></tr>\n",
       "<tr><td>www.vipchatroulette.com</td><td>15</td><td>skolarbete.nu</td><td>9</td></tr>\n",
       "<tr><td>maltese.vipchatroulette.com</td><td>15</td><td>www.tinnitus-causes.net</td><td>9</td></tr>\n",
       "<tr><td>skolarbete.nu</td><td>14</td><td>free-money-making-reviews.com</td><td>8</td></tr>\n",
       "<tr><td>maltese.your-free-cams.com</td><td>13</td><td>creatingmybusinessonline.com</td><td>8</td></tr>\n",
       "<tr><td>blog.dedalusweb.net</td><td>12</td><td>forexinforeviews.com</td><td>7</td></tr>\n",
       "<tr><td>ec.europa.eu</td><td>11</td><td>greathealthylivingtips.com</td><td>6</td></tr>\n",
       "<tr><td>slim.lu</td><td>9</td><td>egratis.biz</td><td>6</td></tr>\n",
       "<tr><td>en.wikipedia.org</td><td>7</td><td>cool-video-games.net</td><td>5</td></tr>\n",
       "<tr><td>mt.wikipedia.org</td><td>7</td><td>coretechsg.com</td><td>5</td></tr>\n",
       "<tr><td>www.cropcirclesonline.com</td><td>6</td><td>themottes.com</td><td>4</td></tr>\n",
       "<tr><td>xooplate.com</td><td>6</td><td>www.culinaryguide101.com</td><td>4</td></tr>\n",
       "<tr><td>www.cam2camsite.com</td><td>6</td><td>daily-helper.com</td><td>4</td></tr>\n",
       "<tr><td>www.shiftplanning.com</td><td>5</td><td>www.adamflater.net</td><td>4</td></tr>\n",
       "<tr><td>mt.shiftplanning.com</td><td>5</td><td>mt.glosbe.com</td><td>4</td></tr>\n",
       "<tr><td>www.eea.europa.eu</td><td>5</td><td>pastors.com</td><td>4</td></tr>\n",
       "<tr><td>www.gamehuge.com</td><td>4</td><td>andeatingit2.com</td><td>4</td></tr>\n",
       "<tr><td>mt.zgamz.com</td><td>4</td><td>en.fortrader.ru</td><td>3</td></tr>\n",
       "<tr><td>konvertitur.kingconv.com</td><td>4</td><td>mt.fortrader.ru</td><td>3</td></tr>\n",
       "<tr><td>www.pindigit.com</td><td>4</td><td>hubskills.com</td><td>3</td></tr>\n",
       "<tr><td>en.zgamz.com</td><td>3</td><td>website-traffic-hog.com</td><td>2</td></tr>\n",
       "<tr><td>www.chatroulette.cz</td><td>2</td><td>blog.teamgrowth.net</td><td>2</td></tr>\n",
       "<tr><td>maltese.chatroulette.cz</td><td>2</td><td>jsstriplerteambuild.com</td><td>2</td></tr>\n",
       "<tr><td>www.freeonlinegamesplay247.com</td><td>2</td><td>www.gamehuge.com</td><td>2</td></tr>\n",
       "<tr><td>mt.freeonlinegamesplay247.com</td><td>2</td><td>www.paiamaui.com</td><td>2</td></tr>\n",
       "<tr><td>www.jeguit.com</td><td>2</td><td>www.mrcuz.com</td><td>2</td></tr>\n",
       "<tr><td>maltese.jeguit.com</td><td>2</td><td>www.internetphilippines.com</td><td>2</td></tr>\n",
       "<tr><td>europa.eu</td><td>2</td><td>www.totallyrandomhobbies.com</td><td>2</td></tr>\n",
       "<tr><td>www.successions-europe.eu</td><td>2</td><td>soldierseduction.com</td><td>2</td></tr>\n",
       "<tr><td>www.tungsten-jewellery.com</td><td>2</td><td>www.motiongraphicstutorials.com</td><td>2</td></tr>\n",
       "<tr><td>bisserjeta.com</td><td>2</td><td>themobile-casino.com</td><td>2</td></tr>\n",
       "<tr><td>converter.kingconv.com</td><td>2</td><td>lingohut.com</td><td>2</td></tr>\n",
       "<tr><td>eur-lex.europa.eu</td><td>2</td><td>www.mybloggingjourney.com</td><td>2</td></tr>\n",
       "<tr><td>kingconv.com</td><td>2</td><td>juegos40.com</td><td>2</td></tr>\n",
       "<tr><td>www.zhitov.ru</td><td>2</td><td>www.sihanoukvilleonline.com</td><td>2</td></tr>\n",
       "<tr><td>khurul.ru</td><td>2</td><td>iliveisl.com</td><td>2</td></tr>\n",
       "<tr><td>www.4teenschat.com</td><td>1</td><td>www.articledelux.com</td><td>2</td></tr>\n",
       "<tr><td>maltese.4teenschat.com</td><td>1</td><td>www.ipad3buy.net</td><td>2</td></tr>\n",
       "<tr><td>tw.zgamz.com</td><td>1</td><td>bodybuildtips.com</td><td>2</td></tr>\n",
       "<tr><td>mu.yayoye.com</td><td>1</td><td>scratchcards-online.eu</td><td>2</td></tr>\n",
       "<tr><td>mt.yayoye.com</td><td>1</td><td>eur-lex.europa.eu</td><td>2</td></tr>\n",
       "<tr><td>maltese.cam2camsite.com</td><td>1</td><td>teamgt.com</td><td>2</td></tr>\n",
       "<tr><td>www.chat-software.org</td><td>1</td><td>classifieds.westpalmbeach.com</td><td>2</td></tr>\n",
       "<tr><td>maltese.chat-software.org</td><td>1</td><td>momsaffiliatemarketing.com</td><td>2</td></tr></tbody></table>"
      ],
      "text/plain": [
       "<notebook.table at 0x11a7a60d0>"
      ]
     },
     "execution_count": 53,
     "metadata": {},
     "output_type": "execute_result"
    }
   ],
   "source": [
    "from itertools import chain\n",
    "\n",
    "table((list(chain(*row)) for row in zip(\n",
    "    Counter(domain(url) for unit in inside for url in urls(unit)).most_common(50),\n",
    "    Counter(domain(url) for unit in outside for url in urls(unit)).most_common(50)\n",
    ")), headers=['Paracrawl 8 domain', 'count', 'Missing domain', 'count'], title='Top domains of this collection inside Paracrawl 8 and missing from it.')"
   ]
  },
  {
   "cell_type": "code",
   "execution_count": 54,
   "metadata": {},
   "outputs": [],
   "source": [
    "inside_domains, outside_domains = Counter(), Counter()\n",
    "\n",
    "for unit in units:\n",
    "    if checksum(unit) in hashes['paracrawl-8']:\n",
    "        inside_domains.update(domain(url) for url in urls(unit))\n",
    "    else:\n",
    "        outside_domains.update(domain(url) for url in urls(unit))    \n",
    "        "
   ]
  },
  {
   "cell_type": "code",
   "execution_count": 55,
   "metadata": {},
   "outputs": [
    {
     "data": {
      "text/plain": [
       "(200, 533)"
      ]
     },
     "execution_count": 55,
     "metadata": {},
     "output_type": "execute_result"
    }
   ],
   "source": [
    "len(inside_domains), len(outside_domains)"
   ]
  },
  {
   "cell_type": "markdown",
   "metadata": {},
   "source": [
    "Domains that are both found on inside and outside sentence pairs are probably not filtered because of MT"
   ]
  },
  {
   "cell_type": "code",
   "execution_count": 58,
   "metadata": {},
   "outputs": [
    {
     "data": {
      "text/plain": [
       "173"
      ]
     },
     "execution_count": 58,
     "metadata": {},
     "output_type": "execute_result"
    }
   ],
   "source": [
    "len(set(inside_domains) & set(outside_domains))"
   ]
  },
  {
   "cell_type": "markdown",
   "metadata": {},
   "source": [
    "Domains that are outside, but not inside, could have been filtered due to MT"
   ]
  },
  {
   "cell_type": "code",
   "execution_count": 70,
   "metadata": {},
   "outputs": [
    {
     "data": {
      "text/plain": [
       "360"
      ]
     },
     "execution_count": 70,
     "metadata": {},
     "output_type": "execute_result"
    }
   ],
   "source": [
    "len(set(outside_domains) - set(inside_domains))"
   ]
  },
  {
   "cell_type": "markdown",
   "metadata": {},
   "source": [
    "Same for disjoint sets: completely inside or completely missing from Paracrawl 8."
   ]
  },
  {
   "cell_type": "code",
   "execution_count": 71,
   "metadata": {},
   "outputs": [
    {
     "data": {
      "text/plain": [
       "387"
      ]
     },
     "execution_count": 71,
     "metadata": {},
     "output_type": "execute_result"
    }
   ],
   "source": [
    "len(set(inside_domains) ^ set(outside_domains))"
   ]
  },
  {
   "cell_type": "markdown",
   "metadata": {},
   "source": [
    "# Filtered domains from logs\n",
    "I also still have the warc2text processing logs of this dataset. These contain all urls that got filtered. For easy usage, I'm going to collapse them to their domain, and then see how many of the domains in Paracrawl 7.1 and 8 are in this list of filtered domains.\n",
    "\n",
    "I assume the answer will be many and nearly none respectively. Maybe some will slip through for Paracrawl 8 because the MT filter works at a page level, not a domain level, and a domain could be a mix of MT and non-MT pages."
   ]
  },
  {
   "cell_type": "code",
   "execution_count": 60,
   "metadata": {},
   "outputs": [
    {
     "data": {
      "application/vnd.jupyter.widget-view+json": {
       "model_id": "a666dec5bb90490181ccf7f8227fcaf5",
       "version_major": 2,
       "version_minor": 0
      },
      "text/plain": [
       "en-mt.tmx.gz:   0%|          | 0.00/197M [00:00<?, ?b/s]"
      ]
     },
     "metadata": {},
     "output_type": "display_data"
    },
    {
     "data": {
      "application/vnd.jupyter.widget-view+json": {
       "model_id": "815c20d02ba247c6be513d4724ae23c1",
       "version_major": 2,
       "version_minor": 0
      },
      "text/plain": [
       "en-mt.cc-2016-30-cc-2017-30-cc-2018-30-cc-2019-18-cc-2019-35-gwb-hieu-marta-philipp-wide00006-wide00015.tmx.gz…"
      ]
     },
     "metadata": {},
     "output_type": "display_data"
    }
   ],
   "source": [
    "domains = {\n",
    "    dataset: Counter(domain(url) for unit in read(path) for url in urls(unit))\n",
    "    for dataset, path in files.items()\n",
    "}"
   ]
  },
  {
   "cell_type": "code",
   "execution_count": 76,
   "metadata": {},
   "outputs": [
    {
     "data": {
      "text/html": [
       "<table><thead><tr><th>dataset</th><th>domains</th></tr></thead><tbody><tr><td>paracrawl-7.1</td><td>6248521</td></tr>\n",
       "<tr><td>paracrawl-8</td><td>18489248</td></tr></tbody></table>"
      ],
      "text/plain": [
       "<notebook.table at 0x11a5809a0>"
      ]
     },
     "execution_count": 76,
     "metadata": {},
     "output_type": "execute_result"
    }
   ],
   "source": [
    "table({\n",
    "    'dataset': dataset,\n",
    "    'domains': sum(count for _, count in counter.items())\n",
    "} for dataset, counter in domains.items())"
   ]
  },
  {
   "cell_type": "markdown",
   "metadata": {},
   "source": [
    "That's the number of urls per domain. Now load in the list of filtered urls."
   ]
  },
  {
   "cell_type": "code",
   "execution_count": 61,
   "metadata": {},
   "outputs": [],
   "source": [
    "import gzip\n",
    "with gzip.open('warc2text-wide00006.urls.gz') as fh:\n",
    "    filtered_domains = set(domain(url.strip().decode()) for url in fh)"
   ]
  },
  {
   "cell_type": "code",
   "execution_count": 62,
   "metadata": {},
   "outputs": [
    {
     "data": {
      "text/html": [
       "<table><thead><tr><th>dataset</th><th>filtered domains</th><th>total domains</th><th>% of domains</th><th>filtered urls</th><th>total urls</th><th>% of urls</th></tr></thead><tbody><tr><td>paracrawl-7.1</td><td>309</td><td>2889</td><td>10.70%</td><td>557389</td><td>6248521</td><td>8.92%</td></tr>\n",
       "<tr><td>paracrawl-8</td><td>31</td><td>30543</td><td>0.10%</td><td>122893</td><td>18489248</td><td>0.66%</td></tr></tbody></table>"
      ],
      "text/plain": [
       "<notebook.table at 0x11a303d90>"
      ]
     },
     "execution_count": 62,
     "metadata": {},
     "output_type": "execute_result"
    }
   ],
   "source": [
    "def percentage(selection_label, selection, unit_label, total):\n",
    "    return {\n",
    "        f'{selection_label} {unit_label}': selection,\n",
    "        f'total {unit_label}': total,\n",
    "        f'% of {unit_label}': '{:0.2f}%'.format(selection / total * 100)\n",
    "    }\n",
    "\n",
    "table({\n",
    "    'dataset': dataset,\n",
    "    **percentage('filtered', len(set(counter) & filtered_domains), 'domains', len(counter)),\n",
    "    **percentage('filtered', sum(counter[url] for url in set(counter) & filtered_domains), 'urls', sum(counter[url] for url in counter))\n",
    "} for dataset, counter in domains.items())"
   ]
  },
  {
   "cell_type": "markdown",
   "metadata": {},
   "source": [
    "But this is when counting domains. More interesting is the number of units that are now filtered by the domain filter.\n",
    "\n",
    "I'm taking all units from Paracrawl 7.1 release that originated from Philipp's dataset, and marking them \"missing\" if they did not end up in Paracrawl 8. I'm also marking them \"filtered\" if they appeared in the filtered domain logs."
   ]
  },
  {
   "cell_type": "code",
   "execution_count": 63,
   "metadata": {},
   "outputs": [],
   "source": [
    "missing = [unit for unit in units if checksum(unit) not in hashes['paracrawl-8']]"
   ]
  },
  {
   "cell_type": "code",
   "execution_count": 64,
   "metadata": {},
   "outputs": [
    {
     "data": {
      "text/plain": [
       "0.9218583736656025"
      ]
     },
     "execution_count": 64,
     "metadata": {},
     "output_type": "execute_result"
    }
   ],
   "source": [
    "len(missing) / len(units)"
   ]
  },
  {
   "cell_type": "code",
   "execution_count": 65,
   "metadata": {},
   "outputs": [],
   "source": [
    "filtered = [unit for unit in units if all(domain(url) in filtered_domains for url in urls(unit))]"
   ]
  },
  {
   "cell_type": "code",
   "execution_count": 66,
   "metadata": {},
   "outputs": [
    {
     "data": {
      "text/plain": [
       "0.8181100470257097"
      ]
     },
     "execution_count": 66,
     "metadata": {},
     "output_type": "execute_result"
    }
   ],
   "source": [
    "len(filtered) / len(units)"
   ]
  },
  {
   "cell_type": "code",
   "execution_count": 67,
   "metadata": {},
   "outputs": [
    {
     "data": {
      "text/plain": [
       "0.8585072515033605"
      ]
     },
     "execution_count": 67,
     "metadata": {},
     "output_type": "execute_result"
    }
   ],
   "source": [
    "missing_set = {id(unit) for unit in missing}\n",
    "filtered_set = {id(unit) for unit in filtered}\n",
    "len(missing_set & filtered_set) / len(missing_set)"
   ]
  },
  {
   "cell_type": "code",
   "execution_count": 77,
   "metadata": {},
   "outputs": [
    {
     "data": {
      "text/plain": [
       "0.9673785348661575"
      ]
     },
     "execution_count": 77,
     "metadata": {},
     "output_type": "execute_result"
    }
   ],
   "source": [
    "len(missing_set & filtered_set) / len(filtered_set)"
   ]
  },
  {
   "cell_type": "code",
   "execution_count": 79,
   "metadata": {},
   "outputs": [],
   "source": [
    "unexplained_unit_ids = missing_set - filtered_set\n",
    "unexplained_units = [unit for unit in units if id(unit) in unexplained_unit_ids]"
   ]
  },
  {
   "cell_type": "code",
   "execution_count": 80,
   "metadata": {},
   "outputs": [],
   "source": [
    "domains['unexplained'] = Counter(domain(url) for unit in unexplained_units for url in urls(unit))"
   ]
  },
  {
   "cell_type": "code",
   "execution_count": 81,
   "metadata": {},
   "outputs": [
    {
     "data": {
      "text/html": [
       "<table><thead><tr><th>dataset</th><th>filtered domains</th><th>total domains</th><th>% of domains</th><th>filtered urls</th><th>total urls</th><th>% of urls</th></tr></thead><tbody><tr><td>paracrawl-7.1</td><td>309</td><td>2889</td><td>10.70%</td><td>557389</td><td>6248521</td><td>8.92%</td></tr>\n",
       "<tr><td>paracrawl-8</td><td>31</td><td>30543</td><td>0.10%</td><td>122893</td><td>18489248</td><td>0.66%</td></tr>\n",
       "<tr><td>unexplained</td><td>44</td><td>277</td><td>15.88%</td><td>3183</td><td>29676</td><td>10.73%</td></tr></tbody></table>"
      ],
      "text/plain": [
       "<notebook.table at 0x11b701e80>"
      ]
     },
     "execution_count": 81,
     "metadata": {},
     "output_type": "execute_result"
    }
   ],
   "source": [
    "table({\n",
    "    'dataset': dataset,\n",
    "    **percentage('filtered', len(set(counter) & filtered_domains), 'domains', len(counter)),\n",
    "    **percentage('filtered', sum(counter[url] for url in set(counter) & filtered_domains), 'urls', sum(counter[url] for url in counter))\n",
    "} for dataset, counter in domains.items())"
   ]
  },
  {
   "cell_type": "code",
   "execution_count": 82,
   "metadata": {},
   "outputs": [
    {
     "data": {
      "text/plain": [
       "0.6209386281588448"
      ]
     },
     "execution_count": 82,
     "metadata": {},
     "output_type": "execute_result"
    }
   ],
   "source": [
    "len(set(domains['unexplained']) & set(domains['paracrawl-8'])) / len(domains['unexplained'])"
   ]
  },
  {
   "cell_type": "markdown",
   "metadata": {},
   "source": [
    "## Domains that did not end up in Paracrawl 8\n",
    "These domains did not end up in Paracrawl 8, while they were in Paracrawl 7.1. They are also not filtered out by the MT filtering rules according to the warc2text log files. So what happened to them? Maybe low quality?"
   ]
  },
  {
   "cell_type": "code",
   "execution_count": 83,
   "metadata": {},
   "outputs": [
    {
     "data": {
      "text/html": [
       "<table><thead><tr><th>domain</th><th>unexplained</th><th>paracrawl-7.1</th><th>paracrawl-8</th></tr></thead><tbody><tr><td>aceinfowayindia.com</td><td>3459</td><td>3632</td><td>4</td></tr>\n",
       "<tr><td>mt.glosbe.com</td><td>2667</td><td>2757</td><td>14886</td></tr>\n",
       "<tr><td>www.sihanoukvilleonline.com</td><td>2214</td><td>2300</td><td>0</td></tr>\n",
       "<tr><td>konvertitur.kingconv.com</td><td>1875</td><td>3227</td><td>118733</td></tr>\n",
       "<tr><td>clanbase.ggl.com</td><td>1511</td><td>1511</td><td>0</td></tr>\n",
       "<tr><td>kingconv.com</td><td>1282</td><td>2013</td><td>166242</td></tr>\n",
       "<tr><td>mt.zgamz.com</td><td>1019</td><td>1267</td><td>3511</td></tr>\n",
       "<tr><td>en.zgamz.com</td><td>1003</td><td>1218</td><td>2982</td></tr>\n",
       "<tr><td>www.ecb.int</td><td>753</td><td>67535</td><td>6903</td></tr>\n",
       "<tr><td>converter.kingconv.com</td><td>651</td><td>1285</td><td>28376</td></tr>\n",
       "<tr><td>www.ipad3buy.net</td><td>607</td><td>3180</td><td>0</td></tr>\n",
       "<tr><td>dotnetasansol.com</td><td>590</td><td>606</td><td>0</td></tr>\n",
       "<tr><td>www.freeonlinegamesplay247.com</td><td>579</td><td>956</td><td>29978</td></tr>\n",
       "<tr><td>www.i1websifu.com</td><td>556</td><td>569</td><td>0</td></tr>\n",
       "<tr><td>mt.freeonlinegamesplay247.com</td><td>553</td><td>891</td><td>21310</td></tr></tbody></table>"
      ],
      "text/plain": [
       "<notebook.table at 0x11b701af0>"
      ]
     },
     "execution_count": 83,
     "metadata": {},
     "output_type": "execute_result"
    }
   ],
   "source": [
    "table({\n",
    "    'domain': d,\n",
    "    'unexplained': count, # pairs where all domains are filtered\n",
    "    'paracrawl-7.1': domains['paracrawl-7.1'][d], # pairs where at least some domains are filtered\n",
    "    'paracrawl-8': domains['paracrawl-8'][d] # pairs in latest release\n",
    "} for d, count in domains['unexplained'].most_common()[:15])"
   ]
  },
  {
   "cell_type": "code",
   "execution_count": null,
   "metadata": {},
   "outputs": [],
   "source": []
  }
 ],
 "metadata": {
  "kernelspec": {
   "display_name": "Python 3",
   "language": "python",
   "name": "python3"
  },
  "language_info": {
   "codemirror_mode": {
    "name": "ipython",
    "version": 3
   },
   "file_extension": ".py",
   "mimetype": "text/x-python",
   "name": "python",
   "nbconvert_exporter": "python",
   "pygments_lexer": "ipython3",
   "version": "3.9.2"
  }
 },
 "nbformat": 4,
 "nbformat_minor": 4
}
